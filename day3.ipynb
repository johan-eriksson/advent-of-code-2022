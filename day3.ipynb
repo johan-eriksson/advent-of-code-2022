{
 "cells": [
  {
   "cell_type": "code",
   "execution_count": 50,
   "metadata": {},
   "outputs": [
    {
     "data": {
      "text/plain": [
       "300-element Vector{String}:\n",
       " \"gtZDjBcmpcDgpZcmmbgtdtqmCGVCGGsvhCFCCqvmCMMM\"\n",
       " \"JrhfzfLTNfJhPnhQnfzHfCFFQFSGvMFCGQFsQSMSVs\"\n",
       " \"TllTRrfNNlfzwhtZBZgtRDBp\"\n",
       " \"vMdwjZdjwjvjdTZZvCcQMGnQMQcbcgLLCL\"\n",
       " \"rsVhfmssPWzDVGCLJSbCgPLSQG\"\n",
       " \"lfWNDHDgfszFRTFtwwNjdv\"\n",
       " \"GLPqVqdVGCLCdczjMjzMfzld\"\n",
       " \"JnWQvJDmvWBtlMzhrzfHQgcz\"\n",
       " \"tDtJDDDDtWRRmBwJwWtpPRsGCGScLPGSqspNCS\"\n",
       " \"ChVzZzfNDzNJmBQfjjJfmH\"\n",
       " ⋮\n",
       " \"lpmrPDPDjPlmWrVzPztZwFjtFbBnRtZbbcRL\"\n",
       " \"dnqJCCgQdNqbqRbRbBLt\"\n",
       " \"QGhGddGCTdMHNTGgshgJhzvSmWWPSsnprpPzWzsWlr\"\n",
       " \"hCJHTdJJNvTdSSNssjvfwgntwDgtgwDGCtZwtRRB\"\n",
       " \"mbllFmFMFbMVWWLpbpZwwBZTZnnVwnTggtDB\"\n",
       " \"MmzLQpFPTmPzHvfJNNzhNs\"\n",
       " \"dzgBwzlgrrBrVLLlwLBgBlgRScDMMDDswMsHZRGDsZGZmM\"\n",
       " \"HPfPbjCFJjCvfnnsjsDDcccmZsRSMc\"\n",
       " \"hCvHfWPPnvJhPWpqNNhqLqzLqLLd\""
      ]
     },
     "metadata": {},
     "output_type": "display_data"
    }
   ],
   "source": [
    "f = readlines(\"day3.input\")"
   ]
  },
  {
   "cell_type": "code",
   "execution_count": 16,
   "metadata": {},
   "outputs": [
    {
     "data": {
      "text/plain": [
       "get_compartments (generic function with 1 method)"
      ]
     },
     "metadata": {},
     "output_type": "display_data"
    }
   ],
   "source": [
    "function get_compartments(rucksack)\n",
    "    compartment_size = length(rucksack) ÷ 2\n",
    "    (rucksack[1:compartment_size], rucksack[compartment_size+1:end])\n",
    "end"
   ]
  },
  {
   "cell_type": "code",
   "execution_count": 29,
   "metadata": {},
   "outputs": [
    {
     "data": {
      "text/plain": [
       "shared_item (generic function with 2 methods)"
      ]
     },
     "metadata": {},
     "output_type": "display_data"
    }
   ],
   "source": [
    "function shared_item(compartments) #part1\n",
    "    for chr in compartments[1]\n",
    "        if contains(compartments[2], chr)\n",
    "            return chr\n",
    "        end\n",
    "    end\n",
    "end"
   ]
  },
  {
   "cell_type": "code",
   "execution_count": 52,
   "metadata": {},
   "outputs": [
    {
     "data": {
      "text/plain": [
       "shared_item (generic function with 2 methods)"
      ]
     },
     "metadata": {},
     "output_type": "display_data"
    }
   ],
   "source": [
    "function shared_item(compartments) #part2\n",
    "    for chr in compartments[1]\n",
    "        if contains(compartments[2], chr) && contains(compartments[3], chr)\n",
    "            return chr\n",
    "        end\n",
    "    end\n",
    "end"
   ]
  },
  {
   "cell_type": "code",
   "execution_count": 39,
   "metadata": {},
   "outputs": [
    {
     "data": {
      "text/plain": [
       "get_score (generic function with 1 method)"
      ]
     },
     "metadata": {},
     "output_type": "display_data"
    }
   ],
   "source": [
    "function get_score(chr)\n",
    "    if(islowercase(chr))\n",
    "        return Int64(chr) - 96\n",
    "    end\n",
    "    return Int64(chr) -38\n",
    "end"
   ]
  },
  {
   "cell_type": "code",
   "execution_count": 46,
   "metadata": {},
   "outputs": [
    {
     "data": {
      "text/plain": [
       "group (generic function with 1 method)"
      ]
     },
     "metadata": {},
     "output_type": "display_data"
    }
   ],
   "source": [
    "function group(f)\n",
    "    groups = []\n",
    "    for i in 1:3:length(f)\n",
    "        push!(groups, (f[i], f[i+1], f[i+2]))\n",
    "    end\n",
    "    groups\n",
    "end\n"
   ]
  },
  {
   "cell_type": "code",
   "execution_count": 42,
   "metadata": {},
   "outputs": [
    {
     "data": {
      "text/plain": [
       "8394"
      ]
     },
     "metadata": {},
     "output_type": "display_data"
    }
   ],
   "source": [
    "sum(get_score.(shared_item.(get_compartments.(f)))) #part1"
   ]
  },
  {
   "cell_type": "code",
   "execution_count": 53,
   "metadata": {},
   "outputs": [
    {
     "data": {
      "text/plain": [
       "2413"
      ]
     },
     "metadata": {},
     "output_type": "display_data"
    }
   ],
   "source": [
    "sum(get_score.(shared_item.(group(f)))) #part2"
   ]
  }
 ],
 "metadata": {
  "kernelspec": {
   "display_name": "Julia 1.8.3",
   "language": "julia",
   "name": "julia-1.8"
  },
  "language_info": {
   "file_extension": ".jl",
   "mimetype": "application/julia",
   "name": "julia",
   "version": "1.8.3"
  },
  "orig_nbformat": 4,
  "vscode": {
   "interpreter": {
    "hash": "a927d3b3a8556dee8e056d2355b59c9c86f8ba8aa64c851cc533da699ac13d07"
   }
  }
 },
 "nbformat": 4,
 "nbformat_minor": 2
}
