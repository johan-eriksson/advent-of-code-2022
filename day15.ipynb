{
 "cells": [
  {
   "cell_type": "code",
   "execution_count": 36,
   "metadata": {},
   "outputs": [],
   "source": [
    "using Test"
   ]
  },
  {
   "cell_type": "code",
   "execution_count": 37,
   "metadata": {},
   "outputs": [],
   "source": [
    "f = readlines(\"day15.input\");"
   ]
  },
  {
   "cell_type": "code",
   "execution_count": 38,
   "metadata": {},
   "outputs": [
    {
     "data": {
      "text/plain": [
       "parse_coord (generic function with 1 method)"
      ]
     },
     "metadata": {},
     "output_type": "display_data"
    }
   ],
   "source": [
    "function parse_coord(str)\n",
    "    x = parse(Int64, first(split(str[findfirst('x', str)+2:end], \",\")))\n",
    "    y = parse(Int64, first(split(str[findfirst('y', str)+2:end], \",\")))\n",
    "    (x, y)\n",
    "end"
   ]
  },
  {
   "cell_type": "code",
   "execution_count": 39,
   "metadata": {},
   "outputs": [
    {
     "data": {
      "text/plain": [
       "parse_input (generic function with 1 method)"
      ]
     },
     "metadata": {},
     "output_type": "display_data"
    }
   ],
   "source": [
    "function parse_input(input)\n",
    "    pairs = []\n",
    "    for line in input\n",
    "        sensor, beacon = split(line, \":\")\n",
    "        push!(pairs, (parse_coord(sensor), parse_coord(beacon)))\n",
    "    end\n",
    "    pairs\n",
    "end"
   ]
  },
  {
   "cell_type": "code",
   "execution_count": 40,
   "metadata": {},
   "outputs": [
    {
     "data": {
      "text/plain": [
       "dist (generic function with 1 method)"
      ]
     },
     "metadata": {},
     "output_type": "display_data"
    }
   ],
   "source": [
    "function dist(p1, p2)\n",
    "    abs(p1[1] - p2[1]) + abs(p1[2] - p2[2])\n",
    "end"
   ]
  },
  {
   "cell_type": "code",
   "execution_count": 41,
   "metadata": {},
   "outputs": [
    {
     "data": {
      "text/plain": [
       "\u001b[32m\u001b[1mTest Passed\u001b[22m\u001b[39m"
      ]
     },
     "metadata": {},
     "output_type": "display_data"
    }
   ],
   "source": [
    "function get_points_on_circle(pos, r)\n",
    "    points = Set()\n",
    "\n",
    "    x, y = pos\n",
    "    for i=0:r\n",
    "        push!(points, (x+r-i, y+i))\n",
    "        push!(points, (x-r+i, y-i))\n",
    "        push!(points, (x-i, y+r-i))\n",
    "        push!(points, (x+i, y-r+i))\n",
    "    end\n",
    "\n",
    "    points\n",
    "end\n",
    "\n",
    "@test length(get_points_on_circle((0, 0), 10)) == 40"
   ]
  },
  {
   "cell_type": "code",
   "execution_count": 42,
   "metadata": {},
   "outputs": [
    {
     "data": {
      "text/plain": [
       "solve_part_1 (generic function with 1 method)"
      ]
     },
     "metadata": {},
     "output_type": "display_data"
    }
   ],
   "source": [
    "function solve_part_1(input, row)\n",
    "    pairs = parse_input(input)\n",
    "\n",
    "    detected = Set()\n",
    "    beacons_on_row = Set() \n",
    "    radii = Dict()\n",
    "    for (sensor, beacon) in pairs\n",
    "        if beacon[2] == row\n",
    "            push!(detected, beacon[1])\n",
    "            push!(beacons_on_row, beacon[1])\n",
    "        end\n",
    "\n",
    "        radius = dist(sensor, beacon)\n",
    "        radii[sensor] = radius\n",
    "    end\n",
    "\n",
    "    for (pos, r) in radii\n",
    "        x, y = pos\n",
    "        if y + r < row || y - r > row\n",
    "            continue\n",
    "        end\n",
    "\n",
    "        push!(detected, x)\n",
    "        i = 1\n",
    "        while dist(pos, (x+i, row)) <= r\n",
    "            push!(detected, x-i)\n",
    "            push!(detected, x+i)\n",
    "            i += 1\n",
    "        end\n",
    "    end\n",
    "\n",
    "    length(detected) - length(beacons_on_row)\n",
    "end"
   ]
  },
  {
   "cell_type": "code",
   "execution_count": 43,
   "metadata": {},
   "outputs": [
    {
     "data": {
      "text/plain": [
       "in_range (generic function with 1 method)"
      ]
     },
     "metadata": {},
     "output_type": "display_data"
    }
   ],
   "source": [
    "function in_range(x, y, radii)\n",
    "    for (pos, r) in radii\n",
    "        if dist(pos, (x, y)) <= r\n",
    "            return true\n",
    "        end\n",
    "    end\n",
    "\n",
    "    return false\n",
    "end"
   ]
  },
  {
   "cell_type": "code",
   "execution_count": 44,
   "metadata": {},
   "outputs": [
    {
     "data": {
      "text/plain": [
       "find_beacon (generic function with 1 method)"
      ]
     },
     "metadata": {},
     "output_type": "display_data"
    }
   ],
   "source": [
    "function find_beacon(pairs, limit)\n",
    "    radii = Dict()\n",
    "    beacons = pairs[2]\n",
    "    for (sensor, beacon) in pairs\n",
    "        radius = dist(sensor, beacon)\n",
    "        radii[sensor] = radius\n",
    "    end\n",
    "\n",
    "    r2 = 1\n",
    "    while true\n",
    "        for (pos, r) in radii\n",
    "            for (x, y) in get_points_on_circle(pos, r + r2)\n",
    "                if x>=0 && x <=limit && y>=0 && y <=limit\n",
    "                    if (x, y) ∉ beacons && !in_range(x, y, radii)\n",
    "                        return (x, y)\n",
    "                    end\n",
    "                end\n",
    "            end\n",
    "        end\n",
    "        r2 += 1\n",
    "    end\n",
    "end"
   ]
  },
  {
   "cell_type": "code",
   "execution_count": 45,
   "metadata": {},
   "outputs": [
    {
     "data": {
      "text/plain": [
       "solve_part_2 (generic function with 1 method)"
      ]
     },
     "metadata": {},
     "output_type": "display_data"
    }
   ],
   "source": [
    "function solve_part_2(input, limit)\n",
    "    pairs = parse_input(input)\n",
    "    pos = find_beacon(pairs, limit)\n",
    "\n",
    "    pos[1] * 4000000 + pos[2]\n",
    "end"
   ]
  },
  {
   "cell_type": "code",
   "execution_count": 46,
   "metadata": {},
   "outputs": [
    {
     "data": {
      "text/plain": [
       "\u001b[32m\u001b[1mTest Passed\u001b[22m\u001b[39m"
      ]
     },
     "metadata": {},
     "output_type": "display_data"
    }
   ],
   "source": [
    "@test solve_part_1(String.(split(\"Sensor at x=2, y=18: closest beacon is at x=-2, y=15\n",
    "Sensor at x=9, y=16: closest beacon is at x=10, y=16\n",
    "Sensor at x=13, y=2: closest beacon is at x=15, y=3\n",
    "Sensor at x=12, y=14: closest beacon is at x=10, y=16\n",
    "Sensor at x=10, y=20: closest beacon is at x=10, y=16\n",
    "Sensor at x=14, y=17: closest beacon is at x=10, y=16\n",
    "Sensor at x=8, y=7: closest beacon is at x=2, y=10\n",
    "Sensor at x=2, y=0: closest beacon is at x=2, y=10\n",
    "Sensor at x=0, y=11: closest beacon is at x=2, y=10\n",
    "Sensor at x=20, y=14: closest beacon is at x=25, y=17\n",
    "Sensor at x=17, y=20: closest beacon is at x=21, y=22\n",
    "Sensor at x=16, y=7: closest beacon is at x=15, y=3\n",
    "Sensor at x=14, y=3: closest beacon is at x=15, y=3\n",
    "Sensor at x=20, y=1: closest beacon is at x=15, y=3\", \"\\n\")), 10) == 26\n"
   ]
  },
  {
   "cell_type": "code",
   "execution_count": 47,
   "metadata": {},
   "outputs": [
    {
     "data": {
      "text/plain": [
       "\u001b[32m\u001b[1mTest Passed\u001b[22m\u001b[39m"
      ]
     },
     "metadata": {},
     "output_type": "display_data"
    }
   ],
   "source": [
    "@test solve_part_2(String.(split(\"Sensor at x=2, y=18: closest beacon is at x=-2, y=15\n",
    "Sensor at x=9, y=16: closest beacon is at x=10, y=16\n",
    "Sensor at x=13, y=2: closest beacon is at x=15, y=3\n",
    "Sensor at x=12, y=14: closest beacon is at x=10, y=16\n",
    "Sensor at x=10, y=20: closest beacon is at x=10, y=16\n",
    "Sensor at x=14, y=17: closest beacon is at x=10, y=16\n",
    "Sensor at x=8, y=7: closest beacon is at x=2, y=10\n",
    "Sensor at x=2, y=0: closest beacon is at x=2, y=10\n",
    "Sensor at x=0, y=11: closest beacon is at x=2, y=10\n",
    "Sensor at x=20, y=14: closest beacon is at x=25, y=17\n",
    "Sensor at x=17, y=20: closest beacon is at x=21, y=22\n",
    "Sensor at x=16, y=7: closest beacon is at x=15, y=3\n",
    "Sensor at x=14, y=3: closest beacon is at x=15, y=3\n",
    "Sensor at x=20, y=1: closest beacon is at x=15, y=3\", \"\\n\")), 20) == 56000011"
   ]
  },
  {
   "cell_type": "code",
   "execution_count": 48,
   "metadata": {},
   "outputs": [
    {
     "data": {
      "text/plain": [
       "(5832528, 13360899249595)"
      ]
     },
     "metadata": {},
     "output_type": "display_data"
    }
   ],
   "source": [
    "(solve_part_1(f, 2000000), solve_part_2(f, 4000000))"
   ]
  }
 ],
 "metadata": {
  "kernelspec": {
   "display_name": "Julia 1.8.3",
   "language": "julia",
   "name": "julia-1.8"
  },
  "language_info": {
   "file_extension": ".jl",
   "mimetype": "application/julia",
   "name": "julia",
   "version": "1.8.3"
  },
  "orig_nbformat": 4,
  "vscode": {
   "interpreter": {
    "hash": "a927d3b3a8556dee8e056d2355b59c9c86f8ba8aa64c851cc533da699ac13d07"
   }
  }
 },
 "nbformat": 4,
 "nbformat_minor": 2
}
