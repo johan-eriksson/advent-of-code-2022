{
 "cells": [
  {
   "cell_type": "code",
   "execution_count": 7,
   "metadata": {},
   "outputs": [],
   "source": [
    "using Test"
   ]
  },
  {
   "cell_type": "code",
   "execution_count": 8,
   "metadata": {},
   "outputs": [
    {
     "data": {
      "text/plain": [
       "\"bjbffsfnsnppzpphvhjvjtjmjwjrjdjffwrfrvvrqrrqwrrqpqhqnnddvccrbbwcwbcbclclhlzlznntrrzffctcggzqgqtgqtgtrgttlhttgstgtsgsfsnsddsvdsvddrzrvrnvnrvnrnmrrvfvbfbnbmmtbbgpgtptjptpctpccmccgbccqbcqczqccdssfqfzzjgzzvcvgggrjggncgctgtjjpttqtrrvmrvmmzzfcffpgfgfqggbwgghcctllfhlffbbcffspf\" ⋯ 3555 bytes ⋯ \"fmlqztvrqdzfqjpdhttgshjwffdcchmvrwmblpzffbgwrgnqhhvvsvlwnzmmhjwrszpfdsncjwllrnzrsfjsrdgnrbjqlrvpmzbstlqdznhjgbslzmplnqprwqgddjlwzbtrmfsfdlggddqrccztjffvbnsmfdzdhrgsflffmmjtjlbtnfcwhwzdsnbbphbjlrfrddbpncjrtglsnrppdbznrbjqqzdswnhvssffhjzrwnmlvmwmljnhtsnplpjdjpqzbbmzzfcmpm\""
      ]
     },
     "metadata": {},
     "output_type": "display_data"
    }
   ],
   "source": [
    "f = readline(\"day6.input\")"
   ]
  },
  {
   "cell_type": "code",
   "execution_count": 9,
   "metadata": {},
   "outputs": [
    {
     "data": {
      "text/plain": [
       "is_all_distinct (generic function with 1 method)"
      ]
     },
     "metadata": {},
     "output_type": "display_data"
    }
   ],
   "source": [
    "function is_all_distinct(arr)\n",
    "    length(Set(arr)) == length(arr)\n",
    "end"
   ]
  },
  {
   "cell_type": "code",
   "execution_count": 10,
   "metadata": {},
   "outputs": [
    {
     "data": {
      "text/plain": [
       "(1757, 2950)"
      ]
     },
     "metadata": {},
     "output_type": "display_data"
    }
   ],
   "source": [
    "function solve(message, num_distinct_characters)\n",
    "    recent = Vector{Char}()\n",
    "    for (index, chr) in enumerate(message)\n",
    "        if index < num_distinct_characters+1\n",
    "            push!(recent, chr)\n",
    "            continue\n",
    "        end\n",
    "        popfirst!(recent)\n",
    "        push!(recent, chr)\n",
    "        if is_all_distinct(recent)\n",
    "            return index\n",
    "        end\n",
    "    end\n",
    "\n",
    "    -1\n",
    "end\n",
    "\n",
    "(solve(f, 4), solve(f, 14))"
   ]
  },
  {
   "cell_type": "code",
   "execution_count": 11,
   "metadata": {},
   "outputs": [
    {
     "name": "stdout",
     "output_type": "stream",
     "text": [
      "\u001b[0m\u001b[1mTest Summary:   | \u001b[22m\u001b[32m\u001b[1mPass  \u001b[22m\u001b[39m\u001b[36m\u001b[1mTotal  \u001b[22m\u001b[39m\u001b[0m\u001b[1mTime\u001b[22m\n",
      "Part 1 examples | \u001b[32m   5  \u001b[39m\u001b[36m    5  \u001b[39m\u001b[0m0.0s\n"
     ]
    },
    {
     "data": {
      "text/plain": [
       "Test.DefaultTestSet(\"Part 1 examples\", Any[], 5, false, false, true, 1.67108752271e9, 1.67108752271e9)"
      ]
     },
     "metadata": {},
     "output_type": "display_data"
    }
   ],
   "source": [
    "@testset \"Part 1 examples\" begin\n",
    "    @test solve(\"mjqjpqmgbljsphdztnvjfqwrcgsmlb\", 4) == 7\n",
    "    @test solve(\"bvwbjplbgvbhsrlpgdmjqwftvncz\", 4) == 5\n",
    "    @test solve(\"nppdvjthqldpwncqszvftbrmjlhg\", 4) == 6\n",
    "    @test solve(\"nznrnfrfntjfmvfwmzdfjlvtqnbhcprsg\", 4) == 10\n",
    "    @test solve(\"zcfzfwzzqfrljwzlrfnpqdbhtmscgvjw\", 4) == 11\n",
    "end"
   ]
  },
  {
   "cell_type": "code",
   "execution_count": 12,
   "metadata": {},
   "outputs": [
    {
     "name": "stdout",
     "output_type": "stream",
     "text": [
      "\u001b[0m\u001b[1mTest Summary:   | \u001b[22m\u001b[32m\u001b[1mPass  \u001b[22m\u001b[39m\u001b[36m\u001b[1mTotal  \u001b[22m\u001b[39m\u001b[0m\u001b[1mTime\u001b[22m\n",
      "Part 2 examples | \u001b[32m   5  \u001b[39m\u001b[36m    5  \u001b[39m\u001b[0m0.0s\n"
     ]
    },
    {
     "data": {
      "text/plain": [
       "Test.DefaultTestSet(\"Part 2 examples\", Any[], 5, false, false, true, 1.671087522765e9, 1.671087522765e9)"
      ]
     },
     "metadata": {},
     "output_type": "display_data"
    }
   ],
   "source": [
    "@testset \"Part 2 examples\" begin\n",
    "    @test solve(\"mjqjpqmgbljsphdztnvjfqwrcgsmlb\", 14) == 19\n",
    "    @test solve(\"bvwbjplbgvbhsrlpgdmjqwftvncz\", 14) == 23\n",
    "    @test solve(\"nppdvjthqldpwncqszvftbrmjlhg\", 14) == 23\n",
    "    @test solve(\"nznrnfrfntjfmvfwmzdfjlvtqnbhcprsg\", 14) == 29\n",
    "    @test solve(\"zcfzfwzzqfrljwzlrfnpqdbhtmscgvjw\", 14) == 26\n",
    "end"
   ]
  }
 ],
 "metadata": {
  "kernelspec": {
   "display_name": "Julia 1.8.3",
   "language": "julia",
   "name": "julia-1.8"
  },
  "language_info": {
   "file_extension": ".jl",
   "mimetype": "application/julia",
   "name": "julia",
   "version": "1.8.3"
  },
  "orig_nbformat": 4,
  "vscode": {
   "interpreter": {
    "hash": "a927d3b3a8556dee8e056d2355b59c9c86f8ba8aa64c851cc533da699ac13d07"
   }
  }
 },
 "nbformat": 4,
 "nbformat_minor": 2
}
