{
 "cells": [
  {
   "cell_type": "code",
   "execution_count": 118,
   "metadata": {},
   "outputs": [
    {
     "data": {
      "text/plain": [
       "parse_stacks (generic function with 1 method)"
      ]
     },
     "metadata": {},
     "output_type": "display_data"
    }
   ],
   "source": [
    "function parse_stacks(io)\n",
    "    stacks = Vector{Vector{Char}}()\n",
    "    i = 1\n",
    "    line = readline(io)\n",
    "    num_stacks = (length(line)+1) ÷ 4\n",
    "    for _ in 1:num_stacks\n",
    "        push!(stacks, Vector{Char}())\n",
    "    end\n",
    "    while !startswith(line, \" 1\")\n",
    "        for (index, position) in enumerate(2:4:4*num_stacks)\n",
    "            cargo = line[position]\n",
    "            if cargo != ' '\n",
    "                pushfirst!(stacks[index], (cargo))\n",
    "            end\n",
    "        end\n",
    "        i += 1\n",
    "        line = readline(io)\n",
    "    end\n",
    "\n",
    "    stacks\n",
    "end"
   ]
  },
  {
   "cell_type": "code",
   "execution_count": 119,
   "metadata": {},
   "outputs": [
    {
     "data": {
      "text/plain": [
       "parse_instructions (generic function with 1 method)"
      ]
     },
     "metadata": {},
     "output_type": "display_data"
    }
   ],
   "source": [
    "function parse_instructions(io)\n",
    "    readline(io)\n",
    "    instructions = []\n",
    "    for line in readlines(io)\n",
    "        splits = split(line, ' ')\n",
    "        amount = parse(Int64, splits[2])\n",
    "        from = parse(Int64, splits[4])\n",
    "        to = parse(Int64, splits[6])\n",
    "        push!(instructions, (amount, from, to))\n",
    "    end\n",
    "    instructions\n",
    "end"
   ]
  },
  {
   "cell_type": "code",
   "execution_count": 120,
   "metadata": {},
   "outputs": [
    {
     "data": {
      "text/plain": [
       "502-element Vector{Any}:\n",
       " (3, 1, 2)\n",
       " (1, 7, 1)\n",
       " (1, 6, 5)\n",
       " (5, 5, 9)\n",
       " (2, 5, 2)\n",
       " (1, 6, 8)\n",
       " (1, 5, 7)\n",
       " (5, 4, 6)\n",
       " (1, 7, 6)\n",
       " (1, 2, 4)\n",
       " ⋮\n",
       " (3, 1, 7)\n",
       " (10, 8, 6)\n",
       " (4, 8, 5)\n",
       " (3, 4, 3)\n",
       " (3, 3, 4)\n",
       " (1, 9, 8)\n",
       " (2, 7, 2)\n",
       " (1, 2, 1)\n",
       " (4, 9, 3)"
      ]
     },
     "metadata": {},
     "output_type": "display_data"
    }
   ],
   "source": [
    "open(\"day5.input\", \"r\") do f\n",
    "    global stacks = parse_stacks(f)\n",
    "    global instructions = parse_instructions(f)\n",
    "end"
   ]
  },
  {
   "cell_type": "code",
   "execution_count": 121,
   "metadata": {},
   "outputs": [
    {
     "data": {
      "text/plain": [
       "\"GRTSWNJHH\""
      ]
     },
     "metadata": {},
     "output_type": "display_data"
    }
   ],
   "source": [
    "for instruction in instructions\n",
    "    amount, from, to = instruction\n",
    "    for _ in 1:amount\n",
    "        cargo = pop!(stacks[from])\n",
    "        push!(stacks[to], cargo)\n",
    "    end\n",
    "end\n",
    "\n",
    "part1 = join(last.(stacks))\n"
   ]
  },
  {
   "cell_type": "code",
   "execution_count": 122,
   "metadata": {},
   "outputs": [
    {
     "data": {
      "text/plain": [
       "502-element Vector{Any}:\n",
       " (3, 1, 2)\n",
       " (1, 7, 1)\n",
       " (1, 6, 5)\n",
       " (5, 5, 9)\n",
       " (2, 5, 2)\n",
       " (1, 6, 8)\n",
       " (1, 5, 7)\n",
       " (5, 4, 6)\n",
       " (1, 7, 6)\n",
       " (1, 2, 4)\n",
       " ⋮\n",
       " (3, 1, 7)\n",
       " (10, 8, 6)\n",
       " (4, 8, 5)\n",
       " (3, 4, 3)\n",
       " (3, 3, 4)\n",
       " (1, 9, 8)\n",
       " (2, 7, 2)\n",
       " (1, 2, 1)\n",
       " (4, 9, 3)"
      ]
     },
     "metadata": {},
     "output_type": "display_data"
    }
   ],
   "source": [
    "open(\"day5.input\", \"r\") do f\n",
    "    global stacks = parse_stacks(f)\n",
    "    global instructions = parse_instructions(f)\n",
    "end"
   ]
  },
  {
   "cell_type": "code",
   "execution_count": 123,
   "metadata": {},
   "outputs": [
    {
     "data": {
      "text/plain": [
       "\"QLFQDBBHM\""
      ]
     },
     "metadata": {},
     "output_type": "display_data"
    }
   ],
   "source": [
    "for instruction in instructions\n",
    "    amount, from, to = instruction\n",
    "    crane_load = []\n",
    "    for _ in 1:amount\n",
    "        cargo = pop!(stacks[from])\n",
    "        pushfirst!(crane_load, cargo)\n",
    "    end\n",
    "    for cargo in crane_load\n",
    "        push!(stacks[to], cargo)\n",
    "    end\n",
    "end\n",
    "\n",
    "part2 = join(last.(stacks))\n"
   ]
  }
 ],
 "metadata": {
  "kernelspec": {
   "display_name": "Julia 1.8.3",
   "language": "julia",
   "name": "julia-1.8"
  },
  "language_info": {
   "file_extension": ".jl",
   "mimetype": "application/julia",
   "name": "julia",
   "version": "1.8.3"
  },
  "orig_nbformat": 4,
  "vscode": {
   "interpreter": {
    "hash": "a927d3b3a8556dee8e056d2355b59c9c86f8ba8aa64c851cc533da699ac13d07"
   }
  }
 },
 "nbformat": 4,
 "nbformat_minor": 2
}
