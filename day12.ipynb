{
 "cells": [
  {
   "cell_type": "code",
   "execution_count": 96,
   "metadata": {},
   "outputs": [],
   "source": [
    "using Test"
   ]
  },
  {
   "cell_type": "code",
   "execution_count": 97,
   "metadata": {},
   "outputs": [],
   "source": [
    "f = readlines(\"day12.input\");"
   ]
  },
  {
   "cell_type": "code",
   "execution_count": 98,
   "metadata": {},
   "outputs": [
    {
     "data": {
      "text/plain": [
       "\u001b[32m\u001b[1mTest Passed\u001b[22m\u001b[39m"
      ]
     },
     "metadata": {},
     "output_type": "display_data"
    }
   ],
   "source": [
    "function parse_input(input)\n",
    "    width = length(first(input))\n",
    "    height = length(input)\n",
    "    start_pos, end_pos = 0,0\n",
    "    locations = Vector{Int64}()\n",
    "\n",
    "    for (y, line) in enumerate(input)\n",
    "        for (x, chr) in enumerate(line)\n",
    "            idx = (y-1) * width + x\n",
    "            if chr == 'S'\n",
    "                push!(locations, Int('a'))\n",
    "                start_pos = idx\n",
    "            elseif chr == 'E'\n",
    "                push!(locations, Int('z'))\n",
    "                end_pos = idx\n",
    "            else\n",
    "                push!(locations, Int(chr))\n",
    "            end\n",
    "        end\n",
    "    end\n",
    "\n",
    "    (locations, (width, height), (start_pos, end_pos))\n",
    "end\n",
    "\n",
    "@test parse_input(String.(split(\"Sabqponm\n",
    "abcryxxl\n",
    "accszExk\n",
    "acctuvwj\n",
    "abdefghi\", \"\\n\")))[2] == (8, 5)\n",
    "\n",
    "@test parse_input(String.(split(\"Sabqponm\n",
    "abcryxxl\n",
    "accszExk\n",
    "acctuvwj\n",
    "abdefghi\", \"\\n\")))[3] == (1, 22)"
   ]
  },
  {
   "cell_type": "code",
   "execution_count": 99,
   "metadata": {},
   "outputs": [
    {
     "data": {
      "text/plain": [
       "\u001b[32m\u001b[1mTest Passed\u001b[22m\u001b[39m"
      ]
     },
     "metadata": {},
     "output_type": "display_data"
    }
   ],
   "source": [
    "function adj(location, grid_size)\n",
    "    width, height = grid_size\n",
    "    lowest, highest = 1, width*height\n",
    "\n",
    "    candidates = [location - 1, location + 1, location + width, location - width]\n",
    "    [x for x in candidates if x >= lowest && x <=highest]\n",
    "end\n",
    "\n",
    "@test adj(1, (4, 4)) == [2, 5]\n",
    "@test adj(2, (4, 4)) == [1, 3, 6]\n",
    "@test adj(6, (4, 4)) == [5, 7, 10, 2]\n",
    "@test adj(15, (4, 4)) == [14, 16, 11]\n",
    "@test adj(16, (4, 4)) == [15, 12]\n"
   ]
  },
  {
   "cell_type": "code",
   "execution_count": 100,
   "metadata": {},
   "outputs": [
    {
     "data": {
      "text/plain": [
       "build_possible_targets (generic function with 1 method)"
      ]
     },
     "metadata": {},
     "output_type": "display_data"
    }
   ],
   "source": [
    "function build_possible_targets(locations, grid_size)\n",
    "    possible_targets = Dict{Int64, Vector{Int64}}()\n",
    "    for (idx, height) in enumerate(locations)\n",
    "        possible = Vector{Int64}()\n",
    "\n",
    "        for adj_idx in adj(idx, grid_size)\n",
    "            if locations[adj_idx] <= height + 1\n",
    "                push!(possible, adj_idx)\n",
    "            end\n",
    "        end\n",
    "\n",
    "        possible_targets[idx] = possible\n",
    "    end\n",
    "\n",
    "    possible_targets\n",
    "end"
   ]
  },
  {
   "cell_type": "code",
   "execution_count": 101,
   "metadata": {},
   "outputs": [
    {
     "data": {
      "text/plain": [
       "shortest_path (generic function with 1 method)"
      ]
     },
     "metadata": {},
     "output_type": "display_data"
    }
   ],
   "source": [
    "function shortest_path(start, target, possible_targets)\n",
    "    queue = Vector{Int64}()\n",
    "    visited = [false for _=1:length(possible_targets)]\n",
    "    dist = [Inf for _=1:length(possible_targets)]\n",
    "\n",
    "    push!(queue, start)\n",
    "    visited[start] = true;\n",
    "    dist[start] = 0;\n",
    "\n",
    "    while length(queue) > 0\n",
    "        next = popfirst!(queue)\n",
    "        for possible_target in possible_targets[next]\n",
    "            if !visited[possible_target]\n",
    "                visited[possible_target] = true\n",
    "                dist[possible_target] = dist[next] + 1;\n",
    "                if (possible_target == target)\n",
    "                    break\n",
    "                end\n",
    "                push!(queue, possible_target)\n",
    "            end\n",
    "        end\n",
    "    end\n",
    "    dist[target]\n",
    "end"
   ]
  },
  {
   "cell_type": "code",
   "execution_count": 102,
   "metadata": {},
   "outputs": [
    {
     "data": {
      "text/plain": [
       "solve_part_1 (generic function with 1 method)"
      ]
     },
     "metadata": {},
     "output_type": "display_data"
    }
   ],
   "source": [
    "function solve_part_1(input)\n",
    "    locations, grid_size, route = parse_input(input)\n",
    "    possible_targets = build_possible_targets(locations, grid_size)\n",
    "    \n",
    "    shortest_path(route[1], route[2], possible_targets)\n",
    "end"
   ]
  },
  {
   "cell_type": "code",
   "execution_count": 103,
   "metadata": {},
   "outputs": [
    {
     "data": {
      "text/plain": [
       "solve_part_2 (generic function with 1 method)"
      ]
     },
     "metadata": {},
     "output_type": "display_data"
    }
   ],
   "source": [
    "function solve_part_2(input)\n",
    "    locations, grid_size, route = parse_input(input)\n",
    "    available_starts = []\n",
    "    for (idx, loc) in enumerate(locations)\n",
    "        if loc == Int('a')\n",
    "            push!(available_starts, idx)\n",
    "        end\n",
    "    end\n",
    "    possible_targets = build_possible_targets(locations, grid_size)\n",
    "    \n",
    "    min_path_length = Inf\n",
    "    for start in available_starts\n",
    "        path_length = shortest_path(start, route[2], possible_targets)\n",
    "        if path_length < min_path_length\n",
    "            min_path_length = path_length\n",
    "        end\n",
    "    end\n",
    "\n",
    "    min_path_length\n",
    "end"
   ]
  },
  {
   "cell_type": "code",
   "execution_count": 104,
   "metadata": {},
   "outputs": [
    {
     "data": {
      "text/plain": [
       "\u001b[32m\u001b[1mTest Passed\u001b[22m\u001b[39m"
      ]
     },
     "metadata": {},
     "output_type": "display_data"
    }
   ],
   "source": [
    "@test solve_part_1(String.(split(\"Sabqponm\n",
    "abcryxxl\n",
    "accszExk\n",
    "acctuvwj\n",
    "abdefghi\", \"\\n\"))) == 31\n"
   ]
  },
  {
   "cell_type": "code",
   "execution_count": 105,
   "metadata": {},
   "outputs": [
    {
     "data": {
      "text/plain": [
       "(394.0, 388.0)"
      ]
     },
     "metadata": {},
     "output_type": "display_data"
    }
   ],
   "source": [
    "(solve_part_1(f), solve_part_2(f))"
   ]
  },
  {
   "cell_type": "code",
   "execution_count": 106,
   "metadata": {},
   "outputs": [
    {
     "data": {
      "text/plain": [
       "\u001b[32m\u001b[1mTest Passed\u001b[22m\u001b[39m"
      ]
     },
     "metadata": {},
     "output_type": "display_data"
    }
   ],
   "source": [
    "@test solve_part_2(String.(split(\"Sabqponm\n",
    "abcryxxl\n",
    "accszExk\n",
    "acctuvwj\n",
    "abdefghi\", \"\\n\"))) == 29\n"
   ]
  }
 ],
 "metadata": {
  "kernelspec": {
   "display_name": "Julia 1.8.3",
   "language": "julia",
   "name": "julia-1.8"
  },
  "language_info": {
   "file_extension": ".jl",
   "mimetype": "application/julia",
   "name": "julia",
   "version": "1.8.3"
  },
  "orig_nbformat": 4,
  "vscode": {
   "interpreter": {
    "hash": "a927d3b3a8556dee8e056d2355b59c9c86f8ba8aa64c851cc533da699ac13d07"
   }
  }
 },
 "nbformat": 4,
 "nbformat_minor": 2
}
