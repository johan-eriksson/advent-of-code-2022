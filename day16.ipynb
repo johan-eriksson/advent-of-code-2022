{
 "cells": [
  {
   "cell_type": "code",
   "execution_count": 10,
   "metadata": {},
   "outputs": [],
   "source": [
    "using Test"
   ]
  },
  {
   "cell_type": "code",
   "execution_count": 11,
   "metadata": {},
   "outputs": [],
   "source": [
    "f = readlines(\"day16.input\");"
   ]
  },
  {
   "cell_type": "code",
   "execution_count": 12,
   "metadata": {},
   "outputs": [
    {
     "data": {
      "text/plain": [
       "parse_input (generic function with 1 method)"
      ]
     },
     "metadata": {},
     "output_type": "display_data"
    }
   ],
   "source": [
    "function parse_input(input)\n",
    "    flows = Dict{String, Int64}()\n",
    "    edges = Dict{String, Vector{String}}()\n",
    "    for line in input\n",
    "        name_re = r\"Valve ([A-Z][A-Z]) has flow rate=\\d+; tunnels? leads? to valves? .*\"\n",
    "        flow_re = r\"Valve [A-Z][A-Z] has flow rate=(\\d+); tunnels? leads? to valves? .*\"\n",
    "        edge_re = r\"Valve [A-Z][A-Z] has flow rate=\\d+; tunnels? leads? to valves? (.*)\"\n",
    "        name = first(match(name_re, line).captures)\n",
    "        flows[name] = parse(Int64, first(match(flow_re, line).captures))\n",
    "        edges[name] = [strip(x) for x in (split(first(match(edge_re, line).captures), \",\"))]\n",
    "    end\n",
    "    flows, edges\n",
    "end"
   ]
  },
  {
   "cell_type": "code",
   "execution_count": 13,
   "metadata": {},
   "outputs": [
    {
     "data": {
      "text/plain": [
       "Dict{Any, Any}()"
      ]
     },
     "metadata": {},
     "output_type": "display_data"
    }
   ],
   "source": [
    "subproblems = Dict()"
   ]
  },
  {
   "cell_type": "code",
   "execution_count": 14,
   "metadata": {},
   "outputs": [
    {
     "data": {
      "text/plain": [
       "step (generic function with 1 method)"
      ]
     },
     "metadata": {},
     "output_type": "display_data"
    }
   ],
   "source": [
    "function step(pos, time, open, adjacent, flows)\n",
    "    global subproblems\n",
    "\n",
    "    next_gen_problems = []\n",
    "    score = subproblems[(pos, time, open)]\n",
    "\n",
    "    for adj in adjacent\n",
    "        push!(next_gen_problems, (adj, time+1, open))\n",
    "        if (adj, time+1, open) in keys(subproblems)\n",
    "            subproblems[(adj, time+1, open)] = max(score, subproblems[(adj, time+1, open)])\n",
    "        else\n",
    "            subproblems[(adj, time+1, open)] = score\n",
    "        end\n",
    "    end    \n",
    "    if pos ∉ open && flows[pos] > 0\n",
    "        open = copy(open)\n",
    "        push!(open, pos)\n",
    "        \n",
    "        push!(next_gen_problems, (pos, time+1, open))\n",
    "        if (pos, time+1, open) in keys(subproblems)\n",
    "            subproblems[(pos, time+1, open)] = max(score + flows[pos]*(30-time), subproblems[(pos, time+1, open)])\n",
    "        else\n",
    "            subproblems[(pos, time+1, open)] = score + flows[pos]*(30-time)\n",
    "        end\n",
    "    end\n",
    "\n",
    "    next_gen_problems\n",
    "end"
   ]
  },
  {
   "cell_type": "code",
   "execution_count": 15,
   "metadata": {},
   "outputs": [
    {
     "data": {
      "text/plain": [
       "solve_part_1 (generic function with 1 method)"
      ]
     },
     "metadata": {},
     "output_type": "display_data"
    }
   ],
   "source": [
    "function solve_part_1(input)\n",
    "    flows, edges = parse_input(input)\n",
    "\n",
    "    position = \"AA\"\n",
    "    time = 30\n",
    "    \n",
    "    global subproblems\n",
    "    subproblems = Dict()\n",
    "    subproblems[(\"AA\", 1, Set{String}())] = 0\n",
    "\n",
    "    problems = Set{Tuple{String, Int64, Set{String}}}()\n",
    "    problems2 = Set{Tuple{String, Int64, Set{String}}}()\n",
    "    push!(problems, first(keys(subproblems)))\n",
    "\n",
    "    for i=1:30\n",
    "        for problem in problems\n",
    "            p = step(problem[1], i, problem[3], edges[problem[1]], flows)\n",
    "            push!(problems2, p...)\n",
    "        end\n",
    "\n",
    "        problems = problems2\n",
    "        problems2 = Set{Tuple{String, Int64, Set{String}}}()\n",
    "    end\n",
    "\n",
    "    # for problem in keys(subproblems)\n",
    "    #     if problem[2] == 6 && subproblems[problem] > 500\n",
    "    #         println(\"$problem : $(subproblems[problem])\")\n",
    "    #     end\n",
    "    # end\n",
    "\n",
    "    maximum(values(subproblems))\n",
    "end"
   ]
  },
  {
   "cell_type": "code",
   "execution_count": 16,
   "metadata": {},
   "outputs": [
    {
     "data": {
      "text/plain": [
       "\u001b[32m\u001b[1mTest Passed\u001b[22m\u001b[39m"
      ]
     },
     "metadata": {},
     "output_type": "display_data"
    }
   ],
   "source": [
    "@test solve_part_1(String.(split(\"Valve AA has flow rate=0; tunnels lead to valves DD, II, BB\n",
    "Valve BB has flow rate=13; tunnels lead to valves CC, AA\n",
    "Valve CC has flow rate=2; tunnels lead to valves DD, BB\n",
    "Valve DD has flow rate=20; tunnels lead to valves CC, AA, EE\n",
    "Valve EE has flow rate=3; tunnels lead to valves FF, DD\n",
    "Valve FF has flow rate=0; tunnels lead to valves EE, GG\n",
    "Valve GG has flow rate=0; tunnels lead to valves FF, HH\n",
    "Valve HH has flow rate=22; tunnel leads to valve GG\n",
    "Valve II has flow rate=0; tunnels lead to valves AA, JJ\n",
    "Valve JJ has flow rate=21; tunnel leads to valve II\", \"\\n\"))) == 1651\n"
   ]
  },
  {
   "cell_type": "code",
   "execution_count": 17,
   "metadata": {},
   "outputs": [
    {
     "data": {
      "text/plain": [
       "2056"
      ]
     },
     "metadata": {},
     "output_type": "display_data"
    }
   ],
   "source": [
    "solve_part_1(f)"
   ]
  }
 ],
 "metadata": {
  "kernelspec": {
   "display_name": "Julia 1.8.3",
   "language": "julia",
   "name": "julia-1.8"
  },
  "language_info": {
   "file_extension": ".jl",
   "mimetype": "application/julia",
   "name": "julia",
   "version": "1.8.3"
  },
  "orig_nbformat": 4,
  "vscode": {
   "interpreter": {
    "hash": "a927d3b3a8556dee8e056d2355b59c9c86f8ba8aa64c851cc533da699ac13d07"
   }
  }
 },
 "nbformat": 4,
 "nbformat_minor": 2
}
