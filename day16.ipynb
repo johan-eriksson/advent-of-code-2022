{
 "cells": [
  {
   "cell_type": "code",
   "execution_count": 12,
   "metadata": {},
   "outputs": [],
   "source": [
    "using Test"
   ]
  },
  {
   "cell_type": "code",
   "execution_count": 13,
   "metadata": {},
   "outputs": [],
   "source": [
    "f = readlines(\"day16.input\");"
   ]
  },
  {
   "cell_type": "code",
   "execution_count": 14,
   "metadata": {},
   "outputs": [
    {
     "data": {
      "text/plain": [
       "parse_input (generic function with 1 method)"
      ]
     },
     "metadata": {},
     "output_type": "display_data"
    }
   ],
   "source": [
    "function parse_input(input)\n",
    "    flows = Dict{String, Int64}()\n",
    "    edges = Dict{String, Vector{String}}()\n",
    "    for line in input\n",
    "        name_re = r\"Valve ([A-Z][A-Z]) has flow rate=\\d+; tunnels? leads? to valves? .*\"\n",
    "        flow_re = r\"Valve [A-Z][A-Z] has flow rate=(\\d+); tunnels? leads? to valves? .*\"\n",
    "        edge_re = r\"Valve [A-Z][A-Z] has flow rate=\\d+; tunnels? leads? to valves? (.*)\"\n",
    "        name = first(match(name_re, line).captures)\n",
    "        flows[name] = parse(Int64, first(match(flow_re, line).captures))\n",
    "        edges[name] = [strip(x) for x in (split(first(match(edge_re, line).captures), \",\"))]\n",
    "    end\n",
    "    flows, edges\n",
    "end"
   ]
  },
  {
   "cell_type": "code",
   "execution_count": 15,
   "metadata": {},
   "outputs": [
    {
     "data": {
      "text/plain": [
       "is_opened (generic function with 1 method)"
      ]
     },
     "metadata": {},
     "output_type": "display_data"
    }
   ],
   "source": [
    "function is_opened(open, pos)\n",
    "    pos in open\n",
    "end"
   ]
  },
  {
   "cell_type": "code",
   "execution_count": 16,
   "metadata": {},
   "outputs": [
    {
     "data": {
      "text/plain": [
       "open_valve (generic function with 1 method)"
      ]
     },
     "metadata": {},
     "output_type": "display_data"
    }
   ],
   "source": [
    "function open_valve(open, pos)\n",
    "    new_open = copy(open)\n",
    "    push!(new_open, pos)\n",
    "    return new_open\n",
    "end"
   ]
  },
  {
   "cell_type": "code",
   "execution_count": 17,
   "metadata": {},
   "outputs": [
    {
     "data": {
      "text/plain": [
       "solve (generic function with 1 method)"
      ]
     },
     "metadata": {},
     "output_type": "display_data"
    }
   ],
   "source": [
    "function solve(pos, time, open, adjacent, flows, states)\n",
    "    stored = get(states, (pos, time, open), -1)\n",
    "    if stored > -1\n",
    "        return stored\n",
    "    end\n",
    "\n",
    "    if time == 0\n",
    "        if pos == \"AA\"\n",
    "            return 0\n",
    "        end\n",
    "        return -1000\n",
    "    end\n",
    "    \n",
    "    scores = []\n",
    "    \n",
    "    # Open valve\n",
    "    if flows[pos] > 0 && !is_opened(open, pos)\n",
    "        score = (30 - time) * flows[pos] + solve(pos, time-1, open_valve(open, pos), adjacent, flows, states)\n",
    "        push!(scores, score)\n",
    "    end\n",
    "    \n",
    "    # Move\n",
    "    for adj in adjacent[pos]\n",
    "        score = solve(adj, time-1, open, adjacent, flows, states)\n",
    "        push!(scores, score)\n",
    "    end\n",
    "    \n",
    "    result = maximum(scores)\n",
    "    states[(pos, time, open)] = result\n",
    "    return result\n",
    "end"
   ]
  },
  {
   "cell_type": "code",
   "execution_count": 29,
   "metadata": {},
   "outputs": [
    {
     "data": {
      "text/plain": [
       "solve_part_1 (generic function with 1 method)"
      ]
     },
     "metadata": {},
     "output_type": "display_data"
    }
   ],
   "source": [
    "function solve_part_1(input)\n",
    "    flows, edges = parse_input(input)\n",
    "\n",
    "    states = Dict{Tuple{String, Int64, Set{String}}, Int64}()\n",
    "\n",
    "    scores = []\n",
    "    for location in keys(flows)\n",
    "        score = solve(location, 30, Set(), edges, flows, states)\n",
    "        push!(scores, score)\n",
    "    end\n",
    "    \n",
    "\n",
    "    println(\"We look through $(length(states)) states. Type was $(typeof(states)).\")\n",
    "\n",
    "    maximum(scores)\n",
    "end"
   ]
  },
  {
   "cell_type": "code",
   "execution_count": 30,
   "metadata": {},
   "outputs": [
    {
     "name": "stdout",
     "output_type": "stream",
     "text": [
      "We look through 13113 states. Type was Dict{Tuple{String, Int64, Set{String}}, Int64}.\n"
     ]
    },
    {
     "data": {
      "text/plain": [
       "\u001b[32m\u001b[1mTest Passed\u001b[22m\u001b[39m"
      ]
     },
     "metadata": {},
     "output_type": "display_data"
    }
   ],
   "source": [
    "@test solve_part_1(String.(split(\"Valve AA has flow rate=0; tunnels lead to valves DD, II, BB\n",
    "Valve BB has flow rate=13; tunnels lead to valves CC, AA\n",
    "Valve CC has flow rate=2; tunnels lead to valves DD, BB\n",
    "Valve DD has flow rate=20; tunnels lead to valves CC, AA, EE\n",
    "Valve EE has flow rate=3; tunnels lead to valves FF, DD\n",
    "Valve FF has flow rate=0; tunnels lead to valves EE, GG\n",
    "Valve GG has flow rate=0; tunnels lead to valves FF, HH\n",
    "Valve HH has flow rate=22; tunnel leads to valve GG\n",
    "Valve II has flow rate=0; tunnels lead to valves AA, JJ\n",
    "Valve JJ has flow rate=21; tunnel leads to valve II\", \"\\n\"))) == 1651\n"
   ]
  },
  {
   "cell_type": "code",
   "execution_count": 31,
   "metadata": {},
   "outputs": [
    {
     "name": "stdout",
     "output_type": "stream",
     "text": [
      "We look through 2714888 states. Type was Dict{Tuple{String, Int64, Set{String}}, Int64}.\n"
     ]
    },
    {
     "data": {
      "text/plain": [
       "2056"
      ]
     },
     "metadata": {},
     "output_type": "display_data"
    }
   ],
   "source": [
    "solve_part_1(f)"
   ]
  }
 ],
 "metadata": {
  "kernelspec": {
   "display_name": "Julia 1.8.3",
   "language": "julia",
   "name": "julia-1.8"
  },
  "language_info": {
   "file_extension": ".jl",
   "mimetype": "application/julia",
   "name": "julia",
   "version": "1.8.3"
  },
  "orig_nbformat": 4,
  "vscode": {
   "interpreter": {
    "hash": "a927d3b3a8556dee8e056d2355b59c9c86f8ba8aa64c851cc533da699ac13d07"
   }
  }
 },
 "nbformat": 4,
 "nbformat_minor": 2
}
