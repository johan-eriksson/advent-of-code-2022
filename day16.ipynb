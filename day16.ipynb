{
 "cells": [
  {
   "cell_type": "code",
   "execution_count": 2,
   "metadata": {},
   "outputs": [],
   "source": [
    "using Test"
   ]
  },
  {
   "cell_type": "code",
   "execution_count": 3,
   "metadata": {},
   "outputs": [],
   "source": [
    "f = readlines(\"day15.input\");"
   ]
  },
  {
   "cell_type": "code",
   "execution_count": 4,
   "metadata": {},
   "outputs": [
    {
     "data": {
      "text/plain": [
       "parse_input (generic function with 1 method)"
      ]
     },
     "metadata": {},
     "output_type": "display_data"
    }
   ],
   "source": [
    "function parse_input(input)\n",
    "    flows = Dict{String, Int64}()\n",
    "    edges = Dict{String, Vector{String}}()\n",
    "    for line in input\n",
    "        name_re = r\"Valve ([A-Z][A-Z]) has flow rate=\\d+; tunnels? leads? to valves? .*\"\n",
    "        flow_re = r\"Valve [A-Z][A-Z] has flow rate=(\\d+); tunnels? leads? to valves? .*\"\n",
    "        edge_re = r\"Valve [A-Z][A-Z] has flow rate=\\d+; tunnels? leads? to valves? (.*)\"\n",
    "        name = first(match(name_re, line).captures)\n",
    "        flows[name] = parse(Int64, first(match(flow_re, line).captures))\n",
    "        edges[name] = [strip(x) for x in (split(first(match(edge_re, line).captures), \",\"))]\n",
    "    end\n",
    "    flows, edges\n",
    "end"
   ]
  },
  {
   "cell_type": "code",
   "execution_count": 5,
   "metadata": {},
   "outputs": [
    {
     "data": {
      "text/plain": [
       "build_valve_costs (generic function with 1 method)"
      ]
     },
     "metadata": {},
     "output_type": "display_data"
    }
   ],
   "source": [
    "function build_valve_costs(start, budget, flows, edges)\n",
    "    queue = Vector{String}()\n",
    "    visited = Dict{String, Bool}()\n",
    "    dist = Dict{String, Int64}()\n",
    "    cost = Dict{String, Float64}()\n",
    "    for name in keys(flows)\n",
    "        visited[name] = false\n",
    "    end\n",
    "\n",
    "    push!(queue, start)\n",
    "    visited[start] = true;\n",
    "    dist[start] = 1;\n",
    "    cost[start] = flows[start]\n",
    "\n",
    "    while length(queue) > 0\n",
    "        valve = popfirst!(queue)\n",
    "        if dist[valve] > (budget + -2)\n",
    "            break\n",
    "        end\n",
    "        for valve2 in edges[valve]\n",
    "            if !visited[valve2]\n",
    "                visited[valve2] = true\n",
    "                dist[valve2] = dist[valve] + 1;\n",
    "                cost[valve2] = flows[valve2] / (dist[valve2]+1)\n",
    "                push!(queue, valve2)\n",
    "            end\n",
    "        end\n",
    "    end\n",
    "    (cost, dist)\n",
    "end"
   ]
  },
  {
   "cell_type": "code",
   "execution_count": 6,
   "metadata": {},
   "outputs": [
    {
     "data": {
      "text/plain": [
       "(Dict(\"BB\" => 4.333333333333333, \"AA\" => 0.0, \"DD\" => 6.666666666666667, \"II\" => 0.0), Dict(\"BB\" => 2, \"AA\" => 1, \"DD\" => 2, \"II\" => 2))"
      ]
     },
     "metadata": {},
     "output_type": "display_data"
    }
   ],
   "source": [
    "flows, edges = parse_input(String.(split(\"Valve AA has flow rate=0; tunnels lead to valves DD, II, BB\n",
    "Valve BB has flow rate=13; tunnels lead to valves CC, AA\n",
    "Valve CC has flow rate=2; tunnels lead to valves DD, BB\n",
    "Valve DD has flow rate=20; tunnels lead to valves CC, AA, EE\n",
    "Valve EE has flow rate=3; tunnels lead to valves FF, DD\n",
    "Valve FF has flow rate=0; tunnels lead to valves EE, GG\n",
    "Valve GG has flow rate=0; tunnels lead to valves FF, HH\n",
    "Valve HH has flow rate=22; tunnel leads to valve GG\n",
    "Valve II has flow rate=0; tunnels lead to valves AA, JJ\n",
    "Valve JJ has flow rate=21; tunnel leads to valve II\", \"\\n\")))\n",
    "\n",
    "build_valve_costs(\"AA\", 3, flows, edges)"
   ]
  },
  {
   "cell_type": "code",
   "execution_count": 12,
   "metadata": {},
   "outputs": [
    {
     "data": {
      "text/plain": [
       "solve_part_1 (generic function with 1 method)"
      ]
     },
     "metadata": {},
     "output_type": "display_data"
    }
   ],
   "source": [
    "function solve_part_1(input, row)\n",
    "    flows, edges = parse_input(input)\n",
    "\n",
    "    position = \"AA\"\n",
    "    budget = 30\n",
    "    total_flow = 0\n",
    "    total_released = 0\n",
    "\n",
    "    while(budget > 0)\n",
    "        costs, dist = build_valve_costs(position, budget, flows, edges)\n",
    "\n",
    "        if all(iszero, values(costs))\n",
    "            break\n",
    "        end\n",
    "\n",
    "        position = reduce((x, y) -> costs[x] ≥ costs[y] ? x : y, keys(costs))\n",
    "        \n",
    "        time_taken = dist[position]\n",
    "        for i=1:time_taken\n",
    "            budget -= 1\n",
    "            total_released += total_flow\n",
    "        end\n",
    "        \n",
    "        total_flow += flows[position]\n",
    "        flows[position] = 0\n",
    "\n",
    "        println(\"Moved to $position. Remaining budget is $budget.\")\n",
    "    end\n",
    "    \n",
    "    total_released += budget * total_flow\n",
    "    total_released\n",
    "end"
   ]
  },
  {
   "cell_type": "code",
   "execution_count": 8,
   "metadata": {},
   "outputs": [
    {
     "data": {
      "text/plain": [
       "solve_part_2 (generic function with 1 method)"
      ]
     },
     "metadata": {},
     "output_type": "display_data"
    }
   ],
   "source": [
    "function solve_part_2(input, limit)\n",
    "    0\n",
    "end"
   ]
  },
  {
   "cell_type": "code",
   "execution_count": 13,
   "metadata": {},
   "outputs": [
    {
     "name": "stdout",
     "output_type": "stream",
     "text": [
      "Moved to DD. Remaining budget is 30.\n",
      "Moved to JJ. Remaining budget is 30.\n",
      "Moved to BB. Remaining budget is 30.\n",
      "Moved to HH. Remaining budget is 30.\n",
      "Moved to EE. Remaining budget is 30.\n",
      "Moved to CC. Remaining budget is 30.\n",
      "\u001b[91m\u001b[1mTest Failed\u001b[22m\u001b[39m at \u001b[39m\u001b[1mc:\\code\\advent-of-code-2022\\day16.ipynb:1\u001b[22m\n",
      "  Expression: solve_part_1(String.(split(\"Valve AA has flow rate=0; tunnels lead to valves DD, II, BB\\nValve BB has flow rate=13; tunnels lead to valves CC, AA\\nValve CC has flow rate=2; tunnels lead to valves DD, BB\\nValve DD has flow rate=20; tunnels lead to valves CC, AA, EE\\nValve EE has flow rate=3; tunnels lead to valves FF, DD\\nValve FF has flow rate=0; tunnels lead to valves EE, GG\\nValve GG has flow rate=0; tunnels lead to valves FF, HH\\nValve HH has flow rate=22; tunnel leads to valve GG\\nValve II has flow rate=0; tunnels lead to valves AA, JJ\\nValve JJ has flow rate=21; tunnel leads to valve II\", \"\\n\")), 10) == 1651\n",
      "   Evaluated: 3593 == 1651\n"
     ]
    },
    {
     "ename": "Test.FallbackTestSetException",
     "evalue": "Test.FallbackTestSetException(\"There was an error during testing\")",
     "output_type": "error",
     "traceback": [
      "Test.FallbackTestSetException(\"There was an error during testing\")\n",
      "\n",
      "Stacktrace:\n",
      " [1] record(ts::Test.FallbackTestSet, t::Union{Test.Error, Test.Fail})\n",
      "   @ Test C:\\Users\\Home\\AppData\\Local\\Programs\\Julia-1.8.3\\share\\julia\\stdlib\\v1.8\\Test\\src\\Test.jl:943\n",
      " [2] do_test(result::Test.ExecutionResult, orig_expr::Any)\n",
      "   @ Test C:\\Users\\Home\\AppData\\Local\\Programs\\Julia-1.8.3\\share\\julia\\stdlib\\v1.8\\Test\\src\\Test.jl:656\n",
      " [3] top-level scope\n",
      "   @ C:\\Users\\Home\\AppData\\Local\\Programs\\Julia-1.8.3\\share\\julia\\stdlib\\v1.8\\Test\\src\\Test.jl:464"
     ]
    }
   ],
   "source": [
    "@test solve_part_1(String.(split(\"Valve AA has flow rate=0; tunnels lead to valves DD, II, BB\n",
    "Valve BB has flow rate=13; tunnels lead to valves CC, AA\n",
    "Valve CC has flow rate=2; tunnels lead to valves DD, BB\n",
    "Valve DD has flow rate=20; tunnels lead to valves CC, AA, EE\n",
    "Valve EE has flow rate=3; tunnels lead to valves FF, DD\n",
    "Valve FF has flow rate=0; tunnels lead to valves EE, GG\n",
    "Valve GG has flow rate=0; tunnels lead to valves FF, HH\n",
    "Valve HH has flow rate=22; tunnel leads to valve GG\n",
    "Valve II has flow rate=0; tunnels lead to valves AA, JJ\n",
    "Valve JJ has flow rate=21; tunnel leads to valve II\", \"\\n\")), 10) == 1651\n"
   ]
  },
  {
   "cell_type": "code",
   "execution_count": 10,
   "metadata": {},
   "outputs": [
    {
     "name": "stdout",
     "output_type": "stream",
     "text": [
      "\u001b[91m\u001b[1mTest Failed\u001b[22m\u001b[39m at \u001b[39m\u001b[1mc:\\code\\advent-of-code-2022\\day16.ipynb:1\u001b[22m\n",
      "  Expression: solve_part_2(String.(split(\"Sensor at x=2, y=18: closest beacon is at x=-2, y=15\\nSensor at x=9, y=16: closest beacon is at x=10, y=16\\nSensor at x=13, y=2: closest beacon is at x=15, y=3\\nSensor at x=12, y=14: closest beacon is at x=10, y=16\\nSensor at x=10, y=20: closest beacon is at x=10, y=16\\nSensor at x=14, y=17: closest beacon is at x=10, y=16\\nSensor at x=8, y=7: closest beacon is at x=2, y=10\\nSensor at x=2, y=0: closest beacon is at x=2, y=10\\nSensor at x=0, y=11: closest beacon is at x=2, y=10\\nSensor at x=20, y=14: closest beacon is at x=25, y=17\\nSensor at x=17, y=20: closest beacon is at x=21, y=22\\nSensor at x=16, y=7: closest beacon is at x=15, y=3\\nSensor at x=14, y=3: closest beacon is at x=15, y=3\\nSensor at x=20, y=1: closest beacon is at x=15, y=3\", \"\\n\")), 20) == 56000011\n",
      "   Evaluated: 0 == 56000011\n"
     ]
    },
    {
     "ename": "Test.FallbackTestSetException",
     "evalue": "Test.FallbackTestSetException(\"There was an error during testing\")",
     "output_type": "error",
     "traceback": [
      "Test.FallbackTestSetException(\"There was an error during testing\")\n",
      "\n",
      "Stacktrace:\n",
      " [1] record(ts::Test.FallbackTestSet, t::Union{Test.Error, Test.Fail})\n",
      "   @ Test C:\\Users\\Home\\AppData\\Local\\Programs\\Julia-1.8.3\\share\\julia\\stdlib\\v1.8\\Test\\src\\Test.jl:943\n",
      " [2] do_test(result::Test.ExecutionResult, orig_expr::Any)\n",
      "   @ Test C:\\Users\\Home\\AppData\\Local\\Programs\\Julia-1.8.3\\share\\julia\\stdlib\\v1.8\\Test\\src\\Test.jl:656\n",
      " [3] top-level scope\n",
      "   @ C:\\Users\\Home\\AppData\\Local\\Programs\\Julia-1.8.3\\share\\julia\\stdlib\\v1.8\\Test\\src\\Test.jl:464"
     ]
    }
   ],
   "source": [
    "@test solve_part_2(String.(split(\"Sensor at x=2, y=18: closest beacon is at x=-2, y=15\n",
    "Sensor at x=9, y=16: closest beacon is at x=10, y=16\n",
    "Sensor at x=13, y=2: closest beacon is at x=15, y=3\n",
    "Sensor at x=12, y=14: closest beacon is at x=10, y=16\n",
    "Sensor at x=10, y=20: closest beacon is at x=10, y=16\n",
    "Sensor at x=14, y=17: closest beacon is at x=10, y=16\n",
    "Sensor at x=8, y=7: closest beacon is at x=2, y=10\n",
    "Sensor at x=2, y=0: closest beacon is at x=2, y=10\n",
    "Sensor at x=0, y=11: closest beacon is at x=2, y=10\n",
    "Sensor at x=20, y=14: closest beacon is at x=25, y=17\n",
    "Sensor at x=17, y=20: closest beacon is at x=21, y=22\n",
    "Sensor at x=16, y=7: closest beacon is at x=15, y=3\n",
    "Sensor at x=14, y=3: closest beacon is at x=15, y=3\n",
    "Sensor at x=20, y=1: closest beacon is at x=15, y=3\", \"\\n\")), 20) == 56000011"
   ]
  },
  {
   "cell_type": "code",
   "execution_count": 11,
   "metadata": {},
   "outputs": [
    {
     "ename": "ErrorException",
     "evalue": "type Nothing has no field captures",
     "output_type": "error",
     "traceback": [
      "type Nothing has no field captures\n",
      "\n",
      "Stacktrace:\n",
      " [1] getproperty(x::Nothing, f::Symbol)\n",
      "   @ Base .\\Base.jl:38\n",
      " [2] parse_input(input::Vector{String})\n",
      "   @ Main c:\\code\\advent-of-code-2022\\day16.ipynb:8\n",
      " [3] solve_part_1(input::Vector{String}, row::Int64)\n",
      "   @ Main c:\\code\\advent-of-code-2022\\day16.ipynb:2\n",
      " [4] top-level scope\n",
      "   @ c:\\code\\advent-of-code-2022\\day16.ipynb:1"
     ]
    }
   ],
   "source": [
    "(solve_part_1(f, 2000000), solve_part_2(f, 4000000))"
   ]
  }
 ],
 "metadata": {
  "kernelspec": {
   "display_name": "Julia 1.8.3",
   "language": "julia",
   "name": "julia-1.8"
  },
  "language_info": {
   "file_extension": ".jl",
   "mimetype": "application/julia",
   "name": "julia",
   "version": "1.8.3"
  },
  "orig_nbformat": 4,
  "vscode": {
   "interpreter": {
    "hash": "a927d3b3a8556dee8e056d2355b59c9c86f8ba8aa64c851cc533da699ac13d07"
   }
  }
 },
 "nbformat": 4,
 "nbformat_minor": 2
}
