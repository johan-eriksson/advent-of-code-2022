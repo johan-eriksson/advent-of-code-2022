{
 "cells": [
  {
   "cell_type": "code",
   "execution_count": 63,
   "metadata": {},
   "outputs": [],
   "source": [
    "using Test"
   ]
  },
  {
   "cell_type": "code",
   "execution_count": 64,
   "metadata": {},
   "outputs": [],
   "source": [
    "f = readlines(\"day16.input\");"
   ]
  },
  {
   "cell_type": "code",
   "execution_count": 65,
   "metadata": {},
   "outputs": [
    {
     "data": {
      "text/plain": [
       "parse_input (generic function with 1 method)"
      ]
     },
     "metadata": {},
     "output_type": "display_data"
    }
   ],
   "source": [
    "function parse_input(input)\n",
    "    flows = Dict{String, Int64}()\n",
    "    edges = Dict{String, Vector{String}}()\n",
    "    for line in input\n",
    "        name_re = r\"Valve ([A-Z][A-Z]) has flow rate=\\d+; tunnels? leads? to valves? .*\"\n",
    "        flow_re = r\"Valve [A-Z][A-Z] has flow rate=(\\d+); tunnels? leads? to valves? .*\"\n",
    "        edge_re = r\"Valve [A-Z][A-Z] has flow rate=\\d+; tunnels? leads? to valves? (.*)\"\n",
    "        name = first(match(name_re, line).captures)\n",
    "        flows[name] = parse(Int64, first(match(flow_re, line).captures))\n",
    "        edges[name] = [strip(x) for x in (split(first(match(edge_re, line).captures), \",\"))]\n",
    "    end\n",
    "    flows, edges\n",
    "end"
   ]
  },
  {
   "cell_type": "code",
   "execution_count": 66,
   "metadata": {},
   "outputs": [
    {
     "data": {
      "text/plain": [
       "create_transform (generic function with 1 method)"
      ]
     },
     "metadata": {},
     "output_type": "display_data"
    }
   ],
   "source": [
    "function create_transform(locations)\n",
    "    transform = Dict()\n",
    "    alphabetical = sort(collect(locations))\n",
    "    for (i, key) in enumerate(alphabetical)\n",
    "        transform[key] = i\n",
    "    end\n",
    "\n",
    "    transform\n",
    "end"
   ]
  },
  {
   "cell_type": "code",
   "execution_count": 67,
   "metadata": {},
   "outputs": [
    {
     "data": {
      "text/plain": [
       "step (generic function with 1 method)"
      ]
     },
     "metadata": {},
     "output_type": "display_data"
    }
   ],
   "source": [
    "function step(pos, time, open, adjacent, flows, states)\n",
    "    score = states[(pos, time, open)]\n",
    "\n",
    "    for adj in adjacent\n",
    "        previous_max = get(states, (adj, time+1, open), -1)\n",
    "        states[(adj, time+1, open)] = max(previous_max, score)\n",
    "    end    \n",
    "    if flows[pos] > 0 && open & 1<<pos == 0\n",
    "        previous_max = get(states, (pos, time+1, open | 1<<pos), -1)\n",
    "        states[(pos, time+1, open | 1<<pos)] = max(previous_max, score + flows[pos]*(30-time))\n",
    "    end\n",
    "end"
   ]
  },
  {
   "cell_type": "code",
   "execution_count": 68,
   "metadata": {},
   "outputs": [
    {
     "data": {
      "text/plain": [
       "solve_part_1 (generic function with 1 method)"
      ]
     },
     "metadata": {},
     "output_type": "display_data"
    }
   ],
   "source": [
    "function solve_part_1(input)\n",
    "    alphabet_flows, alphabet_edges = parse_input(input)\n",
    "    transform = create_transform(keys(alphabet_flows))\n",
    "    flows = Dict{Int64, Int64}()\n",
    "    edges = Dict{Int64, Vector{Int64}}()\n",
    "    for (k, v) in alphabet_flows\n",
    "        flows[transform[k]] = v\n",
    "    end\n",
    "    for (k, v) in alphabet_edges\n",
    "        edges[transform[k]] = [transform[x] for x in v]\n",
    "    end\n",
    "\n",
    "    states = Dict()\n",
    "    states[(1, 1, 0)] = 0\n",
    "\n",
    "    for i=1:30\n",
    "        for state in keys(states)\n",
    "            if state[2] == i\n",
    "                step(state[1], i, state[3], edges[state[1]], flows, states)\n",
    "            end\n",
    "        end\n",
    "\n",
    "        # perf: remove poorly performing states based on arbitrary heuristic... if answer is wrong, cull fewer states here\n",
    "        if i%9 == 0\n",
    "            best = maximum(values(states))\n",
    "            states = filter!(x -> x[2]>0.9*best, states)\n",
    "        end\n",
    "    end\n",
    "\n",
    "    println(\"Stored state for $(length(states)) problems\")\n",
    "    maximum(values(states))\n",
    "end"
   ]
  },
  {
   "cell_type": "code",
   "execution_count": 69,
   "metadata": {},
   "outputs": [
    {
     "name": "stdout",
     "output_type": "stream",
     "text": [
      "Stored state for 156 problems\n"
     ]
    },
    {
     "data": {
      "text/plain": [
       "\u001b[32m\u001b[1mTest Passed\u001b[22m\u001b[39m"
      ]
     },
     "metadata": {},
     "output_type": "display_data"
    }
   ],
   "source": [
    "@test solve_part_1(String.(split(\"Valve AA has flow rate=0; tunnels lead to valves DD, II, BB\n",
    "Valve BB has flow rate=13; tunnels lead to valves CC, AA\n",
    "Valve CC has flow rate=2; tunnels lead to valves DD, BB\n",
    "Valve DD has flow rate=20; tunnels lead to valves CC, AA, EE\n",
    "Valve EE has flow rate=3; tunnels lead to valves FF, DD\n",
    "Valve FF has flow rate=0; tunnels lead to valves EE, GG\n",
    "Valve GG has flow rate=0; tunnels lead to valves FF, HH\n",
    "Valve HH has flow rate=22; tunnel leads to valve GG\n",
    "Valve II has flow rate=0; tunnels lead to valves AA, JJ\n",
    "Valve JJ has flow rate=21; tunnel leads to valve II\", \"\\n\"))) == 1651\n"
   ]
  },
  {
   "cell_type": "code",
   "execution_count": 70,
   "metadata": {},
   "outputs": [
    {
     "name": "stdout",
     "output_type": "stream",
     "text": [
      "Stored state for 2434 problems\n"
     ]
    },
    {
     "data": {
      "text/plain": [
       "2056"
      ]
     },
     "metadata": {},
     "output_type": "display_data"
    }
   ],
   "source": [
    "solve_part_1(f)"
   ]
  }
 ],
 "metadata": {
  "kernelspec": {
   "display_name": "Julia 1.8.3",
   "language": "julia",
   "name": "julia-1.8"
  },
  "language_info": {
   "file_extension": ".jl",
   "mimetype": "application/julia",
   "name": "julia",
   "version": "1.8.3"
  },
  "orig_nbformat": 4,
  "vscode": {
   "interpreter": {
    "hash": "a927d3b3a8556dee8e056d2355b59c9c86f8ba8aa64c851cc533da699ac13d07"
   }
  }
 },
 "nbformat": 4,
 "nbformat_minor": 2
}
