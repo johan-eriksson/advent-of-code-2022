{
 "cells": [
  {
   "cell_type": "code",
   "execution_count": 91,
   "metadata": {},
   "outputs": [],
   "source": [
    "using Test"
   ]
  },
  {
   "cell_type": "code",
   "execution_count": 92,
   "metadata": {},
   "outputs": [],
   "source": [
    "f = readlines(\"day8.input\");"
   ]
  },
  {
   "cell_type": "code",
   "execution_count": 93,
   "metadata": {},
   "outputs": [],
   "source": [
    "function parse_input(input)\n",
    "    matrix = []\n",
    "    for line in input\n",
    "        push!(matrix, [parse(Int64, x) for x in line])\n",
    "    end\n",
    "\n",
    "    hcat(matrix...)\n",
    "end\n",
    "\n",
    "parse_input(f);"
   ]
  },
  {
   "cell_type": "code",
   "execution_count": 94,
   "metadata": {},
   "outputs": [
    {
     "data": {
      "text/plain": [
       "\u001b[32m\u001b[1mTest Passed\u001b[22m\u001b[39m"
      ]
     },
     "metadata": {},
     "output_type": "display_data"
    }
   ],
   "source": [
    "function find_trees(arr)\n",
    "    indexes = []\n",
    "    biggest = -1\n",
    "    for (index, num) in enumerate(arr)\n",
    "        if num > biggest\n",
    "            biggest = num\n",
    "            push!(indexes, index)\n",
    "        end\n",
    "        if num == 9\n",
    "            return indexes\n",
    "        end\n",
    "    end\n",
    "\n",
    "    indexes\n",
    "end\n",
    "\n",
    "@test find_trees([2 3 0 5 8 3 1]) == [1, 2, 4, 5]"
   ]
  },
  {
   "cell_type": "code",
   "execution_count": 100,
   "metadata": {},
   "outputs": [
    {
     "data": {
      "text/plain": [
       "solve_part_1 (generic function with 1 method)"
      ]
     },
     "metadata": {},
     "output_type": "display_data"
    }
   ],
   "source": [
    "function solve_part_1(input)\n",
    "    trees = Set()\n",
    "    matrix = parse_input(input)\n",
    "    matrix_dimension = size(matrix, 1)\n",
    "    for y in 1:matrix_dimension\n",
    "        row = view(matrix, y, :)\n",
    "        \n",
    "        found_trees = find_trees(row)\n",
    "        for t in found_trees\n",
    "            push!(trees, (t, y))\n",
    "        end\n",
    "\n",
    "        found_trees = find_trees(reverse(row))\n",
    "        for t in found_trees\n",
    "            push!(trees, (1 + matrix_dimension - t, y))\n",
    "        end\n",
    "    end\n",
    "    for x in 1:matrix_dimension\n",
    "        col = view(matrix, :, x)\n",
    "        \n",
    "        found_trees = find_trees(col)\n",
    "        for t in found_trees\n",
    "            push!(trees, (x, t))\n",
    "        end\n",
    "\n",
    "        found_trees = find_trees(reverse(col))\n",
    "        for t in found_trees\n",
    "            push!(trees, (x, 1 + matrix_dimension - t))\n",
    "        end\n",
    "    end\n",
    "\n",
    "    length(trees)\n",
    "end"
   ]
  },
  {
   "cell_type": "code",
   "execution_count": 101,
   "metadata": {},
   "outputs": [
    {
     "name": "stdout",
     "output_type": "stream",
     "text": [
      "matrix dim 5\n",
      "Any[1, 3]\n",
      "Any[1]\n",
      "Any[1, 2]\n",
      "Any[1]\n",
      "Any[1, 2]\n"
     ]
    },
    {
     "data": {
      "text/plain": [
       "\u001b[32m\u001b[1mTest Passed\u001b[22m\u001b[39m"
      ]
     },
     "metadata": {},
     "output_type": "display_data"
    }
   ],
   "source": [
    "@test solve_part_1(String.(split(\"30373\n",
    "25512\n",
    "65332\n",
    "33549\n",
    "35390\", \"\\n\"))) == 21\n"
   ]
  },
  {
   "cell_type": "code",
   "execution_count": 108,
   "metadata": {},
   "outputs": [
    {
     "data": {
      "text/plain": [
       "get_scenic_points (generic function with 1 method)"
      ]
     },
     "metadata": {},
     "output_type": "display_data"
    }
   ],
   "source": [
    "function get_scenic_points(matrix, x, y)\n",
    "    left = view(matrix, x:-1:1, y)\n",
    "    up = view(matrix, x, y:-1:1)\n",
    "    right = view(matrix, x:99, y)\n",
    "    down = view(matrix, x, y:99)\n",
    "\n",
    "    length(find_tre)\n",
    "end"
   ]
  },
  {
   "cell_type": "code",
   "execution_count": null,
   "metadata": {},
   "outputs": [],
   "source": [
    "function solve_part_2(input)\n",
    "    matrix = parse_input(input)\n",
    "    matrix_dimension = size(matrix, 1)\n",
    "\n",
    "    for x in 1:matrix_dimension\n",
    "        for y in 1:matrix_dimension\n",
    "            score = get_scenic_points(matrix, x, y)\n",
    "            if score > highest_score\n",
    "                highest_score = score\n",
    "            end\n",
    "        end\n",
    "    end\n",
    "\n",
    "    highest_score\n",
    "end"
   ]
  },
  {
   "cell_type": "code",
   "execution_count": 102,
   "metadata": {},
   "outputs": [
    {
     "name": "stdout",
     "output_type": "stream",
     "text": [
      "matrix dim 99\n",
      "Any[1, 3, 8, 21, 44]\n",
      "Any[1, 2, 14, 29, 37]\n",
      "Any[1, 2, 6, 17, 36]\n",
      "Any[1, 7, 23, 34]\n",
      "Any[1, 7, "
     ]
    },
    {
     "name": "stdout",
     "output_type": "stream",
     "text": [
      "27, 45]\n",
      "Any[1, 4, 26, 31]\n",
      "Any[1, 3, 4, 7, 13, 43]\n",
      "Any[1, 11, 24, 46]\n",
      "Any[1, 2, 18, 41, 53]\n",
      "Any"
     ]
    },
    {
     "name": "stdout",
     "output_type": "stream",
     "text": [
      "[1, 3, 12, 24, 57]\n",
      "Any[1, 8, 11, 24, 36]\n",
      "Any[1, 3, 8, 10, 13, 18, 35]\n",
      "Any[1, "
     ]
    },
    {
     "name": "stdout",
     "output_type": "stream",
     "text": [
      "2, 6, 14, 33]\n",
      "Any[1, 9, 15, 28]\n",
      "Any[1, 2, 3, 7, 14, 28]\n",
      "Any[1, 2, 5, 19, 26, 41]\n",
      "Any[1, 3, 7, 12, 28, 40]\n",
      "Any[1, 2, 23, 43]\n",
      "Any[1, 2, 4, 20, 22, 37]\n",
      "Any[1, 8, 19,"
     ]
    },
    {
     "name": "stdout",
     "output_type": "stream",
     "text": [
      " 20, 35]\n",
      "Any[1, 18, 33]\n",
      "Any[1, 17, 31]\n",
      "Any[1, 2, 4, 17, 38, 51]\n",
      "Any[1, 2, 7, 11, 25, 30, 39]\n",
      "Any[1, 6, 16, 36, 41]\n",
      "Any[1, 5, 8, "
     ]
    },
    {
     "name": "stdout",
     "output_type": "stream",
     "text": [
      "14, 24, 39]\n",
      "Any[1, 2, 12, 14, 36]\n",
      "Any[1, 9, 16, 24, 37]\n",
      "Any[1, 2, 11, 16, 21, 45]\n",
      "Any[1, 4, 6, 14, 27, 33]\n",
      "Any[1"
     ]
    },
    {
     "name": "stdout",
     "output_type": "stream",
     "text": [
      ", 2, 8, 19, 23, 30]\n",
      "Any[1, 4, 25, 33, 38]\n",
      "Any[1, 8, 13, 22, 39]\n",
      "Any[1, "
     ]
    },
    {
     "name": "stdout",
     "output_type": "stream",
     "text": [
      "2, 13, 18, 28]\n",
      "Any[1, 4, 14, 18, 25]\n",
      "Any[1, 3, 4, 13, 32, 37]\n",
      "Any[1, 4, 11, 17, 31]\n",
      "Any[1, 10, 13, 16, 27]\n",
      "Any[1, 3, 16, 26]\n",
      "Any[1, 2, 15, 22, 25]\n",
      "Any[1, 4, 15, 23]\n",
      "Any[1, 3, 11, 13, 24, 27]\n",
      "Any[1, 2, 9, 14, 22]\n",
      "Any[1, 2, 3, 21, 24]\n",
      "Any[1, 3, 6, 12, 15, 26]\n",
      "Any[1, 9, 11, "
     ]
    },
    {
     "name": "stdout",
     "output_type": "stream",
     "text": [
      "28, 29]\n",
      "Any[1, 2, 3, 4, 6, 21]\n",
      "Any[1, 2, 4, 12, 16, 22]\n",
      "Any[1, 6, 14, 26]\n",
      "Any[1, 18, 20, 27]\n"
     ]
    },
    {
     "name": "stdout",
     "output_type": "stream",
     "text": [
      "Any[1, 12, 14, 26]\n",
      "Any[1, 13, 23]\n",
      "Any[1, 6, 19, 21]\n",
      "Any[1, 2, 4, 18, 24]\n",
      "Any[1, 2, 13, 14, 24]\n",
      "Any[1, 2, 9, 26]\n",
      "Any[1, 2, 7, 8, 14, 15, 28]\n",
      "Any[1, 2, 15, 30]\n",
      "Any[1, 4, 5, 15, 27]\n",
      "Any[1, 5, 7, 12, 15, 45]\n",
      "Any[1, 9, "
     ]
    },
    {
     "name": "stdout",
     "output_type": "stream",
     "text": [
      "15, 38]\n",
      "Any[1, 3, 4, 12, 17, 28]\n",
      "Any[1, 3, 8, 29]\n",
      "Any[1, 2, 15, 17, 24]\n",
      "Any[1, 11, 23, 30]\n",
      "Any[1, 3, 17, 21, 33]\n",
      "Any[1, 5, 7, 17, 25]\n",
      "Any[1, 10, 18, 26]\n",
      "Any[1, 6, 7, 10, 23, 42]\n",
      "Any[1, 4, 6, 8, 11, 21, 28]\n",
      "Any[1, 4, 21, 37]\n",
      "Any[1, 3, 12, 35, 49]\n",
      "Any[1,"
     ]
    },
    {
     "name": "stdout",
     "output_type": "stream",
     "text": [
      " 3, 7, 14, 21, 32]\n",
      "Any[1, 2, 14, 34]\n",
      "Any[1, 2, 20, 23, 38]\n",
      "Any[1, 8, 14, 24, 58]\n",
      "Any[1, 8, 15, 42, 45]\n",
      "Any[1, 15, 25, 30, 41]\n",
      "Any[1, 5, 8, 11, 17, 29, 44]\n",
      "Any[1, 16, 18, 30]\n",
      "Any[1, 2, 18, 37]\n",
      "Any[1, 7, 12, 19, 40]\n"
     ]
    },
    {
     "name": "stdout",
     "output_type": "stream",
     "text": [
      "Any[1, 2, 5, 13, 22, 42]\n",
      "Any[1, 3, 16, 22, 36]\n",
      "Any[1, 9, 14, 27, 40]\n",
      "Any[1, 13, 34, 45]\n",
      "Any[1, 6, 14, 28, 49]\n",
      "Any[1, 3, 8, 23, 35]\n",
      "Any[1, 3, 4, 6, 23,"
     ]
    },
    {
     "name": "stdout",
     "output_type": "stream",
     "text": [
      " 38]\n",
      "Any[1, 2, 5, 8, 23, 32]\n",
      "Any[1, 7, 10, 33, 37]\n",
      "Any[1, 3, 9, 20, 62]\n",
      "Any[1, 11, 26, 42]\n",
      "Any[1, 2, 5, 15, 44, 50]\n",
      "Any[1, 2, 12, 14, 32]\n",
      "Any[1, 2, 5, 16, 29]\n",
      "Any[1, 10, 20, 54]\n",
      "Any[1, 7, 10, 16, 35]\n",
      "Any[1, 7, 19, 38]\n"
     ]
    },
    {
     "data": {
      "text/plain": [
       "(1676, 0)"
      ]
     },
     "metadata": {},
     "output_type": "display_data"
    }
   ],
   "source": [
    "(solve_part_1(f), 0)"
   ]
  },
  {
   "cell_type": "code",
   "execution_count": 99,
   "metadata": {},
   "outputs": [
    {
     "name": "stdout",
     "output_type": "stream",
     "text": [
      "\u001b[91m\u001b[1mError During Test\u001b[22m\u001b[39m at \u001b[39m\u001b[1mc:\\code\\advent-of-code-2022\\day8.ipynb:2\u001b[22m\n",
      "  Test threw exception\n"
     ]
    },
    {
     "name": "stdout",
     "output_type": "stream",
     "text": [
      "  Expression: solve_part_2(String.(split(\"\\$ cd /\\n\\$ ls\\ndir a\\n14848514 b.txt\\n8504156 c.dat\\ndir d\\n\\$ cd a\\n\\$ ls\\ndir e\\n29116 f\\n2557 g\\n62596 h.lst\\n\\$ cd e\\n\\$ ls\\n584 i\\n\\$ cd ..\\n\\$ cd ..\\n\\$ cd d\\n\\$ ls\\n4060174 j\\n8033020 d.log\\n5626152 d.ext\\n7214296 k\", \"\\n\"))) == 24933642\n",
      "  UndefVarError: solve_part_2 not defined\n",
      "  Stacktrace:\n",
      "    [1] top-level scope\n",
      "  \u001b[90m    @ \u001b[39m\u001b[90mC:\\Users\\Home\\AppData\\Local\\Programs\\Julia-1.8.3\\share\\julia\\stdlib\\v1.8\\Test\\src\\\u001b[39m\u001b[90m\u001b[4mTest.jl:464\u001b[24m\u001b[39m\n",
      "    [2] \u001b[0m\u001b[1meval\u001b[22m\n",
      "  \u001b[90m    @ \u001b[39m\u001b[90m.\\\u001b[39m\u001b[90m\u001b[4mboot.jl:368\u001b[24m\u001b[39m\u001b[90m [inlined]\u001b[39m\n",
      "    [3] \u001b[0m\u001b[1minclude_string\u001b[22m\u001b[0m\u001b[1m(\u001b[22m\u001b[90mmapexpr\u001b[39m::\u001b[0mtypeof(REPL.softscope), \u001b[90mmod\u001b[39m::\u001b[0mModule, \u001b[90mcode\u001b[39m::\u001b[0mString, \u001b[90mfilename\u001b[39m::\u001b[0mString\u001b[0m\u001b[1m)\u001b[22m\n",
      "  \u001b[90m    @ \u001b[39m\u001b[90mBase\u001b[39m \u001b[90m.\\\u001b[39m\u001b[90m\u001b[4mloading.jl:1428\u001b[24m\u001b[39m\n",
      "    [4] \u001b[0m\u001b[1m#invokelatest#2\u001b[22m\n",
      "  \u001b[90m    @ \u001b[39m\u001b[90m.\\\u001b[39m\u001b[90m\u001b[4messentials.jl:729\u001b[24m\u001b[39m\u001b[90m [inlined]\u001b[39m\n",
      "    [5] \u001b[0m\u001b[1minvokelatest\u001b[22m\n",
      "  \u001b[90m    @ \u001b[39m\u001b[90m.\\\u001b[39m\u001b[90m\u001b[4messentials.jl:726\u001b[24m\u001b[39m\u001b[90m [inlined]\u001b[39m\n",
      "    [6] \u001b[0m\u001b[1m(::VSCodeServer.var\"#198#199\"{VSCodeServer.NotebookRunCellArguments, String})\u001b[22m\u001b[0m\u001b[1m(\u001b[22m\u001b[0m\u001b[1m)\u001b[22m\n",
      "  \u001b[90m    @ \u001b[39m\u001b[35mVSCodeServer\u001b[39m \u001b[90mc:\\Users\\Home\\.vscode\\extensions\\julialang.language-julia-1.38.2\\scripts\\packages\\VSCodeServer\\src\\\u001b[39m\u001b[90m\u001b[4mserve_notebook.jl:19\u001b[24m\u001b[39m\n",
      "    [7] \u001b[0m\u001b[1mwithpath\u001b[22m\u001b[0m\u001b[1m(\u001b[22m\u001b[90mf\u001b[39m::\u001b[0mVSCodeServer.var\"#198#199\"\u001b[90m{VSCodeServer.NotebookRunCellArguments, String}\u001b[39m, \u001b[90mpath\u001b[39m::\u001b[0mString\u001b[0m\u001b[1m)\u001b[22m\n",
      "  \u001b[90m    @ \u001b[39m\u001b[35mVSCodeServer\u001b[39m \u001b[90mc:\\Users\\Home\\.vscode\\extensions\\julialang.language-julia-1.38.2\\scripts\\packages\\VSCodeServer\\src\\\u001b[39m\u001b[90m\u001b[4mrepl.jl:249\u001b[24m\u001b[39m\n",
      "    [8] \u001b[0m\u001b[1mnotebook_runcell_request\u001b[22m\u001b[0m\u001b[1m(\u001b[22m\u001b[90mconn\u001b[39m::\u001b[0mVSCodeServer.JSONRPC.JSONRPCEndpoint\u001b[90m{Base.PipeEndpoint, Base.PipeEndpoint}\u001b[39m, \u001b[90mparams\u001b[39m::\u001b[0mVSCodeServer.NotebookRunCellArguments\u001b[0m\u001b[1m)\u001b[22m\n",
      "  \u001b[90m    @ \u001b[39m\u001b[35mVSCodeServer\u001b[39m \u001b[90mc:\\Users\\Home\\.vscode\\extensions\\julialang.language-julia-1.38.2\\scripts\\packages\\VSCodeServer\\src\\\u001b[39m\u001b[90m\u001b[4mserve_notebook.jl:13\u001b[24m\u001b[39m\n",
      "    [9] \u001b[0m\u001b[1mdispatch_msg\u001b[22m\u001b[0m\u001b[1m(\u001b[22m\u001b[90mx\u001b[39m::\u001b[0mVSCodeServer.JSONRPC.JSONRPCEndpoint\u001b[90m{Base.PipeEndpoint, Base.PipeEndpoint}\u001b[39m, \u001b[90mdispatcher\u001b[39m::\u001b[0mVSCodeServer.JSONRPC.MsgDispatcher, \u001b[90mmsg\u001b[39m::\u001b[0mDict\u001b[90m{String, Any}\u001b[39m\u001b[0m\u001b[1m)\u001b[22m\n",
      "  \u001b[90m    @ \u001b[39m\u001b[35mVSCodeServer.JSONRPC\u001b[39m \u001b[90mc:\\Users\\Home\\.vscode\\extensions\\julialang.language-julia-1.38.2\\scripts\\packages\\JSONRPC\\src\\\u001b[39m\u001b[90m\u001b[4mtyped.jl:67\u001b[24m\u001b[39m\n",
      "   [10] \u001b[0m\u001b[1mserve_notebook\u001b[22m\u001b[0m\u001b[1m(\u001b[22m\u001b[90mpipename\u001b[39m::\u001b[0mString, \u001b[90moutputchannel_logger\u001b[39m::\u001b[0mBase.CoreLogging.SimpleLogger; \u001b[90mcrashreporting_pipename\u001b[39m::\u001b[0mString\u001b[0m\u001b[1m)\u001b[22m\n",
      "  \u001b[90m    @ \u001b[39m\u001b[35mVSCodeServer\u001b[39m \u001b[90mc:\\Users\\Home\\.vscode\\extensions\\julialang.language-julia-1.38.2\\scripts\\packages\\VSCodeServer\\src\\\u001b[39m\u001b[90m\u001b[4mserve_notebook.jl:139\u001b[24m\u001b[39m\n",
      "   [11] top-level scope\n",
      "  \u001b[90m    @ \u001b[39m\u001b[90mc:\\Users\\Home\\.vscode\\extensions\\julialang.language-julia-1.38.2\\scripts\\notebook\\\u001b[39m\u001b[90m\u001b[4mnotebook.jl:32\u001b[24m\u001b[39m\n",
      "   [12] \u001b[0m\u001b[1minclude\u001b[22m\u001b[0m\u001b[1m(\u001b[22m\u001b[90mmod\u001b[39m::\u001b[0mModule, \u001b[90m_path\u001b[39m::\u001b[0mString\u001b[0m\u001b[1m)\u001b[22m\n",
      "  \u001b[90m    @ \u001b[39m\u001b[90mBase\u001b[39m \u001b[90m.\\\u001b[39m\u001b[90m\u001b[4mBase.jl:419\u001b[24m\u001b[39m\n",
      "   [13] \u001b[0m\u001b[1mexec_options\u001b[22m\u001b[0m\u001b[1m(\u001b[22m\u001b[90mopts\u001b[39m::\u001b[0mBase.JLOptions\u001b[0m\u001b[1m)\u001b[22m\n",
      "  \u001b[90m    @ \u001b[39m\u001b[90mBase\u001b[39m \u001b[90m.\\\u001b[39m\u001b[90m\u001b[4mclient.jl:303\u001b[24m\u001b[39m\n",
      "   [14] \u001b[0m\u001b[1m_start\u001b[22m\u001b[0m\u001b[1m(\u001b[22m\u001b[0m\u001b[1m)\u001b[22m\n",
      "  \u001b[90m    @ \u001b[39m\u001b[90mBase\u001b[39m \u001b[90m.\\\u001b[39m\u001b[90m\u001b[4mclient.jl:522\u001b[24m\u001b[39m\n"
     ]
    },
    {
     "ename": "Test.FallbackTestSetException",
     "evalue": "Test.FallbackTestSetException(\"There was an error during testing\")",
     "output_type": "error",
     "traceback": [
      "Test.FallbackTestSetException(\"There was an error during testing\")\n",
      "\n",
      "Stacktrace:\n",
      " [1] record(ts::Test.FallbackTestSet, t::Union{Test.Error, Test.Fail})\n",
      "   @ Test C:\\Users\\Home\\AppData\\Local\\Programs\\Julia-1.8.3\\share\\julia\\stdlib\\v1.8\\Test\\src\\Test.jl:943\n",
      " [2] do_test(result::Test.ExecutionResult, orig_expr::Any)\n",
      "   @ Test C:\\Users\\Home\\AppData\\Local\\Programs\\Julia-1.8.3\\share\\julia\\stdlib\\v1.8\\Test\\src\\Test.jl:656\n",
      " [3] top-level scope\n",
      "   @ C:\\Users\\Home\\AppData\\Local\\Programs\\Julia-1.8.3\\share\\julia\\stdlib\\v1.8\\Test\\src\\Test.jl:464"
     ]
    }
   ],
   "source": [
    "@test solve_part_2(String.(split(\"30373\n",
    "25512\n",
    "65332\n",
    "33549\n",
    "35390\", \"\\n\"))) == 8\n"
   ]
  }
 ],
 "metadata": {
  "kernelspec": {
   "display_name": "Julia 1.8.3",
   "language": "julia",
   "name": "julia-1.8"
  },
  "language_info": {
   "file_extension": ".jl",
   "mimetype": "application/julia",
   "name": "julia",
   "version": "1.8.3"
  },
  "orig_nbformat": 4,
  "vscode": {
   "interpreter": {
    "hash": "a927d3b3a8556dee8e056d2355b59c9c86f8ba8aa64c851cc533da699ac13d07"
   }
  }
 },
 "nbformat": 4,
 "nbformat_minor": 2
}
