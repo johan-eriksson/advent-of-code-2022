{
 "cells": [
  {
   "cell_type": "code",
   "execution_count": 83,
   "metadata": {},
   "outputs": [],
   "source": [
    "using Test"
   ]
  },
  {
   "cell_type": "code",
   "execution_count": 84,
   "metadata": {},
   "outputs": [],
   "source": [
    "f = readlines(\"day8.input\");"
   ]
  },
  {
   "cell_type": "code",
   "execution_count": 85,
   "metadata": {},
   "outputs": [],
   "source": [
    "function parse_input(input)\n",
    "    matrix = []\n",
    "    for line in input\n",
    "        push!(matrix, [parse(Int64, x) for x in line])\n",
    "    end\n",
    "\n",
    "    hcat(matrix...)\n",
    "end\n",
    "\n",
    "parse_input(f);"
   ]
  },
  {
   "cell_type": "code",
   "execution_count": 86,
   "metadata": {},
   "outputs": [
    {
     "data": {
      "text/plain": [
       "\u001b[32m\u001b[1mTest Passed\u001b[22m\u001b[39m"
      ]
     },
     "metadata": {},
     "output_type": "display_data"
    }
   ],
   "source": [
    "function find_trees(arr)\n",
    "    indexes = []\n",
    "    biggest = -1\n",
    "    for (index, num) in enumerate(arr)\n",
    "        if num > biggest\n",
    "            biggest = num\n",
    "            push!(indexes, index)\n",
    "        end\n",
    "        if num == 9\n",
    "            return indexes\n",
    "        end\n",
    "    end\n",
    "\n",
    "    indexes\n",
    "end\n",
    "\n",
    "@test find_trees([2 3 0 5 8 3 1]) == [1, 2, 4, 5]"
   ]
  },
  {
   "cell_type": "code",
   "execution_count": 87,
   "metadata": {},
   "outputs": [
    {
     "data": {
      "text/plain": [
       "solve_part_1 (generic function with 1 method)"
      ]
     },
     "metadata": {},
     "output_type": "display_data"
    }
   ],
   "source": [
    "function solve_part_1(input)\n",
    "    trees = Set()\n",
    "    matrix = parse_input(input)\n",
    "    matrix_dimension = size(matrix, 1)\n",
    "    for y in 1:matrix_dimension\n",
    "        row = view(matrix, y, :)\n",
    "        \n",
    "        found_trees = find_trees(row)\n",
    "        for t in found_trees\n",
    "            push!(trees, (t, y))\n",
    "        end\n",
    "\n",
    "        found_trees = find_trees(reverse(row))\n",
    "        for t in found_trees\n",
    "            push!(trees, (1 + matrix_dimension - t, y))\n",
    "        end\n",
    "    end\n",
    "    for x in 1:matrix_dimension\n",
    "        col = view(matrix, :, x)\n",
    "        \n",
    "        found_trees = find_trees(col)\n",
    "        for t in found_trees\n",
    "            push!(trees, (x, t))\n",
    "        end\n",
    "\n",
    "        found_trees = find_trees(reverse(col))\n",
    "        for t in found_trees\n",
    "            push!(trees, (x, 1 + matrix_dimension - t))\n",
    "        end\n",
    "    end\n",
    "\n",
    "    length(trees)\n",
    "end"
   ]
  },
  {
   "cell_type": "code",
   "execution_count": 88,
   "metadata": {},
   "outputs": [
    {
     "data": {
      "text/plain": [
       "\u001b[32m\u001b[1mTest Passed\u001b[22m\u001b[39m"
      ]
     },
     "metadata": {},
     "output_type": "display_data"
    }
   ],
   "source": [
    "@test solve_part_1(String.(split(\"30373\n",
    "25512\n",
    "65332\n",
    "33549\n",
    "35390\", \"\\n\"))) == 21\n"
   ]
  },
  {
   "cell_type": "code",
   "execution_count": 89,
   "metadata": {},
   "outputs": [
    {
     "data": {
      "text/plain": [
       "count_seen_trees (generic function with 1 method)"
      ]
     },
     "metadata": {},
     "output_type": "display_data"
    }
   ],
   "source": [
    "function count_seen_trees(arr, height)\n",
    "    seen = 0\n",
    "    for (index, num) in enumerate(arr)\n",
    "        seen += 1\n",
    "        if num >= height\n",
    "            return seen\n",
    "        end\n",
    "    end\n",
    "\n",
    "    seen\n",
    "end"
   ]
  },
  {
   "cell_type": "code",
   "execution_count": 90,
   "metadata": {},
   "outputs": [
    {
     "data": {
      "text/plain": [
       "get_scenic_points (generic function with 1 method)"
      ]
     },
     "metadata": {},
     "output_type": "display_data"
    }
   ],
   "source": [
    "function get_scenic_points(matrix, x, y)\n",
    "    width, height = size(matrix)\n",
    "\n",
    "    left = view(matrix, x-1:-1:1, y)\n",
    "    up = view(matrix, x, y-1:-1:1)\n",
    "    right = view(matrix, x+1:width, y)\n",
    "    down = view(matrix, x, y+1:height)\n",
    "\n",
    "    tree_level = matrix[x, y]\n",
    "    prod(count_seen_trees.((left, up, right, down), tree_level))\n",
    "end"
   ]
  },
  {
   "cell_type": "code",
   "execution_count": 91,
   "metadata": {},
   "outputs": [
    {
     "data": {
      "text/plain": [
       "solve_part_2 (generic function with 1 method)"
      ]
     },
     "metadata": {},
     "output_type": "display_data"
    }
   ],
   "source": [
    "function solve_part_2(input)\n",
    "    matrix = parse_input(input)\n",
    "    matrix_dimension = size(matrix, 1)\n",
    "    highest_score = 0\n",
    "\n",
    "    for x in 2:matrix_dimension-1\n",
    "        for y in 2:matrix_dimension-1\n",
    "            score = get_scenic_points(matrix, x, y)\n",
    "            highest_score = max(highest_score, score)\n",
    "        end\n",
    "    end\n",
    "\n",
    "    highest_score\n",
    "end"
   ]
  },
  {
   "cell_type": "code",
   "execution_count": 92,
   "metadata": {},
   "outputs": [
    {
     "data": {
      "text/plain": [
       "(1676, 313200)"
      ]
     },
     "metadata": {},
     "output_type": "display_data"
    }
   ],
   "source": [
    "(solve_part_1(f), solve_part_2(f))"
   ]
  },
  {
   "cell_type": "code",
   "execution_count": 93,
   "metadata": {},
   "outputs": [
    {
     "data": {
      "text/plain": [
       "\u001b[32m\u001b[1mTest Passed\u001b[22m\u001b[39m"
      ]
     },
     "metadata": {},
     "output_type": "display_data"
    }
   ],
   "source": [
    "@test solve_part_2(String.(split(\"30373\n",
    "25512\n",
    "65332\n",
    "33549\n",
    "35390\", \"\\n\"))) == 8\n"
   ]
  }
 ],
 "metadata": {
  "kernelspec": {
   "display_name": "Julia 1.8.3",
   "language": "julia",
   "name": "julia-1.8"
  },
  "language_info": {
   "file_extension": ".jl",
   "mimetype": "application/julia",
   "name": "julia",
   "version": "1.8.3"
  },
  "orig_nbformat": 4,
  "vscode": {
   "interpreter": {
    "hash": "a927d3b3a8556dee8e056d2355b59c9c86f8ba8aa64c851cc533da699ac13d07"
   }
  }
 },
 "nbformat": 4,
 "nbformat_minor": 2
}
