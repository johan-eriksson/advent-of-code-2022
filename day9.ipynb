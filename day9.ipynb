{
 "cells": [
  {
   "cell_type": "code",
   "execution_count": 1,
   "metadata": {},
   "outputs": [],
   "source": [
    "using Test"
   ]
  },
  {
   "cell_type": "code",
   "execution_count": 2,
   "metadata": {},
   "outputs": [],
   "source": [
    "f = readlines(\"day9.input\");"
   ]
  },
  {
   "cell_type": "code",
   "execution_count": null,
   "metadata": {},
   "outputs": [],
   "source": [
    "function parse_line(line)\n",
    "    direction, distance = line.split()\n",
    "    direction, parse(Int64, distance)\n",
    "end "
   ]
  },
  {
   "cell_type": "code",
   "execution_count": null,
   "metadata": {},
   "outputs": [],
   "source": [
    "function is_tail_adjacent(head, tail)\n",
    "    false\n",
    "end\n",
    "\n",
    "@test is_tail_adjacent((2, 0), (0,0)) == false\n",
    "@test is_tail_adjacent((1, 0), (0,0)) == true\n",
    "@test is_tail_adjacent((1, 0), (1,0)) == true\n",
    "@test is_tail_adjacent((1, 0), (2,1)) == true"
   ]
  },
  {
   "cell_type": "code",
   "execution_count": null,
   "metadata": {},
   "outputs": [],
   "source": [
    "function step_tail(head, tail)\n",
    "    (0,0)\n",
    "end\n",
    "\n",
    "@test step_tail((2, 0), (0,0)) == (1,0)"
   ]
  },
  {
   "cell_type": "code",
   "execution_count": null,
   "metadata": {},
   "outputs": [],
   "source": [
    "function pull_tail(head, tail)\n",
    "    visited_points = []\n",
    "    visited_points\n",
    "end"
   ]
  },
  {
   "cell_type": "code",
   "execution_count": 4,
   "metadata": {},
   "outputs": [
    {
     "data": {
      "text/plain": [
       "solve_part_1 (generic function with 1 method)"
      ]
     },
     "metadata": {},
     "output_type": "display_data"
    }
   ],
   "source": [
    "function solve_part_1(input)\n",
    "    points_visited_by_tail = Set()\n",
    "    head = (0, 0)\n",
    "\n",
    "    for line in input\n",
    "        direction, distance = parse_line(line)\n",
    "        if direction == \"R\"\n",
    "            head[1] += distance\n",
    "        elseif direction == \"D\"\n",
    "            head[1] += distance\n",
    "        elseif direction == \"L\"\n",
    "            head[1] += distance\n",
    "        elseif direction == \"U\"\n",
    "            head[1] += distance\n",
    "        pull_tail((head_x, head_y))\n",
    "    end\n",
    "\n",
    "    end\n",
    "    input\n",
    "end"
   ]
  },
  {
   "cell_type": "code",
   "execution_count": 5,
   "metadata": {},
   "outputs": [
    {
     "name": "stdout",
     "output_type": "stream",
     "text": [
      "\u001b[91m\u001b[1mTest Failed\u001b[22m\u001b[39m at "
     ]
    },
    {
     "name": "stdout",
     "output_type": "stream",
     "text": [
      "\u001b[39m\u001b[1mc:\\code\\advent-of-code-2022\\day9.ipynb:1\u001b[22m\n",
      "  Expression: solve_part_1(String.(split(\"R 4\\nU 4\\nL 3\\nD 1\\nR 4\\nD 1\\nL 5\\nR 2\", \"\\n\"))) == 13\n",
      "   Evaluated: [\"R 4\", \"U 4\", \"L 3\", \"D 1\", \"R 4\", \"D 1\", \"L 5\", \"R 2\"] == 13"
     ]
    },
    {
     "name": "stdout",
     "output_type": "stream",
     "text": [
      "\n"
     ]
    },
    {
     "ename": "Test.FallbackTestSetException",
     "evalue": "Test.FallbackTestSetException(\"There was an error during testing\")",
     "output_type": "error",
     "traceback": [
      "Test.FallbackTestSetException(\"There was an error during testing\")\n",
      "\n",
      "Stacktrace:\n",
      " [1] record(ts::Test.FallbackTestSet, t::Union{Test.Error, Test.Fail})\n",
      "   @ Test C:\\Users\\Home\\AppData\\Local\\Programs\\Julia-1.8.3\\share\\julia\\stdlib\\v1.8\\Test\\src\\Test.jl:943\n",
      " [2] do_test(result::Test.ExecutionResult, orig_expr::Any)\n",
      "   @ Test C:\\Users\\Home\\AppData\\Local\\Programs\\Julia-1.8.3\\share\\julia\\stdlib\\v1.8\\Test\\src\\Test.jl:656\n",
      " [3] top-level scope\n",
      "   @ C:\\Users\\Home\\AppData\\Local\\Programs\\Julia-1.8.3\\share\\julia\\stdlib\\v1.8\\Test\\src\\Test.jl:464"
     ]
    }
   ],
   "source": [
    "@test solve_part_1(String.(split(\"R 4\n",
    "U 4\n",
    "L 3\n",
    "D 1\n",
    "R 4\n",
    "D 1\n",
    "L 5\n",
    "R 2\", \"\\n\"))) == 13\n"
   ]
  },
  {
   "cell_type": "code",
   "execution_count": 6,
   "metadata": {},
   "outputs": [
    {
     "data": {
      "text/plain": [
       "solve_part_2 (generic function with 1 method)"
      ]
     },
     "metadata": {},
     "output_type": "display_data"
    }
   ],
   "source": [
    "function solve_part_2(input)\n",
    "    0\n",
    "end"
   ]
  },
  {
   "cell_type": "code",
   "execution_count": 7,
   "metadata": {},
   "outputs": [
    {
     "data": {
      "text/plain": [
       "([\"R 2\", \"L 2\", \"D 2\", \"U 2\", \"R 2\", \"D 2\", \"L 2\", \"D 2\", \"U 2\", \"L 2\"  …  \"D 9\", \"L 6\", \"R 8\", \"U 4\", \"D 14\", \"L 13\", \"D 4\", \"R 3\", \"U 13\", \"L 2\"], 0)"
      ]
     },
     "metadata": {},
     "output_type": "display_data"
    }
   ],
   "source": [
    "(solve_part_1(f), solve_part_2(f))"
   ]
  },
  {
   "cell_type": "code",
   "execution_count": 8,
   "metadata": {},
   "outputs": [
    {
     "name": "stdout",
     "output_type": "stream",
     "text": [
      "\u001b[91m\u001b[1mTest Failed\u001b[22m\u001b[39m at \u001b[39m\u001b[1mc:\\code\\advent-of-code-2022\\day9.ipynb:1\u001b[22m\n",
      "  Expression: solve_part_2(String.(split(\"30373\\n25512\\n65332\\n33549\\n35390\", \"\\n\"))) == 8\n",
      "   Evaluated: 0 == 8\n"
     ]
    },
    {
     "ename": "Test.FallbackTestSetException",
     "evalue": "Test.FallbackTestSetException(\"There was an error during testing\")",
     "output_type": "error",
     "traceback": [
      "Test.FallbackTestSetException(\"There was an error during testing\")\n",
      "\n",
      "Stacktrace:\n",
      " [1] record(ts::Test.FallbackTestSet, t::Union{Test.Error, Test.Fail})\n",
      "   @ Test C:\\Users\\Home\\AppData\\Local\\Programs\\Julia-1.8.3\\share\\julia\\stdlib\\v1.8\\Test\\src\\Test.jl:943\n",
      " [2] do_test(result::Test.ExecutionResult, orig_expr::Any)\n",
      "   @ Test C:\\Users\\Home\\AppData\\Local\\Programs\\Julia-1.8.3\\share\\julia\\stdlib\\v1.8\\Test\\src\\Test.jl:656\n",
      " [3] top-level scope\n",
      "   @ C:\\Users\\Home\\AppData\\Local\\Programs\\Julia-1.8.3\\share\\julia\\stdlib\\v1.8\\Test\\src\\Test.jl:464"
     ]
    }
   ],
   "source": [
    "@test solve_part_2(String.(split(\"30373\n",
    "25512\n",
    "65332\n",
    "33549\n",
    "35390\", \"\\n\"))) == 8\n"
   ]
  }
 ],
 "metadata": {
  "kernelspec": {
   "display_name": "Julia 1.8.3",
   "language": "julia",
   "name": "julia-1.8"
  },
  "language_info": {
   "file_extension": ".jl",
   "mimetype": "application/julia",
   "name": "julia",
   "version": "1.8.3"
  },
  "orig_nbformat": 4,
  "vscode": {
   "interpreter": {
    "hash": "a927d3b3a8556dee8e056d2355b59c9c86f8ba8aa64c851cc533da699ac13d07"
   }
  }
 },
 "nbformat": 4,
 "nbformat_minor": 2
}
