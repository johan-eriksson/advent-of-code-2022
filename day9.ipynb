{
 "cells": [
  {
   "cell_type": "code",
   "execution_count": 73,
   "metadata": {},
   "outputs": [],
   "source": [
    "using Test"
   ]
  },
  {
   "cell_type": "code",
   "execution_count": 74,
   "metadata": {},
   "outputs": [],
   "source": [
    "f = readlines(\"day9.input\");"
   ]
  },
  {
   "cell_type": "code",
   "execution_count": 75,
   "metadata": {},
   "outputs": [
    {
     "data": {
      "text/plain": [
       "parse_line (generic function with 1 method)"
      ]
     },
     "metadata": {},
     "output_type": "display_data"
    }
   ],
   "source": [
    "function parse_line(line)\n",
    "    direction, distance = split(line)\n",
    "    direction, parse(Int64, distance)\n",
    "end "
   ]
  },
  {
   "cell_type": "code",
   "execution_count": 76,
   "metadata": {},
   "outputs": [
    {
     "data": {
      "text/plain": [
       "\u001b[32m\u001b[1mTest Passed\u001b[22m\u001b[39m"
      ]
     },
     "metadata": {},
     "output_type": "display_data"
    }
   ],
   "source": [
    "dist(p1, p2) = sqrt(sum((p1 .- p2) .^ 2))\n",
    "\n",
    "@test dist((0, 0), (3, 4)) == 5"
   ]
  },
  {
   "cell_type": "code",
   "execution_count": 77,
   "metadata": {},
   "outputs": [
    {
     "data": {
      "text/plain": [
       "\u001b[32m\u001b[1mTest Passed\u001b[22m\u001b[39m"
      ]
     },
     "metadata": {},
     "output_type": "display_data"
    }
   ],
   "source": [
    "is_tail_adjacent(head, tail) = dist(head, tail) < 2\n",
    "\n",
    "@test is_tail_adjacent((2, 0), (0,0)) == false\n",
    "@test is_tail_adjacent((1, 0), (0,0)) == true\n",
    "@test is_tail_adjacent((1, 0), (1,0)) == true\n",
    "@test is_tail_adjacent((1, 0), (2,1)) == true"
   ]
  },
  {
   "cell_type": "code",
   "execution_count": 78,
   "metadata": {},
   "outputs": [
    {
     "data": {
      "text/plain": [
       "\u001b[32m\u001b[1mTest Passed\u001b[22m\u001b[39m"
      ]
     },
     "metadata": {},
     "output_type": "display_data"
    }
   ],
   "source": [
    "function step_tail(head, tail)\n",
    "    if is_tail_adjacent(head, tail)\n",
    "        return tail\n",
    "    end\n",
    "\n",
    "    step_x = clamp(head[1]-tail[1], -1, 1)\n",
    "    step_y = clamp(head[2]-tail[2], -1, 1)\n",
    "\n",
    "    (tail[1] + step_x, tail[2] + step_y)\n",
    "end\n",
    "\n",
    "@test step_tail((2, 0), (0,0)) == (1,0)"
   ]
  },
  {
   "cell_type": "code",
   "execution_count": 79,
   "metadata": {},
   "outputs": [
    {
     "data": {
      "text/plain": [
       "travel (generic function with 1 method)"
      ]
     },
     "metadata": {},
     "output_type": "display_data"
    }
   ],
   "source": [
    "function travel(p₀, p₁)\n",
    "    diff = p₁ .- p₀\n",
    "    step = sum(diff) > 0 ? 1 : -1\n",
    "    if diff[1] != 0\n",
    "        return [(x, p₀[2]) for x=p₀[1]:step:p₁[1]]\n",
    "    end\n",
    "    return [(p₀[1], y) for y=p₀[2]:step:p₁[2]]\n",
    "end"
   ]
  },
  {
   "cell_type": "code",
   "execution_count": 80,
   "metadata": {},
   "outputs": [
    {
     "data": {
      "text/plain": [
       "pull_tail (generic function with 1 method)"
      ]
     },
     "metadata": {},
     "output_type": "display_data"
    }
   ],
   "source": [
    "function pull_tail(rope, head_target)\n",
    "    visited_points = []\n",
    "\n",
    "    for head_pos in travel(first(rope), head_target)\n",
    "        rope[1] = head_pos\n",
    "        for i=1:length(rope)-1\n",
    "            leader = rope[i]\n",
    "            follower = rope[i+1]\n",
    "            new_pos = step_tail(leader, follower)\n",
    "            rope[i+1] = new_pos\n",
    "        end\n",
    "        push!(visited_points, last(rope))\n",
    "    end\n",
    "\n",
    "    visited_points\n",
    "end"
   ]
  },
  {
   "cell_type": "code",
   "execution_count": 81,
   "metadata": {},
   "outputs": [
    {
     "data": {
      "text/plain": [
       "solve (generic function with 1 method)"
      ]
     },
     "metadata": {},
     "output_type": "display_data"
    }
   ],
   "source": [
    "function solve(input, rope_size)\n",
    "    points_visited_by_tail = Set()\n",
    "    rope = [(0, 0) for _=1:rope_size]\n",
    "\n",
    "    for line in input\n",
    "        direction, distance = parse_line(line)\n",
    "        head_x, head_y = first(rope)\n",
    "        if direction == \"R\"\n",
    "            head_x += distance\n",
    "        elseif direction == \"D\"\n",
    "            head_y += distance\n",
    "        elseif direction == \"L\"\n",
    "            head_x -= distance\n",
    "        elseif direction == \"U\"\n",
    "            head_y -= distance\n",
    "        end\n",
    "\n",
    "        visited = pull_tail(rope, (head_x, head_y))\n",
    "        push!(points_visited_by_tail, visited...)\n",
    "    end\n",
    "\n",
    "    length(points_visited_by_tail)\n",
    "end"
   ]
  },
  {
   "cell_type": "code",
   "execution_count": 82,
   "metadata": {},
   "outputs": [
    {
     "data": {
      "text/plain": [
       "solve_part_1 (generic function with 1 method)"
      ]
     },
     "metadata": {},
     "output_type": "display_data"
    }
   ],
   "source": [
    "function solve_part_1(input)\n",
    "    solve(input, 2)\n",
    "end"
   ]
  },
  {
   "cell_type": "code",
   "execution_count": 83,
   "metadata": {},
   "outputs": [
    {
     "data": {
      "text/plain": [
       "\u001b[32m\u001b[1mTest Passed\u001b[22m\u001b[39m"
      ]
     },
     "metadata": {},
     "output_type": "display_data"
    }
   ],
   "source": [
    "@test solve_part_1(String.(split(\"R 4\n",
    "U 4\n",
    "L 3\n",
    "D 1\n",
    "R 4\n",
    "D 1\n",
    "L 5\n",
    "R 2\", \"\\n\"))) == 13\n"
   ]
  },
  {
   "cell_type": "code",
   "execution_count": 84,
   "metadata": {},
   "outputs": [
    {
     "data": {
      "text/plain": [
       "solve_part_2 (generic function with 1 method)"
      ]
     },
     "metadata": {},
     "output_type": "display_data"
    }
   ],
   "source": [
    "function solve_part_2(input)\n",
    "    solve(input, 10)\n",
    "end"
   ]
  },
  {
   "cell_type": "code",
   "execution_count": 85,
   "metadata": {},
   "outputs": [
    {
     "data": {
      "text/plain": [
       "\u001b[32m\u001b[1mTest Passed\u001b[22m\u001b[39m"
      ]
     },
     "metadata": {},
     "output_type": "display_data"
    }
   ],
   "source": [
    "@test solve_part_2(String.(split(\"R 4\n",
    "U 4\n",
    "L 3\n",
    "D 1\n",
    "R 4\n",
    "D 1\n",
    "L 5\n",
    "R 2\", \"\\n\"))) == 1\n"
   ]
  },
  {
   "cell_type": "code",
   "execution_count": 86,
   "metadata": {},
   "outputs": [
    {
     "data": {
      "text/plain": [
       "(5710, 2259)"
      ]
     },
     "metadata": {},
     "output_type": "display_data"
    }
   ],
   "source": [
    "(solve_part_1(f), solve_part_2(f))"
   ]
  }
 ],
 "metadata": {
  "kernelspec": {
   "display_name": "Julia 1.8.3",
   "language": "julia",
   "name": "julia-1.8"
  },
  "language_info": {
   "file_extension": ".jl",
   "mimetype": "application/julia",
   "name": "julia",
   "version": "1.8.3"
  },
  "orig_nbformat": 4,
  "vscode": {
   "interpreter": {
    "hash": "a927d3b3a8556dee8e056d2355b59c9c86f8ba8aa64c851cc533da699ac13d07"
   }
  }
 },
 "nbformat": 4,
 "nbformat_minor": 2
}
