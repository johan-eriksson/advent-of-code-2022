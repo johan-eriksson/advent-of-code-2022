{
 "cells": [
  {
   "cell_type": "code",
   "execution_count": 139,
   "metadata": {},
   "outputs": [],
   "source": [
    "using Test"
   ]
  },
  {
   "cell_type": "code",
   "execution_count": 140,
   "metadata": {},
   "outputs": [],
   "source": [
    "f = readlines(\"day7.input\");"
   ]
  },
  {
   "cell_type": "code",
   "execution_count": 141,
   "metadata": {},
   "outputs": [
    {
     "data": {
      "text/plain": [
       "parse_line (generic function with 1 method)"
      ]
     },
     "metadata": {},
     "output_type": "display_data"
    }
   ],
   "source": [
    "function parse_line(line)\n",
    "    if startswith(line, \"\\$ cd\")\n",
    "        return (\"cd\", split(line, ' ')[3])\n",
    "    end\n",
    "    if startswith(line, \"\\$ ls\")\n",
    "        return (\"ls\", nothing)\n",
    "    end\n",
    "    if startswith(line, \"dir\")\n",
    "        return (\"dir\", split(line, ' ')[2])\n",
    "    end\n",
    "    \n",
    "    return (\"file\", parse(Int64, split(line, ' ')[1]))\n",
    "end"
   ]
  },
  {
   "cell_type": "code",
   "execution_count": 142,
   "metadata": {},
   "outputs": [],
   "source": [
    "mutable struct Directory\n",
    "    children::Vector{Directory}\n",
    "    size::Int64\n",
    "    parent::Union{Directory, Nothing}\n",
    "    name::String\n",
    "end"
   ]
  },
  {
   "cell_type": "code",
   "execution_count": 143,
   "metadata": {},
   "outputs": [
    {
     "data": {
      "text/plain": [
       "get_size (generic function with 1 method)"
      ]
     },
     "metadata": {},
     "output_type": "display_data"
    }
   ],
   "source": [
    "function get_size(dir::Directory)\n",
    "    child_total = 0\n",
    "    if length(dir.children) == 0\n",
    "        return dir.size\n",
    "    end\n",
    "    for child in dir.children\n",
    "        child_total += get_size(child)\n",
    "    end\n",
    "    return child_total + dir.size\n",
    "end"
   ]
  },
  {
   "cell_type": "code",
   "execution_count": 144,
   "metadata": {},
   "outputs": [
    {
     "data": {
      "text/plain": [
       "Directory"
      ]
     },
     "metadata": {},
     "output_type": "display_data"
    }
   ],
   "source": [
    "function Directory(name, parent)\n",
    "    Directory(Vector{Directory}(), 0, parent, name)\n",
    "end"
   ]
  },
  {
   "cell_type": "code",
   "execution_count": 145,
   "metadata": {},
   "outputs": [
    {
     "data": {
      "text/plain": [
       "has_subdir (generic function with 1 method)"
      ]
     },
     "metadata": {},
     "output_type": "display_data"
    }
   ],
   "source": [
    "function has_subdir(dir1::Directory, dir_name::AbstractString)\n",
    "    for dir in dir1.children\n",
    "        if dir_name == dir.name\n",
    "            return true\n",
    "        end\n",
    "    end\n",
    "\n",
    "    return false\n",
    "end"
   ]
  },
  {
   "cell_type": "code",
   "execution_count": 146,
   "metadata": {},
   "outputs": [
    {
     "data": {
      "text/plain": [
       "change_directory (generic function with 2 methods)"
      ]
     },
     "metadata": {},
     "output_type": "display_data"
    }
   ],
   "source": [
    "function change_directory(operand::AbstractString, root::Directory, current_dir::Directory)\n",
    "    if operand == \"..\"\n",
    "        return current_dir.parent\n",
    "    elseif operand == \"/\"\n",
    "        return root\n",
    "    else\n",
    "        if (has_subdir(current_dir, operand))\n",
    "            for child in current_dir.children\n",
    "                if child.name == operand\n",
    "                    return child\n",
    "                    break\n",
    "                end\n",
    "            end\n",
    "        else\n",
    "            new_dir = Directory(operand, current_dir)\n",
    "            push!(current_dir.children, new_dir)\n",
    "            return new_dir\n",
    "        end\n",
    "    end\n",
    "end"
   ]
  },
  {
   "cell_type": "code",
   "execution_count": 147,
   "metadata": {},
   "outputs": [
    {
     "data": {
      "text/plain": [
       "process_file (generic function with 1 method)"
      ]
     },
     "metadata": {},
     "output_type": "display_data"
    }
   ],
   "source": [
    "function process_file(current_dir, file_size)\n",
    "    current_dir.size += file_size\n",
    "end"
   ]
  },
  {
   "cell_type": "code",
   "execution_count": 148,
   "metadata": {},
   "outputs": [
    {
     "data": {
      "text/plain": [
       "get_score (generic function with 1 method)"
      ]
     },
     "metadata": {},
     "output_type": "display_data"
    }
   ],
   "source": [
    "function get_score(dir, max_size)\n",
    "    score = 0\n",
    "    size = get_size(dir)\n",
    "    if size < max_size\n",
    "        score += size\n",
    "    end\n",
    "    for child in dir.children\n",
    "        score += get_score(child, max_size)\n",
    "    end\n",
    "\n",
    "    score\n",
    "end"
   ]
  },
  {
   "cell_type": "code",
   "execution_count": 149,
   "metadata": {},
   "outputs": [
    {
     "data": {
      "text/plain": [
       "solve_part_1 (generic function with 1 method)"
      ]
     },
     "metadata": {},
     "output_type": "display_data"
    }
   ],
   "source": [
    "function solve_part_1(input, max_size)\n",
    "    root = Directory(\"/\", nothing)\n",
    "    current_dir = root\n",
    "\n",
    "    for line in input\n",
    "        operator, operand = parse_line(line)\n",
    "        if operator == \"cd\"\n",
    "            current_dir = change_directory(operand, root, current_dir)\n",
    "        elseif operator == \"file\"\n",
    "            process_file(current_dir, operand)\n",
    "        end\n",
    "    end\n",
    "\n",
    "    get_score(root, max_size)\n",
    "end\n"
   ]
  },
  {
   "cell_type": "code",
   "execution_count": 150,
   "metadata": {},
   "outputs": [
    {
     "data": {
      "text/plain": [
       "\u001b[32m\u001b[1mTest Passed\u001b[22m\u001b[39m"
      ]
     },
     "metadata": {},
     "output_type": "display_data"
    }
   ],
   "source": [
    "@test solve_part_1(String.(split(\"\\$ cd /\n",
    "\\$ ls\n",
    "dir a\n",
    "14848514 b.txt\n",
    "8504156 c.dat\n",
    "dir d\n",
    "\\$ cd a\n",
    "\\$ ls\n",
    "dir e\n",
    "29116 f\n",
    "2557 g\n",
    "62596 h.lst\n",
    "\\$ cd e\n",
    "\\$ ls\n",
    "584 i\n",
    "\\$ cd ..\n",
    "\\$ cd ..\n",
    "\\$ cd d\n",
    "\\$ ls\n",
    "4060174 j\n",
    "8033020 d.log\n",
    "5626152 d.ext\n",
    "7214296 k\", \"\\n\")), 100000) == 95437\n"
   ]
  },
  {
   "cell_type": "code",
   "execution_count": 151,
   "metadata": {},
   "outputs": [
    {
     "data": {
      "text/plain": [
       "1453349"
      ]
     },
     "metadata": {},
     "output_type": "display_data"
    }
   ],
   "source": [
    "solve_part_1(f, 100000)"
   ]
  },
  {
   "cell_type": "code",
   "execution_count": 152,
   "metadata": {},
   "outputs": [
    {
     "data": {
      "text/plain": [
       "get_smallest_dir_bigger_than (generic function with 1 method)"
      ]
     },
     "metadata": {},
     "output_type": "display_data"
    }
   ],
   "source": [
    "function get_smallest_dir_bigger_than(dir, size_requirement)\n",
    "    smallest = 70000000\n",
    "\n",
    "    for child in dir.children\n",
    "        child_size = get_smallest_dir_bigger_than(child, size_requirement)\n",
    "        smallest = min(smallest, child_size)\n",
    "    end\n",
    "\n",
    "    size = get_size(dir)\n",
    "    if size >= size_requirement\n",
    "        smallest = min(smallest, size)\n",
    "    end\n",
    "\n",
    "    smallest\n",
    "end"
   ]
  },
  {
   "cell_type": "code",
   "execution_count": 153,
   "metadata": {},
   "outputs": [
    {
     "data": {
      "text/plain": [
       "solve_part_2 (generic function with 1 method)"
      ]
     },
     "metadata": {},
     "output_type": "display_data"
    }
   ],
   "source": [
    "function solve_part_2(input)\n",
    "    root = Directory(\"/\", nothing)\n",
    "    current_dir = root\n",
    "\n",
    "    for line in input\n",
    "        operator, operand = parse_line(line)\n",
    "        if operator == \"cd\"\n",
    "            current_dir = change_directory(operand, root, current_dir)\n",
    "        elseif operator == \"file\"\n",
    "            process_file(current_dir, operand)\n",
    "        end\n",
    "    end\n",
    "\n",
    "    root_size = get_size(root)\n",
    "    required_size = 30000000 - (70000000 -root_size)\n",
    "    get_smallest_dir_bigger_than(root, required_size)\n",
    "end\n"
   ]
  },
  {
   "cell_type": "code",
   "execution_count": 154,
   "metadata": {},
   "outputs": [
    {
     "data": {
      "text/plain": [
       "\u001b[32m\u001b[1mTest Passed\u001b[22m\u001b[39m"
      ]
     },
     "metadata": {},
     "output_type": "display_data"
    }
   ],
   "source": [
    "@test solve_part_2(String.(split(\"\\$ cd /\n",
    "\\$ ls\n",
    "dir a\n",
    "14848514 b.txt\n",
    "8504156 c.dat\n",
    "dir d\n",
    "\\$ cd a\n",
    "\\$ ls\n",
    "dir e\n",
    "29116 f\n",
    "2557 g\n",
    "62596 h.lst\n",
    "\\$ cd e\n",
    "\\$ ls\n",
    "584 i\n",
    "\\$ cd ..\n",
    "\\$ cd ..\n",
    "\\$ cd d\n",
    "\\$ ls\n",
    "4060174 j\n",
    "8033020 d.log\n",
    "5626152 d.ext\n",
    "7214296 k\", \"\\n\"))) == 24933642\n"
   ]
  },
  {
   "cell_type": "code",
   "execution_count": 155,
   "metadata": {},
   "outputs": [
    {
     "data": {
      "text/plain": [
       "2948823"
      ]
     },
     "metadata": {},
     "output_type": "display_data"
    }
   ],
   "source": [
    "solve_part_2(f)"
   ]
  }
 ],
 "metadata": {
  "kernelspec": {
   "display_name": "Julia 1.8.3",
   "language": "julia",
   "name": "julia-1.8"
  },
  "language_info": {
   "file_extension": ".jl",
   "mimetype": "application/julia",
   "name": "julia",
   "version": "1.8.3"
  },
  "orig_nbformat": 4,
  "vscode": {
   "interpreter": {
    "hash": "a927d3b3a8556dee8e056d2355b59c9c86f8ba8aa64c851cc533da699ac13d07"
   }
  }
 },
 "nbformat": 4,
 "nbformat_minor": 2
}
