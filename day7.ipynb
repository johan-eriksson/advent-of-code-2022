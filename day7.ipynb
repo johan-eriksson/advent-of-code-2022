{
 "cells": [
  {
   "cell_type": "code",
   "execution_count": 1,
   "metadata": {},
   "outputs": [],
   "source": [
    "using Test"
   ]
  },
  {
   "cell_type": "code",
   "execution_count": 2,
   "metadata": {},
   "outputs": [],
   "source": [
    "f = readlines(\"day7.input\");"
   ]
  },
  {
   "cell_type": "code",
   "execution_count": 3,
   "metadata": {},
   "outputs": [
    {
     "data": {
      "text/plain": [
       "parse_line (generic function with 1 method)"
      ]
     },
     "metadata": {},
     "output_type": "display_data"
    }
   ],
   "source": [
    "function parse_line(line)\n",
    "    if startswith(line, \"\\$ cd\")\n",
    "        return (\"cd\", split(line, ' ')[3])\n",
    "    end\n",
    "    if startswith(line, \"\\$ ls\")\n",
    "        return (\"ls\", nothing)\n",
    "    end\n",
    "    if startswith(line, \"dir\")\n",
    "        return (\"dir\", split(line, ' ')[2])\n",
    "    end\n",
    "    \n",
    "    return (\"file\", parse(Int64, split(line, ' ')[1]))\n",
    "end"
   ]
  },
  {
   "cell_type": "code",
   "execution_count": 4,
   "metadata": {},
   "outputs": [],
   "source": [
    "mutable struct Directory\n",
    "    children::Vector{Directory}\n",
    "    size::Int64\n",
    "    parent::Union{Directory, Nothing}\n",
    "    name::String\n",
    "end"
   ]
  },
  {
   "cell_type": "code",
   "execution_count": 5,
   "metadata": {},
   "outputs": [
    {
     "data": {
      "text/plain": [
       "get_size (generic function with 1 method)"
      ]
     },
     "metadata": {},
     "output_type": "display_data"
    }
   ],
   "source": [
    "function get_size(dir::Directory)\n",
    "    child_total = 0\n",
    "    if length(dir.children) == 0\n",
    "        return dir.size\n",
    "    end\n",
    "    for child in dir.children\n",
    "        child_total += get_size(child)\n",
    "    end\n",
    "    return child_total + dir.size\n",
    "end"
   ]
  },
  {
   "cell_type": "code",
   "execution_count": 6,
   "metadata": {},
   "outputs": [
    {
     "data": {
      "text/plain": [
       "Directory"
      ]
     },
     "metadata": {},
     "output_type": "display_data"
    }
   ],
   "source": [
    "function Directory(name, parent)\n",
    "    Directory(Vector{Directory}(), 0, parent, name)\n",
    "end"
   ]
  },
  {
   "cell_type": "code",
   "execution_count": 7,
   "metadata": {},
   "outputs": [
    {
     "data": {
      "text/plain": [
       "has_subdir (generic function with 1 method)"
      ]
     },
     "metadata": {},
     "output_type": "display_data"
    }
   ],
   "source": [
    "function has_subdir(dir1::Directory, dir_name::AbstractString)\n",
    "    for dir in dir1.children\n",
    "        if dir_name == dir.name\n",
    "            return true\n",
    "        end\n",
    "    end\n",
    "\n",
    "    return false\n",
    "end"
   ]
  },
  {
   "cell_type": "code",
   "execution_count": 15,
   "metadata": {},
   "outputs": [
    {
     "data": {
      "text/plain": [
       "change_directory (generic function with 1 method)"
      ]
     },
     "metadata": {},
     "output_type": "display_data"
    }
   ],
   "source": [
    "function change_directory(operand::AbstractString, root::Directory, current_dir::Ref{Directory})\n",
    "    if operand == \"..\"\n",
    "        current_dir[] = current_dir[].parent\n",
    "    elseif operand == \"/\"\n",
    "        current_dir[] = root\n",
    "    else\n",
    "        if (has_subdir(current_dir[], operand))\n",
    "            for child in current_dir[].children\n",
    "                if child.name == operand\n",
    "                    current_dir[] = child\n",
    "                    break\n",
    "                end\n",
    "            end\n",
    "        else\n",
    "            new_dir = Directory(operand, current_dir[])\n",
    "            push!(current_dir[].children, new_dir)\n",
    "            current_dir[] = new_dir\n",
    "        end\n",
    "    end\n",
    "end"
   ]
  },
  {
   "cell_type": "code",
   "execution_count": 9,
   "metadata": {},
   "outputs": [
    {
     "data": {
      "text/plain": [
       "process_file (generic function with 1 method)"
      ]
     },
     "metadata": {},
     "output_type": "display_data"
    }
   ],
   "source": [
    "function process_file(current_dir, file_size)\n",
    "    current_dir.size += file_size\n",
    "end"
   ]
  },
  {
   "cell_type": "code",
   "execution_count": 10,
   "metadata": {},
   "outputs": [
    {
     "data": {
      "text/plain": [
       "get_score (generic function with 1 method)"
      ]
     },
     "metadata": {},
     "output_type": "display_data"
    }
   ],
   "source": [
    "function get_score(dir, max_size)\n",
    "    score = 0\n",
    "    if get_size(dir) < max_size\n",
    "        score += dir.size\n",
    "    end\n",
    "    for child in dir.children\n",
    "        score += get_score(child, max_size)\n",
    "    end\n",
    "\n",
    "    score\n",
    "end"
   ]
  },
  {
   "cell_type": "code",
   "execution_count": 13,
   "metadata": {},
   "outputs": [
    {
     "data": {
      "text/plain": [
       "Directory(Directory[Directory(Directory[], 0, Directory(#= circular reference @-3 =#), \"bfqzjjct\"), Directory(Directory[], 0, Directory(#= circular reference @-3 =#), \"cgcqpjpn\"), Directory(Directory[], 0, Directory(#= circular reference @-3 =#), \"phslrcw\"), Directory(Directory[], 0, Directory(#= circular reference @-3 =#), \"jnzjq\"), Directory(Directory[], 0, Directory(#= circular reference @-3 =#), \"lfd\"), Directory(Directory[], 0, Directory(#= circular reference @-3 =#), \"mlt\"), Directory(Directory[], 0, Directory(#= circular reference @-3 =#), \"qsdlvr\"), Directory(Directory[], 0, Directory(#= circular reference @-3 =#), \"nzjfwdt\"), Directory(Directory[], 0, Directory(#= circular reference @-3 =#), \"sgcg\"), Directory(Directory[], 0, Directory(#= circular reference @-3 =#), \"bjwzfr\")  …  Directory(Directory[], 0, Directory(#= circular reference @-3 =#), \"crpfs\"), Directory(Directory[], 0, Directory(#= circular reference @-3 =#), \"gttptlwj\"), Directory(Directory[], 0, Directory(#= circular reference @-3 =#), \"mzqn\"), Directory(Directory[], 0, Directory(#= circular reference @-3 =#), \"zmj\"), Directory(Directory[], 0, Directory(#= circular reference @-3 =#), \"dvrwbrbt\"), Directory(Directory[], 0, Directory(#= circular reference @-3 =#), \"lzssrrq\"), Directory(Directory[], 0, Directory(#= circular reference @-3 =#), \"zjstpvl\"), Directory(Directory[], 0, Directory(#= circular reference @-3 =#), \"znhsrsfb\"), Directory(Directory[], 0, Directory(#= circular reference @-3 =#), \"mwnmjjj\"), Directory(Directory[], 0, Directory(#= circular reference @-3 =#), \"mqvn\")], 42586708, nothing, \"/\")"
      ]
     },
     "metadata": {},
     "output_type": "display_data"
    }
   ],
   "source": [
    "function solve(input, max_size)\n",
    "    root = Directory(\"/\", nothing)\n",
    "    current_dir = root\n",
    "\n",
    "    for line in input\n",
    "        operator, operand = parse_line(line)\n",
    "        if operator == \"cd\"\n",
    "            change_directory(operand, root, Ref(current_dir))\n",
    "        elseif operator == \"file\"\n",
    "           process_file(current_dir, operand)\n",
    "        end\n",
    "    end\n",
    "\n",
    "    root\n",
    "end\n",
    "\n",
    "\n",
    "solve(f, 10000)"
   ]
  },
  {
   "cell_type": "code",
   "execution_count": 16,
   "metadata": {},
   "outputs": [
    {
     "name": "stdout",
     "output_type": "stream",
     "text": [
      "\u001b[91m\u001b[1mError During Test\u001b[22m\u001b[39m at \u001b[39m\u001b[1mc:\\code\\advent-of-code-2022\\day7.ipynb:1\u001b[22m\n",
      "  Test threw exception\n",
      "  Expression: solve(String.(split(\"\\$ cd /\\n\\$ ls\\ndir a\\n14848514 b.txt\\n8504156 c.dat\\ndir d\\n\\$ cd a\\n\\$ ls\\ndir e\\n29116 f\\n2557 g\\n62596 h.lst\\n\\$ cd e\\n\\$ ls\\n584 i\\n\\$ cd ..\\n\\$ cd ..\\n\\$ cd d\\n\\$ ls\\n4060174 j\\n8033020 d.log\\n5626152 d.ext\\n7214296 k\", \"\\n\")), 100000) == 95437\n",
      "  MethodError: \u001b[0mCannot `convert` an object of type \u001b[92mNothing\u001b[39m\u001b[0m to an object of type \u001b[91mDirectory\u001b[39m\n",
      "  \u001b[0mClosest candidates are:\n",
      "  \u001b[0m  convert(::Type{T}, \u001b[91m::T\u001b[39m) where T at Base.jl:61\n",
      "  \u001b[0m  Directory(::Any, \u001b[91m::Any\u001b[39m) at c:\\code\\advent-of-code-2022\\day7.ipynb:1\n",
      "  \u001b[0m  Directory(::Any, \u001b[91m::Any\u001b[39m, \u001b[91m::Any\u001b[39m, \u001b[91m::Any\u001b[39m) at c:\\code\\advent-of-code-2022\\day7.ipynb:2\n",
      "  Stacktrace:\n",
      "    [1] \u001b[0m\u001b[1msetproperty!\u001b[22m\u001b[0m\u001b[1m(\u001b[22m\u001b[90mx\u001b[39m::\u001b[0mBase.RefValue\u001b[90m{Directory}\u001b[39m, \u001b[90mf\u001b[39m::\u001b[0mSymbol, \u001b[90mv\u001b[39m::\u001b[0mNothing\u001b[0m\u001b[1m)\u001b[22m\n",
      "  \u001b[90m    @ \u001b[39m\u001b[90mBase\u001b[39m \u001b[90m.\\\u001b[39m\u001b[90m\u001b[4mBase.jl:39\u001b[24m\u001b[39m\n",
      "    [2] \u001b[0m\u001b[1msetindex!\u001b[22m\u001b[0m\u001b[1m(\u001b[22m\u001b[90mb\u001b[39m::\u001b[0mBase.RefValue\u001b[90m{Directory}\u001b[39m, \u001b[90mx\u001b[39m::\u001b[0mNothing\u001b[0m\u001b[1m)\u001b[22m\n",
      "  \u001b[90m    @ \u001b[39m\u001b[90mBase\u001b[39m \u001b[90m.\\\u001b[39m\u001b[90m\u001b[4mrefvalue.jl:57\u001b[24m\u001b[39m\n",
      "    [3] \u001b[0m\u001b[1mchange_directory\u001b[22m\u001b[0m\u001b[1m(\u001b[22m\u001b[90moperand\u001b[39m::\u001b[0mSubString\u001b[90m{String}\u001b[39m, \u001b[90mroot\u001b[39m::\u001b[0mDirectory, \u001b[90mcurrent_dir\u001b[39m::\u001b[0mBase.RefValue\u001b[90m{Directory}\u001b[39m\u001b[0m\u001b[1m)\u001b[22m\n",
      "  \u001b[90m    @ \u001b[39m\u001b[35mMain\u001b[39m \u001b[90mc:\\code\\advent-of-code-2022\\\u001b[39m\u001b[90m\u001b[4mday7.ipynb:3\u001b[24m\u001b[39m\n",
      "    [4] \u001b[0m\u001b[1msolve\u001b[22m\u001b[0m\u001b[1m(\u001b[22m\u001b[90minput\u001b[39m::\u001b[0mVector\u001b[90m{String}\u001b[39m, \u001b[90mmax_size\u001b[39m::\u001b[0mInt64\u001b[0m\u001b[1m)\u001b[22m\n",
      "  \u001b[90m    @ \u001b[39m\u001b[35mMain\u001b[39m \u001b[90mc:\\code\\advent-of-code-2022\\\u001b[39m\u001b[90m\u001b[4mday7.ipynb:8\u001b[24m\u001b[39m\n",
      "    [5] top-level scope\n",
      "  \u001b[90m    @ \u001b[39m\u001b[90mC:\\Users\\Home\\AppData\\Local\\Programs\\Julia-1.8.3\\share\\julia\\stdlib\\v1.8\\Test\\src\\\u001b[39m\u001b[90m\u001b[4mTest.jl:464\u001b[24m\u001b[39m\n",
      "    [6] \u001b[0m\u001b[1meval\u001b[22m\n",
      "  \u001b[90m    @ \u001b[39m\u001b[90m.\\\u001b[39m\u001b[90m\u001b[4mboot.jl:368\u001b[24m\u001b[39m\u001b[90m [inlined]\u001b[39m\n",
      "    [7] \u001b[0m\u001b[1minclude_string\u001b[22m\u001b[0m\u001b[1m(\u001b[22m\u001b[90mmapexpr\u001b[39m::\u001b[0mtypeof(REPL.softscope), \u001b[90mmod\u001b[39m::\u001b[0mModule, \u001b[90mcode\u001b[39m::\u001b[0mString, \u001b[90mfilename\u001b[39m::\u001b[0mString\u001b[0m\u001b[1m)\u001b[22m\n",
      "  \u001b[90m    @ \u001b[39m\u001b[90mBase\u001b[39m \u001b[90m.\\\u001b[39m\u001b[90m\u001b[4mloading.jl:1428\u001b[24m\u001b[39m\n",
      "    [8] \u001b[0m\u001b[1m#invokelatest#2\u001b[22m\n",
      "  \u001b[90m    @ \u001b[39m\u001b[90m.\\\u001b[39m\u001b[90m\u001b[4messentials.jl:729\u001b[24m\u001b[39m\u001b[90m [inlined]\u001b[39m\n",
      "    [9] \u001b[0m\u001b[1minvokelatest\u001b[22m\n",
      "  \u001b[90m    @ \u001b[39m\u001b[90m.\\\u001b[39m\u001b[90m\u001b[4messentials.jl:726\u001b[24m\u001b[39m\u001b[90m [inlined]\u001b[39m\n",
      "   [10] \u001b[0m\u001b[1m(::VSCodeServer.var\"#198#199\"{VSCodeServer.NotebookRunCellArguments, String})\u001b[22m\u001b[0m\u001b[1m(\u001b[22m\u001b[0m\u001b[1m)\u001b[22m\n",
      "  \u001b[90m    @ \u001b[39m\u001b[36mVSCodeServer\u001b[39m \u001b[90mc:\\Users\\Home\\.vscode\\extensions\\julialang.language-julia-1.38.2\\scripts\\packages\\VSCodeServer\\src\\\u001b[39m\u001b[90m\u001b[4mserve_notebook.jl:19\u001b[24m\u001b[39m\n",
      "   [11] \u001b[0m\u001b[1mwithpath\u001b[22m\u001b[0m\u001b[1m(\u001b[22m\u001b[90mf\u001b[39m::\u001b[0mVSCodeServer.var\"#198#199\"\u001b[90m{VSCodeServer.NotebookRunCellArguments, String}\u001b[39m, \u001b[90mpath\u001b[39m::\u001b[0mString\u001b[0m\u001b[1m)\u001b[22m\n",
      "  \u001b[90m    @ \u001b[39m\u001b[36mVSCodeServer\u001b[39m \u001b[90mc:\\Users\\Home\\.vscode\\extensions\\julialang.language-julia-1.38.2\\scripts\\packages\\VSCodeServer\\src\\\u001b[39m\u001b[90m\u001b[4mrepl.jl:249\u001b[24m\u001b[39m\n",
      "   [12] \u001b[0m\u001b[1mnotebook_runcell_request\u001b[22m\u001b[0m\u001b[1m(\u001b[22m\u001b[90mconn\u001b[39m::\u001b[0mVSCodeServer.JSONRPC.JSONRPCEndpoint\u001b[90m{Base.PipeEndpoint, Base.PipeEndpoint}\u001b[39m, \u001b[90mparams\u001b[39m::\u001b[0mVSCodeServer.NotebookRunCellArguments\u001b[0m\u001b[1m)\u001b[22m\n",
      "  \u001b[90m    @ \u001b[39m\u001b[36mVSCodeServer\u001b[39m \u001b[90mc:\\Users\\Home\\.vscode\\extensions\\julialang.language-julia-1.38.2\\scripts\\packages\\VSCodeServer\\src\\\u001b[39m\u001b[90m\u001b[4mserve_notebook.jl:13\u001b[24m\u001b[39m\n",
      "   [13] \u001b[0m\u001b[1mdispatch_msg\u001b[22m\u001b[0m\u001b[1m(\u001b[22m\u001b[90mx\u001b[39m::\u001b[0mVSCodeServer.JSONRPC.JSONRPCEndpoint\u001b[90m{Base.PipeEndpoint, Base.PipeEndpoint}\u001b[39m, \u001b[90mdispatcher\u001b[39m::\u001b[0mVSCodeServer.JSONRPC.MsgDispatcher, \u001b[90mmsg\u001b[39m::\u001b[0mDict\u001b[90m{String, Any}\u001b[39m\u001b[0m\u001b[1m)\u001b[22m\n",
      "  \u001b[90m    @ \u001b[39m\u001b[36mVSCodeServer.JSONRPC\u001b[39m \u001b[90mc:\\Users\\Home\\.vscode\\extensions\\julialang.language-julia-1.38.2\\scripts\\packages\\JSONRPC\\src\\\u001b[39m\u001b[90m\u001b[4mtyped.jl:67\u001b[24m\u001b[39m\n",
      "   [14] \u001b[0m\u001b[1mserve_notebook\u001b[22m\u001b[0m\u001b[1m(\u001b[22m\u001b[90mpipename\u001b[39m::\u001b[0mString, \u001b[90moutputchannel_logger\u001b[39m::\u001b[0mBase.CoreLogging.SimpleLogger; \u001b[90mcrashreporting_pipename\u001b[39m::\u001b[0mString\u001b[0m\u001b[1m)\u001b[22m\n",
      "  \u001b[90m    @ \u001b[39m\u001b[36mVSCodeServer\u001b[39m \u001b[90mc:\\Users\\Home\\.vscode\\extensions\\julialang.language-julia-1.38.2\\scripts\\packages\\VSCodeServer\\src\\\u001b[39m\u001b[90m\u001b[4mserve_notebook.jl:139\u001b[24m\u001b[39m\n",
      "   [15] top-level scope\n",
      "  \u001b[90m    @ \u001b[39m\u001b[90mc:\\Users\\Home\\.vscode\\extensions\\julialang.language-julia-1.38.2\\scripts\\notebook\\\u001b[39m\u001b[90m\u001b[4mnotebook.jl:32\u001b[24m\u001b[39m\n",
      "   [16] \u001b[0m\u001b[1minclude\u001b[22m\u001b[0m\u001b[1m(\u001b[22m\u001b[90mmod\u001b[39m::\u001b[0mModule, \u001b[90m_path\u001b[39m::\u001b[0mString\u001b[0m\u001b[1m)\u001b[22m\n",
      "  \u001b[90m    @ \u001b[39m\u001b[90mBase\u001b[39m \u001b[90m.\\\u001b[39m\u001b[90m\u001b[4mBase.jl:419\u001b[24m\u001b[39m\n",
      "   [17] \u001b[0m\u001b[1mexec_options\u001b[22m\u001b[0m\u001b[1m(\u001b[22m\u001b[90mopts\u001b[39m::\u001b[0mBase.JLOptions\u001b[0m\u001b[1m)\u001b[22m\n",
      "  \u001b[90m    @ \u001b[39m\u001b[90mBase\u001b[39m \u001b[90m.\\\u001b[39m\u001b[90m\u001b[4mclient.jl:303\u001b[24m\u001b[39m\n",
      "   [18] \u001b[0m\u001b[1m_start\u001b[22m\u001b[0m\u001b[1m(\u001b[22m\u001b[0m\u001b[1m)\u001b[22m\n",
      "  \u001b[90m    @ \u001b[39m\u001b[90mBase\u001b[39m \u001b[90m.\\\u001b[39m\u001b[90m\u001b[4mclient.jl:522\u001b[24m\u001b[39m\n"
     ]
    },
    {
     "ename": "Test.FallbackTestSetException",
     "evalue": "Test.FallbackTestSetException(\"There was an error during testing\")",
     "output_type": "error",
     "traceback": [
      "Test.FallbackTestSetException(\"There was an error during testing\")\n",
      "\n",
      "Stacktrace:\n",
      " [1] record(ts::Test.FallbackTestSet, t::Union{Test.Error, Test.Fail})\n",
      "   @ Test C:\\Users\\Home\\AppData\\Local\\Programs\\Julia-1.8.3\\share\\julia\\stdlib\\v1.8\\Test\\src\\Test.jl:943\n",
      " [2] do_test(result::Test.ExecutionResult, orig_expr::Any)\n",
      "   @ Test C:\\Users\\Home\\AppData\\Local\\Programs\\Julia-1.8.3\\share\\julia\\stdlib\\v1.8\\Test\\src\\Test.jl:656\n",
      " [3] top-level scope\n",
      "   @ C:\\Users\\Home\\AppData\\Local\\Programs\\Julia-1.8.3\\share\\julia\\stdlib\\v1.8\\Test\\src\\Test.jl:464"
     ]
    }
   ],
   "source": [
    "@test solve(String.(split(\"\\$ cd /\n",
    "\\$ ls\n",
    "dir a\n",
    "14848514 b.txt\n",
    "8504156 c.dat\n",
    "dir d\n",
    "\\$ cd a\n",
    "\\$ ls\n",
    "dir e\n",
    "29116 f\n",
    "2557 g\n",
    "62596 h.lst\n",
    "\\$ cd e\n",
    "\\$ ls\n",
    "584 i\n",
    "\\$ cd ..\n",
    "\\$ cd ..\n",
    "\\$ cd d\n",
    "\\$ ls\n",
    "4060174 j\n",
    "8033020 d.log\n",
    "5626152 d.ext\n",
    "7214296 k\", \"\\n\")), 100000) == 95437\n"
   ]
  }
 ],
 "metadata": {
  "kernelspec": {
   "display_name": "Julia 1.8.3",
   "language": "julia",
   "name": "julia-1.8"
  },
  "language_info": {
   "file_extension": ".jl",
   "mimetype": "application/julia",
   "name": "julia",
   "version": "1.8.3"
  },
  "orig_nbformat": 4,
  "vscode": {
   "interpreter": {
    "hash": "a927d3b3a8556dee8e056d2355b59c9c86f8ba8aa64c851cc533da699ac13d07"
   }
  }
 },
 "nbformat": 4,
 "nbformat_minor": 2
}
