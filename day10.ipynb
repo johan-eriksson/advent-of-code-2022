{
 "cells": [
  {
   "cell_type": "code",
   "execution_count": 111,
   "metadata": {},
   "outputs": [],
   "source": [
    "using Test"
   ]
  },
  {
   "cell_type": "code",
   "execution_count": 112,
   "metadata": {},
   "outputs": [],
   "source": [
    "f = readlines(\"day10.input\");"
   ]
  },
  {
   "cell_type": "code",
   "execution_count": 113,
   "metadata": {},
   "outputs": [],
   "source": [
    "mutable struct Cpu\n",
    "    score::Int64\n",
    "    cycle::Int64\n",
    "    x::Int64 \n",
    "    Cpu() = new(0, 0, 1)\n",
    "end\n"
   ]
  },
  {
   "cell_type": "code",
   "execution_count": 114,
   "metadata": {},
   "outputs": [
    {
     "data": {
      "text/plain": [
       "increment_cycle (generic function with 1 method)"
      ]
     },
     "metadata": {},
     "output_type": "display_data"
    }
   ],
   "source": [
    "function increment_cycle(cpu::Cpu)\n",
    "    cpu.cycle += 1\n",
    "    if (20+cpu.cycle)%40 == 0 && cpu.cycle < 271\n",
    "        cpu.score += cpu.cycle*cpu.x\n",
    "    end\n",
    "\n",
    "    if cpu.cycle % 40 == 0\n",
    "        print('\\n')\n",
    "    end\n",
    "    print(abs(cpu.x - cpu.cycle) < 2 ? \"X\" : \"O\")\n",
    "end"
   ]
  },
  {
   "cell_type": "code",
   "execution_count": 115,
   "metadata": {},
   "outputs": [
    {
     "data": {
      "text/plain": [
       "noop (generic function with 1 method)"
      ]
     },
     "metadata": {},
     "output_type": "display_data"
    }
   ],
   "source": [
    "function noop(cpu::Cpu)\n",
    "    increment_cycle(cpu)\n",
    "end"
   ]
  },
  {
   "cell_type": "code",
   "execution_count": 116,
   "metadata": {},
   "outputs": [
    {
     "data": {
      "text/plain": [
       "addx (generic function with 1 method)"
      ]
     },
     "metadata": {},
     "output_type": "display_data"
    }
   ],
   "source": [
    "function addx(cpu::Cpu, val)\n",
    "    increment_cycle(cpu)\n",
    "    increment_cycle(cpu)\n",
    "    cpu.x += val\n",
    "end"
   ]
  },
  {
   "cell_type": "code",
   "execution_count": 117,
   "metadata": {},
   "outputs": [
    {
     "data": {
      "text/plain": [
       "run (generic function with 1 method)"
      ]
     },
     "metadata": {},
     "output_type": "display_data"
    }
   ],
   "source": [
    "function run(cpu::Cpu, instructions)\n",
    "    for instruction in instructions\n",
    "        if instruction == \"noop\"\n",
    "            noop(cpu)\n",
    "        else\n",
    "            addx(cpu, parse(Int64, last(split(instruction))))\n",
    "        end\n",
    "    end\n",
    "end"
   ]
  },
  {
   "cell_type": "code",
   "execution_count": 118,
   "metadata": {},
   "outputs": [
    {
     "data": {
      "text/plain": [
       "solve_part_1 (generic function with 1 method)"
      ]
     },
     "metadata": {},
     "output_type": "display_data"
    }
   ],
   "source": [
    "function solve_part_1(input)\n",
    "    cpu = Cpu()\n",
    "    run(cpu, input)\n",
    "\n",
    "    cpu.score\n",
    "end "
   ]
  },
  {
   "cell_type": "code",
   "execution_count": 119,
   "metadata": {},
   "outputs": [
    {
     "name": "stdout",
     "output_type": "stream",
     "text": [
      "XXOOXXOOXOOXXOOOXXOXXOOXXOOXXOOXXOOXXOO\n",
      "OOOOOOOOOOOOOOOOOOOOOOOO"
     ]
    },
    {
     "name": "stdout",
     "output_type": "stream",
     "text": [
      "OOOOOOOOOOOOOOOO\n",
      "OOOOOOOOOOOOOOOOOOOOOOOOOOOOOOOOOOOOOOOO\n",
      "OOOOOOOOOOOOOOOOOOOOOOOOOOOOOOOOOOOOOOOO\n",
      "OOOOOOOOOOOOOOOOOOOOOOOOOOOOOOOOOOOOOOOO\n",
      "OOOOOOOOOOOOOOOOOO"
     ]
    },
    {
     "name": "stdout",
     "output_type": "stream",
     "text": [
      "OOOOOOOOOOOOOOOOOOOOOO\n",
      "O"
     ]
    },
    {
     "data": {
      "text/plain": [
       "\u001b[32m\u001b[1mTest Passed\u001b[22m\u001b[39m"
      ]
     },
     "metadata": {},
     "output_type": "display_data"
    }
   ],
   "source": [
    "@test solve_part_1(String.(split(\"addx 15\n",
    "addx -11\n",
    "addx 6\n",
    "addx -3\n",
    "addx 5\n",
    "addx -1\n",
    "addx -8\n",
    "addx 13\n",
    "addx 4\n",
    "noop\n",
    "addx -1\n",
    "addx 5\n",
    "addx -1\n",
    "addx 5\n",
    "addx -1\n",
    "addx 5\n",
    "addx -1\n",
    "addx 5\n",
    "addx -1\n",
    "addx -35\n",
    "addx 1\n",
    "addx 24\n",
    "addx -19\n",
    "addx 1\n",
    "addx 16\n",
    "addx -11\n",
    "noop\n",
    "noop\n",
    "addx 21\n",
    "addx -15\n",
    "noop\n",
    "noop\n",
    "addx -3\n",
    "addx 9\n",
    "addx 1\n",
    "addx -3\n",
    "addx 8\n",
    "addx 1\n",
    "addx 5\n",
    "noop\n",
    "noop\n",
    "noop\n",
    "noop\n",
    "noop\n",
    "addx -36\n",
    "noop\n",
    "addx 1\n",
    "addx 7\n",
    "noop\n",
    "noop\n",
    "noop\n",
    "addx 2\n",
    "addx 6\n",
    "noop\n",
    "noop\n",
    "noop\n",
    "noop\n",
    "noop\n",
    "addx 1\n",
    "noop\n",
    "noop\n",
    "addx 7\n",
    "addx 1\n",
    "noop\n",
    "addx -13\n",
    "addx 13\n",
    "addx 7\n",
    "noop\n",
    "addx 1\n",
    "addx -33\n",
    "noop\n",
    "noop\n",
    "noop\n",
    "addx 2\n",
    "noop\n",
    "noop\n",
    "noop\n",
    "addx 8\n",
    "noop\n",
    "addx -1\n",
    "addx 2\n",
    "addx 1\n",
    "noop\n",
    "addx 17\n",
    "addx -9\n",
    "addx 1\n",
    "addx 1\n",
    "addx -3\n",
    "addx 11\n",
    "noop\n",
    "noop\n",
    "addx 1\n",
    "noop\n",
    "addx 1\n",
    "noop\n",
    "noop\n",
    "addx -13\n",
    "addx -19\n",
    "addx 1\n",
    "addx 3\n",
    "addx 26\n",
    "addx -30\n",
    "addx 12\n",
    "addx -1\n",
    "addx 3\n",
    "addx 1\n",
    "noop\n",
    "noop\n",
    "noop\n",
    "addx -9\n",
    "addx 18\n",
    "addx 1\n",
    "addx 2\n",
    "noop\n",
    "noop\n",
    "addx 9\n",
    "noop\n",
    "noop\n",
    "noop\n",
    "addx -1\n",
    "addx 2\n",
    "addx -37\n",
    "addx 1\n",
    "addx 3\n",
    "noop\n",
    "addx 15\n",
    "addx -21\n",
    "addx 22\n",
    "addx -6\n",
    "addx 1\n",
    "noop\n",
    "addx 2\n",
    "addx 1\n",
    "noop\n",
    "addx -10\n",
    "noop\n",
    "noop\n",
    "addx 20\n",
    "addx 1\n",
    "addx 2\n",
    "addx 2\n",
    "addx -6\n",
    "addx -11\n",
    "noop\n",
    "noop\n",
    "noop\", \"\\n\"))) == 13140\n"
   ]
  },
  {
   "cell_type": "code",
   "execution_count": 120,
   "metadata": {},
   "outputs": [
    {
     "data": {
      "text/plain": [
       "solve_part_2 (generic function with 1 method)"
      ]
     },
     "metadata": {},
     "output_type": "display_data"
    }
   ],
   "source": [
    "function solve_part_2(input)\n",
    "    0\n",
    "end\n"
   ]
  },
  {
   "cell_type": "code",
   "execution_count": 121,
   "metadata": {},
   "outputs": [
    {
     "name": "stdout",
     "output_type": "stream",
     "text": [
      "XXOOXXXXOOXOOOOXXOOXXXXOXXXXOOOXXXXXXXO\n",
      "OOOOOOOOOOOOOOOOOOOOOOOOOOOOOOOOOOOOOOOO\n",
      "OOOOOOOOOOOOOOOOOOOOOOOOOOOOOOOOOOOOOOOO\n",
      "OOOOOOOOOOOOOOOOOOOOOO"
     ]
    },
    {
     "name": "stdout",
     "output_type": "stream",
     "text": [
      "OOOOOOOOOOOOOOOOOO\n",
      "OOOOOOOOOOOOOOOOOOOOOOOOOOOOOOOOOOOOOOOO\n",
      "OOOOOOOOOOOOOOOOOOOOOOOOOOOOOOO"
     ]
    },
    {
     "name": "stdout",
     "output_type": "stream",
     "text": [
      "OOOOOOOOO\n",
      "O"
     ]
    },
    {
     "data": {
      "text/plain": [
       "(14520, 0)"
      ]
     },
     "metadata": {},
     "output_type": "display_data"
    }
   ],
   "source": [
    "(solve_part_1(f), solve_part_2(f))"
   ]
  },
  {
   "cell_type": "code",
   "execution_count": 122,
   "metadata": {},
   "outputs": [
    {
     "name": "stdout",
     "output_type": "stream",
     "text": [
      "\u001b[91m\u001b[1mTest Failed\u001b[22m\u001b[39m at \u001b[39m\u001b[1mc:\\code\\advent-of-code-2022\\day10.ipynb:1\u001b[22m\n",
      "  Expression: solve_part_2(String.(split(\"R 4\\nU 4\\nL 3\\nD 1\\nR 4\\nD 1\\nL 5\\nR 2\", \"\\n\"))) == 1\n",
      "   Evaluated: 0 == 1\n"
     ]
    },
    {
     "ename": "Test.FallbackTestSetException",
     "evalue": "Test.FallbackTestSetException(\"There was an error during testing\")",
     "output_type": "error",
     "traceback": [
      "Test.FallbackTestSetException(\"There was an error during testing\")\n",
      "\n",
      "Stacktrace:\n",
      " [1] record(ts::Test.FallbackTestSet, t::Union{Test.Error, Test.Fail})\n",
      "   @ Test C:\\Users\\Home\\AppData\\Local\\Programs\\Julia-1.8.3\\share\\julia\\stdlib\\v1.8\\Test\\src\\Test.jl:943\n",
      " [2] do_test(result::Test.ExecutionResult, orig_expr::Any)\n",
      "   @ Test C:\\Users\\Home\\AppData\\Local\\Programs\\Julia-1.8.3\\share\\julia\\stdlib\\v1.8\\Test\\src\\Test.jl:656\n",
      " [3] top-level scope\n",
      "   @ C:\\Users\\Home\\AppData\\Local\\Programs\\Julia-1.8.3\\share\\julia\\stdlib\\v1.8\\Test\\src\\Test.jl:464"
     ]
    }
   ],
   "source": [
    "@test solve_part_2(String.(split(\"R 4\n",
    "U 4\n",
    "L 3\n",
    "D 1\n",
    "R 4\n",
    "D 1\n",
    "L 5\n",
    "R 2\", \"\\n\"))) == 1\n",
    "\n",
    "@test solve_part_2(String.(split(\"R 5\n",
    "U 8\n",
    "L 8\n",
    "D 3\n",
    "R 17\n",
    "D 10\n",
    "L 25\n",
    "U 20\", \"\\n\"))) == 36\n"
   ]
  }
 ],
 "metadata": {
  "kernelspec": {
   "display_name": "Julia 1.8.3",
   "language": "julia",
   "name": "julia-1.8"
  },
  "language_info": {
   "file_extension": ".jl",
   "mimetype": "application/julia",
   "name": "julia",
   "version": "1.8.3"
  },
  "orig_nbformat": 4,
  "vscode": {
   "interpreter": {
    "hash": "a927d3b3a8556dee8e056d2355b59c9c86f8ba8aa64c851cc533da699ac13d07"
   }
  }
 },
 "nbformat": 4,
 "nbformat_minor": 2
}
