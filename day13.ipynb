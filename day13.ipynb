{
 "cells": [
  {
   "cell_type": "code",
   "execution_count": 1,
   "metadata": {},
   "outputs": [],
   "source": [
    "using Test"
   ]
  },
  {
   "cell_type": "code",
   "execution_count": 2,
   "metadata": {},
   "outputs": [],
   "source": [
    "f = readlines(\"day13.input\");"
   ]
  },
  {
   "cell_type": "code",
   "execution_count": 3,
   "metadata": {},
   "outputs": [
    {
     "name": "stdout",
     "output_type": "stream",
     "text": [
      "\u001b[0m\u001b[1mTest Summary:   | \u001b[22m\u001b[32m\u001b[1mPass  \u001b[22m\u001b[39m\u001b[36m\u001b[1mTotal  \u001b[22m\u001b[39m\u001b[0m\u001b[1mTime\u001b[22m\n",
      "Part 1 examples | \u001b[32m   7  \u001b[39m\u001b[36m    7  \u001b[39m\u001b[0m0.6s\n"
     ]
    },
    {
     "data": {
      "text/plain": [
       "Test.DefaultTestSet(\"Part 1 examples\", Any[], 7, false, false, true, 1.671087401723e9, 1.671087402334e9)"
      ]
     },
     "metadata": {},
     "output_type": "display_data"
    }
   ],
   "source": [
    "function parse_list(input)\n",
    "    eval(Meta.parse(input))\n",
    "end\n",
    "\n",
    "\n",
    "@testset \"Part 1 examples\" begin\n",
    "    @test parse_list(\"[1,1,3,1,1]\") == [1,1,3,1,1]\n",
    "    @test parse_list(\"[]\") == []\n",
    "    @test parse_list(\"[[]]\") == [[]]\n",
    "    @test parse_list(\"[[4,4],4,4]\") == [[4,4],4,4]\n",
    "    @test parse_list(\"[[1],[2,3,4]]\") == [[1],[2,3,4]]\n",
    "    @test parse_list(\"[1,[2,[3,[4,[5,6,7]]]],8,9]\") == [1,[2,[3,[4,[5,6,7]]]],8,9]\n",
    "    @test parse_list(\"[3]\") == [3]\n",
    "end"
   ]
  },
  {
   "cell_type": "code",
   "execution_count": 4,
   "metadata": {},
   "outputs": [
    {
     "data": {
      "text/plain": [
       "parse_input (generic function with 1 method)"
      ]
     },
     "metadata": {},
     "output_type": "display_data"
    }
   ],
   "source": [
    "function parse_input(input)\n",
    "    packets = [parse_list(line) for line in input if !isempty(line)]\n",
    "end"
   ]
  },
  {
   "cell_type": "code",
   "execution_count": 5,
   "metadata": {},
   "outputs": [
    {
     "data": {
      "text/plain": [
       "16-element Vector{Vector}:\n",
       " [1, 1, 3, 1, 1]\n",
       " [1, 1, 5, 1, 1]\n",
       " [[1], [2, 3, 4]]\n",
       " Any[[1], 4]\n",
       " [9]\n",
       " [[8, 7, 6]]\n",
       " Any[[4, 4], 4, 4]\n",
       " Any[[4, 4], 4, 4, 4]\n",
       " [7, 7, 7, 7]\n",
       " [7, 7, 7]\n",
       " Any[]\n",
       " [3]\n",
       " Vector{Vector{Any}}[[[]]]\n",
       " Vector{Any}[[]]\n",
       " Any[1, Any[2, Any[3, Any[4, [5, 6, 7]]]], 8, 9]\n",
       " Any[1, Any[2, Any[3, Any[4, [5, 6, 0]]]], 8, 9]"
      ]
     },
     "metadata": {},
     "output_type": "display_data"
    }
   ],
   "source": [
    "parse_input(String.(split(\"[1,1,3,1,1]\n",
    "[1,1,5,1,1]\n",
    "\n",
    "[[1],[2,3,4]]\n",
    "[[1],4]\n",
    "\n",
    "[9]\n",
    "[[8,7,6]]\n",
    "\n",
    "[[4,4],4,4]\n",
    "[[4,4],4,4,4]\n",
    "\n",
    "[7,7,7,7]\n",
    "[7,7,7]\n",
    "\n",
    "[]\n",
    "[3]\n",
    "\n",
    "[[[]]]\n",
    "[[]]\n",
    "\n",
    "[1,[2,[3,[4,[5,6,7]]]],8,9]\n",
    "[1,[2,[3,[4,[5,6,0]]]],8,9]\", \"\\n\")))"
   ]
  },
  {
   "cell_type": "code",
   "execution_count": 6,
   "metadata": {},
   "outputs": [
    {
     "data": {
      "text/plain": [
       "\u001b[32m\u001b[1mTest Passed\u001b[22m\u001b[39m"
      ]
     },
     "metadata": {},
     "output_type": "display_data"
    }
   ],
   "source": [
    "function compare(packet1, packet2)\n",
    "    i = 0\n",
    "    while true\n",
    "        i += 1\n",
    "\n",
    "        i > length(packet1) && i > length(packet2) && return 0\n",
    "        i > length(packet1) && return -1\n",
    "        i > length(packet2) && return 1\n",
    "\n",
    "        left = packet1[i]\n",
    "        right = packet2[i]\n",
    "\n",
    "        if typeof(left) == Int64 && typeof(right) == Int64\n",
    "            if left == right\n",
    "                continue\n",
    "            end\n",
    "            return left < right ? -1 : 1\n",
    "        elseif typeof(left) == Int64\n",
    "            comp = compare([left], right)\n",
    "            if comp != 0\n",
    "                return comp\n",
    "            end\n",
    "        elseif typeof(right) == Int64\n",
    "            comp = compare(left, [right])\n",
    "            if comp != 0\n",
    "                return comp\n",
    "            end\n",
    "        else\n",
    "            comp = compare(left, right)\n",
    "            if comp != 0\n",
    "                return comp\n",
    "            end\n",
    "        end\n",
    "    end\n",
    "end\n",
    "\n",
    "@test compare([1,1,3,1,1], [1,1,5,1,1]) == -1\n",
    "@test compare([[1],[2,3,4]], [[1],4]) == -1\n",
    "@test compare([9], [[8,7,6]]) == 1"
   ]
  },
  {
   "cell_type": "code",
   "execution_count": 7,
   "metadata": {},
   "outputs": [
    {
     "data": {
      "text/plain": [
       "solve_part_1 (generic function with 1 method)"
      ]
     },
     "metadata": {},
     "output_type": "display_data"
    }
   ],
   "source": [
    "function solve_part_1(input)\n",
    "    packets = parse_input(input)\n",
    "    packet_pairs = [(packets[i], packets[i+1]) for i=1:2:length(packets)]\n",
    "\n",
    "    ordered_packets = []\n",
    "\n",
    "    for (i, (p1, p2)) in enumerate(packet_pairs)\n",
    "        if compare(p1, p2) == -1\n",
    "            push!(ordered_packets, i)\n",
    "        end\n",
    "    end\n",
    "\n",
    "    sum(ordered_packets)\n",
    "end"
   ]
  },
  {
   "cell_type": "code",
   "execution_count": 8,
   "metadata": {},
   "outputs": [
    {
     "data": {
      "text/plain": [
       "solve_part_2 (generic function with 1 method)"
      ]
     },
     "metadata": {},
     "output_type": "display_data"
    }
   ],
   "source": [
    "function solve_part_2(input)\n",
    "    packets = parse_input(input)\n",
    "    dividers = [[2], [6]]\n",
    "    push!(packets, dividers...)\n",
    "    \n",
    "    sort!(packets, lt=(a,b) -> compare(a, b) == -1)\n",
    "\n",
    "    prod(findall(p -> p in dividers, packets))\n",
    "end"
   ]
  },
  {
   "cell_type": "code",
   "execution_count": 9,
   "metadata": {},
   "outputs": [
    {
     "data": {
      "text/plain": [
       "\u001b[32m\u001b[1mTest Passed\u001b[22m\u001b[39m"
      ]
     },
     "metadata": {},
     "output_type": "display_data"
    }
   ],
   "source": [
    "@test solve_part_1(String.(split(\"[1,1,3,1,1]\n",
    "[1,1,5,1,1]\n",
    "\n",
    "[[1],[2,3,4]]\n",
    "[[1],4]\n",
    "\n",
    "[9]\n",
    "[[8,7,6]]\n",
    "\n",
    "[[4,4],4,4]\n",
    "[[4,4],4,4,4]\n",
    "\n",
    "[7,7,7,7]\n",
    "[7,7,7]\n",
    "\n",
    "[]\n",
    "[3]\n",
    "\n",
    "[[[]]]\n",
    "[[]]\n",
    "\n",
    "[1,[2,[3,[4,[5,6,7]]]],8,9]\n",
    "[1,[2,[3,[4,[5,6,0]]]],8,9]\", \"\\n\"))) == 13\n"
   ]
  },
  {
   "cell_type": "code",
   "execution_count": 10,
   "metadata": {},
   "outputs": [
    {
     "data": {
      "text/plain": [
       "\u001b[32m\u001b[1mTest Passed\u001b[22m\u001b[39m"
      ]
     },
     "metadata": {},
     "output_type": "display_data"
    }
   ],
   "source": [
    "@test solve_part_2(String.(split(\"[1,1,3,1,1]\n",
    "[1,1,5,1,1]\n",
    "\n",
    "[[1],[2,3,4]]\n",
    "[[1],4]\n",
    "\n",
    "[9]\n",
    "[[8,7,6]]\n",
    "\n",
    "[[4,4],4,4]\n",
    "[[4,4],4,4,4]\n",
    "\n",
    "[7,7,7,7]\n",
    "[7,7,7]\n",
    "\n",
    "[]\n",
    "[3]\n",
    "\n",
    "[[[]]]\n",
    "[[]]\n",
    "\n",
    "[1,[2,[3,[4,[5,6,7]]]],8,9]\n",
    "[1,[2,[3,[4,[5,6,0]]]],8,9]\", \"\\n\"))) == 140\n"
   ]
  },
  {
   "cell_type": "code",
   "execution_count": 11,
   "metadata": {},
   "outputs": [
    {
     "data": {
      "text/plain": [
       "(5196, 22134)"
      ]
     },
     "metadata": {},
     "output_type": "display_data"
    }
   ],
   "source": [
    "(solve_part_1(f), solve_part_2(f))"
   ]
  }
 ],
 "metadata": {
  "kernelspec": {
   "display_name": "Julia 1.8.3",
   "language": "julia",
   "name": "julia-1.8"
  },
  "language_info": {
   "file_extension": ".jl",
   "mimetype": "application/julia",
   "name": "julia",
   "version": "1.8.3"
  },
  "orig_nbformat": 4,
  "vscode": {
   "interpreter": {
    "hash": "a927d3b3a8556dee8e056d2355b59c9c86f8ba8aa64c851cc533da699ac13d07"
   }
  }
 },
 "nbformat": 4,
 "nbformat_minor": 2
}
