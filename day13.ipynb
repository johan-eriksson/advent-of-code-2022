{
 "cells": [
  {
   "cell_type": "code",
   "execution_count": 103,
   "metadata": {},
   "outputs": [],
   "source": [
    "using Test"
   ]
  },
  {
   "cell_type": "code",
   "execution_count": 104,
   "metadata": {},
   "outputs": [],
   "source": [
    "f = readlines(\"day13.input\");"
   ]
  },
  {
   "cell_type": "code",
   "execution_count": 105,
   "metadata": {},
   "outputs": [
    {
     "name": "stdout",
     "output_type": "stream",
     "text": [
      "\u001b[0m\u001b[1mTest Summary:   | \u001b[22m\u001b[32m\u001b[1mPass  \u001b[22m\u001b[39m\u001b[36m\u001b[1mTotal  \u001b[22m\u001b[39m\u001b[0m\u001b[1mTime\u001b[22m\n",
      "Part 1 examples | \u001b[32m   7  \u001b[39m\u001b[36m    7  \u001b[39m\u001b[0m0.0s\n"
     ]
    },
    {
     "data": {
      "text/plain": [
       "Test.DefaultTestSet(\"Part 1 examples\", Any[], 7, false, false, true, 1.671035188421e9, 1.671035188427e9)"
      ]
     },
     "metadata": {},
     "output_type": "display_data"
    }
   ],
   "source": [
    "function parse_list(input)\n",
    "    eval(Meta.parse(input))\n",
    "end\n",
    "\n",
    "\n",
    "@testset \"Part 1 examples\" begin\n",
    "    @test parse_list(\"[1,1,3,1,1]\") == [1,1,3,1,1]\n",
    "    @test parse_list(\"[]\") == []\n",
    "    @test parse_list(\"[[]]\") == [[]]\n",
    "    @test parse_list(\"[[4,4],4,4]\") == [[4,4],4,4]\n",
    "    @test parse_list(\"[[1],[2,3,4]]\") == [[1],[2,3,4]]\n",
    "    @test parse_list(\"[1,[2,[3,[4,[5,6,7]]]],8,9]\") == [1,[2,[3,[4,[5,6,7]]]],8,9]\n",
    "    @test parse_list(\"[3]\") == [3]\n",
    "end"
   ]
  },
  {
   "cell_type": "code",
   "execution_count": 106,
   "metadata": {},
   "outputs": [
    {
     "data": {
      "text/plain": [
       "parse_input (generic function with 1 method)"
      ]
     },
     "metadata": {},
     "output_type": "display_data"
    }
   ],
   "source": [
    "function parse_input(input)\n",
    "    packets = []\n",
    "\n",
    "    for line in input\n",
    "        if !isempty(line)\n",
    "            push!(packets, parse_list(line))\n",
    "        end\n",
    "    end\n",
    "\n",
    "    packets\n",
    "end"
   ]
  },
  {
   "cell_type": "code",
   "execution_count": 107,
   "metadata": {},
   "outputs": [
    {
     "data": {
      "text/plain": [
       "\u001b[32m\u001b[1mTest Passed\u001b[22m\u001b[39m"
      ]
     },
     "metadata": {},
     "output_type": "display_data"
    }
   ],
   "source": [
    "function compare(packet1, packet2)\n",
    "    i = 0\n",
    "    while true\n",
    "        i += 1\n",
    "\n",
    "        i > length(packet1) && i > length(packet2) && return 0\n",
    "        if i > length(packet1)\n",
    "            return -1\n",
    "        elseif i > length(packet2)\n",
    "            return 1\n",
    "        end\n",
    "\n",
    "\n",
    "        left = packet1[i]\n",
    "        right = packet2[i]\n",
    "\n",
    "        if typeof(left) == Int64 && typeof(right) == Int64\n",
    "            if left == right\n",
    "                continue\n",
    "            end\n",
    "            return left < right ? -1 : 1\n",
    "        elseif typeof(left) == Int64\n",
    "            comp = compare([left], right)\n",
    "            if comp != 0\n",
    "                return comp\n",
    "            end\n",
    "        elseif typeof(right) == Int64\n",
    "            comp = compare(left, [right])\n",
    "            if comp != 0\n",
    "                return comp\n",
    "            end\n",
    "        else\n",
    "            comp = compare(left, right)\n",
    "            if comp != 0\n",
    "                return comp\n",
    "            end\n",
    "        end\n",
    "    end\n",
    "end\n",
    "\n",
    "@test compare([1,1,3,1,1], [1,1,5,1,1]) == -1\n",
    "@test compare([[1],[2,3,4]], [[1],4]) == -1\n",
    "@test compare([9], [[8,7,6]]) == 1\n",
    "@test compare([[7,8,6,10],[8,[]]], [[7,[8],10],[5,4,[]]]) == -1"
   ]
  },
  {
   "cell_type": "code",
   "execution_count": 108,
   "metadata": {},
   "outputs": [
    {
     "data": {
      "text/plain": [
       "solve_part_1 (generic function with 1 method)"
      ]
     },
     "metadata": {},
     "output_type": "display_data"
    }
   ],
   "source": [
    "function solve_part_1(input)\n",
    "    packet_pairs = parse_input(input)\n",
    "\n",
    "    ordered_packets = []\n",
    "\n",
    "    for (i, (p1, p2)) in enumerate(packet_pairs)\n",
    "        if compare(p1, p2) == -1\n",
    "            push!(ordered_packets, i)\n",
    "        end\n",
    "    end\n",
    "\n",
    "    sum(ordered_packets)\n",
    "end"
   ]
  },
  {
   "cell_type": "code",
   "execution_count": 109,
   "metadata": {},
   "outputs": [
    {
     "data": {
      "text/plain": [
       "solve_part_2 (generic function with 1 method)"
      ]
     },
     "metadata": {},
     "output_type": "display_data"
    }
   ],
   "source": [
    "function solve_part_2(input)\n",
    "    packet_pairs = parse_input(input)\n",
    "    all_packets = reduce(packet_pairs)\n",
    "\n",
    "    ordered_packets = []\n",
    "\n",
    "    for (i, (p1, p2)) in enumerate(packet_pairs)\n",
    "        if compare(p1, p2) == -1\n",
    "            push!(ordered_packets, i)\n",
    "        end\n",
    "    end\n",
    "\n",
    "    sum(ordered_packets)\n",
    "end"
   ]
  },
  {
   "cell_type": "code",
   "execution_count": 110,
   "metadata": {},
   "outputs": [
    {
     "data": {
      "text/plain": [
       "\u001b[32m\u001b[1mTest Passed\u001b[22m\u001b[39m"
      ]
     },
     "metadata": {},
     "output_type": "display_data"
    }
   ],
   "source": [
    "@test solve_part_1(String.(split(\"[1,1,3,1,1]\n",
    "[1,1,5,1,1]\n",
    "\n",
    "[[1],[2,3,4]]\n",
    "[[1],4]\n",
    "\n",
    "[9]\n",
    "[[8,7,6]]\n",
    "\n",
    "[[4,4],4,4]\n",
    "[[4,4],4,4,4]\n",
    "\n",
    "[7,7,7,7]\n",
    "[7,7,7]\n",
    "\n",
    "[]\n",
    "[3]\n",
    "\n",
    "[[[]]]\n",
    "[[]]\n",
    "\n",
    "[1,[2,[3,[4,[5,6,7]]]],8,9]\n",
    "[1,[2,[3,[4,[5,6,0]]]],8,9]\", \"\\n\"))) == 13\n"
   ]
  },
  {
   "cell_type": "code",
   "execution_count": 112,
   "metadata": {},
   "outputs": [
    {
     "name": "stdout",
     "output_type": "stream",
     "text": [
      "\u001b[91m\u001b[1mTest Failed\u001b[22m\u001b[39m at \u001b[39m\u001b[1mc:\\code\\advent-of-code-2022\\day13.ipynb:1\u001b[22m\n",
      "  Expression: solve_part_2(String.(split(\"Sabqponm\\nabcryxxl\\naccszExk\\nacctuvwj\\nabdefghi\", \"\\n\"))) == 29\n",
      "   Evaluated: 0 == 29\n"
     ]
    },
    {
     "ename": "Test.FallbackTestSetException",
     "evalue": "Test.FallbackTestSetException(\"There was an error during testing\")",
     "output_type": "error",
     "traceback": [
      "Test.FallbackTestSetException(\"There was an error during testing\")\n",
      "\n",
      "Stacktrace:\n",
      " [1] record(ts::Test.FallbackTestSet, t::Union{Test.Error, Test.Fail})\n",
      "   @ Test C:\\Users\\Home\\AppData\\Local\\Programs\\Julia-1.8.3\\share\\julia\\stdlib\\v1.8\\Test\\src\\Test.jl:943\n",
      " [2] do_test(result::Test.ExecutionResult, orig_expr::Any)\n",
      "   @ Test C:\\Users\\Home\\AppData\\Local\\Programs\\Julia-1.8.3\\share\\julia\\stdlib\\v1.8\\Test\\src\\Test.jl:656\n",
      " [3] top-level scope\n",
      "   @ C:\\Users\\Home\\AppData\\Local\\Programs\\Julia-1.8.3\\share\\julia\\stdlib\\v1.8\\Test\\src\\Test.jl:464"
     ]
    }
   ],
   "source": [
    "@test solve_part_2(String.(split(\"[1,1,3,1,1]\n",
    "[1,1,5,1,1]\n",
    "\n",
    "[[1],[2,3,4]]\n",
    "[[1],4]\n",
    "\n",
    "[9]\n",
    "[[8,7,6]]\n",
    "\n",
    "[[4,4],4,4]\n",
    "[[4,4],4,4,4]\n",
    "\n",
    "[7,7,7,7]\n",
    "[7,7,7]\n",
    "\n",
    "[]\n",
    "[3]\n",
    "\n",
    "[[[]]]\n",
    "[[]]\n",
    "\n",
    "[1,[2,[3,[4,[5,6,7]]]],8,9]\n",
    "[1,[2,[3,[4,[5,6,0]]]],8,9]\", \"\\n\"))) == 140\n"
   ]
  },
  {
   "cell_type": "code",
   "execution_count": 111,
   "metadata": {},
   "outputs": [
    {
     "data": {
      "text/plain": [
       "(5196, 0)"
      ]
     },
     "metadata": {},
     "output_type": "display_data"
    }
   ],
   "source": [
    "(solve_part_1(f), solve_part_2(f))"
   ]
  }
 ],
 "metadata": {
  "kernelspec": {
   "display_name": "Julia 1.8.3",
   "language": "julia",
   "name": "julia-1.8"
  },
  "language_info": {
   "file_extension": ".jl",
   "mimetype": "application/julia",
   "name": "julia",
   "version": "1.8.3"
  },
  "orig_nbformat": 4,
  "vscode": {
   "interpreter": {
    "hash": "a927d3b3a8556dee8e056d2355b59c9c86f8ba8aa64c851cc533da699ac13d07"
   }
  }
 },
 "nbformat": 4,
 "nbformat_minor": 2
}
