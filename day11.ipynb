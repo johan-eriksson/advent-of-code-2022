{
 "cells": [
  {
   "cell_type": "code",
   "execution_count": 1,
   "metadata": {},
   "outputs": [],
   "source": [
    "using Test"
   ]
  },
  {
   "cell_type": "code",
   "execution_count": 2,
   "metadata": {},
   "outputs": [],
   "source": [
    "f = readlines(\"day11.input\");"
   ]
  },
  {
   "cell_type": "code",
   "execution_count": 3,
   "metadata": {},
   "outputs": [],
   "source": [
    "mutable struct Item\n",
    "    worry::Int64\n",
    "end\n"
   ]
  },
  {
   "cell_type": "code",
   "execution_count": 4,
   "metadata": {},
   "outputs": [],
   "source": [
    "mutable struct Monkey\n",
    "    times_inspected::Int64\n",
    "    items::Vector{Item}\n",
    "    operation::Function\n",
    "    test_dividend::Int64\n",
    "    true_monkey::Int64\n",
    "    false_monkey::Int64\n",
    "    Monkey(operation, test_dividend, true_monkey, false_monkey) = new(0, Vector{Item}(), operation, test_dividend, true_monkey, false_monkey)\n",
    "end"
   ]
  },
  {
   "cell_type": "code",
   "execution_count": 5,
   "metadata": {},
   "outputs": [
    {
     "data": {
      "text/plain": [
       "parse_input (generic function with 1 method)"
      ]
     },
     "metadata": {},
     "output_type": "display_data"
    }
   ],
   "source": [
    "function parse_input(input)\n",
    "    monkeys = Dict{Int64, Monkey}()\n",
    "    monkey_index = 0\n",
    "    i = 1\n",
    "    while i < length(input)\n",
    "        i += 1\n",
    "        line = last(split(input[i], \":\"))\n",
    "        items = [parse(Int64, num) for num in split(line, \",\")]\n",
    "\n",
    "        i += 1\n",
    "        contains(input[i], \"Operation\") || error(\"bad\")\n",
    "        operation_line = last(split(input[i], \"=\"))\n",
    "        operand1, operator, operand2 = split(operation_line)\n",
    "        if operator == \"*\"\n",
    "            parsed_operator = *\n",
    "        else\n",
    "            parsed_operator = +\n",
    "        end\n",
    "        if operand1 == \"old\" && operand2 == \"old\"\n",
    "            monkey_operation = x -> parsed_operator(x, x)\n",
    "        elseif operand1 == \"old\"\n",
    "            monkey_operation = x -> parsed_operator(x, parse(Int64, operand2))\n",
    "        elseif operand2 == \"old\"\n",
    "            monkey_operation = x -> parsed_operator(x, parse(Int64, operand1))\n",
    "        else\n",
    "            monkey_operation = x -> parsed_operator(parse(Int64, operand1), parse(Int64, operand2))\n",
    "        end\n",
    "\n",
    "        i += 1\n",
    "        line = last(split(input[i]))\n",
    "        dividend = parse(Int64, line)\n",
    "\n",
    "        i += 1\n",
    "        line = last(split(input[i]))\n",
    "        true_monkey = parse(Int64, line)\n",
    "\n",
    "        i += 1\n",
    "        line = last(split(input[i]))\n",
    "        false_monkey = parse(Int64, line)\n",
    "\n",
    "        monkeys[monkey_index] = Monkey(monkey_operation, dividend, true_monkey, false_monkey)\n",
    "        for item in items\n",
    "            push!(monkeys[monkey_index].items, Item(item))\n",
    "        end\n",
    "        monkey_index += 1\n",
    "        i += 2\n",
    "    end\n",
    "    monkeys\n",
    "end\n"
   ]
  },
  {
   "cell_type": "code",
   "execution_count": 6,
   "metadata": {},
   "outputs": [
    {
     "data": {
      "text/plain": [
       "25"
      ]
     },
     "metadata": {},
     "output_type": "display_data"
    }
   ],
   "source": [
    "test_monkey = parse_input(String.(split(\"Monkey 0:\n",
    "Starting items: 83, 88, 96, 79, 86, 88, 70\n",
    "Operation: new = old * 5\n",
    "Test: divisible by 11\n",
    "  If true: throw to monkey 2\n",
    "  If false: throw to monkey 3\", \"\\n\")))[0]\n",
    "\n",
    "test_monkey.operation(5)"
   ]
  },
  {
   "cell_type": "code",
   "execution_count": 7,
   "metadata": {},
   "outputs": [
    {
     "data": {
      "text/plain": [
       "solve (generic function with 1 method)"
      ]
     },
     "metadata": {},
     "output_type": "display_data"
    }
   ],
   "source": [
    "function solve(input, rounds, worry_adjustment)\n",
    "    monkeys = parse_input(input)\n",
    "    mega_number = map(*, (monkey.test_dividend for monkey in values(monkeys))...)\n",
    "    for round in 1:rounds\n",
    "        for monkey_index in 0:length(monkeys)-1\n",
    "            monkey = monkeys[monkey_index]\n",
    "            for _= 1:length(monkey.items)\n",
    "                monkey.times_inspected += 1\n",
    "                item = popfirst!(monkey.items)\n",
    "                item.worry %= mega_number\n",
    "                item.worry = monkey.operation(item.worry)\n",
    "                item.worry = worry_adjustment(item.worry)\n",
    "\n",
    "                if item.worry % monkey.test_dividend == 0\n",
    "                    target_monkey = monkey.true_monkey\n",
    "                else\n",
    "                    target_monkey = monkey.false_monkey\n",
    "                end\n",
    "                \n",
    "                push!(monkeys[target_monkey].items, item)\n",
    "            end\n",
    "\n",
    "            length(monkey.items) == 0 || error(\"items remaining\")\n",
    "        end\n",
    "\n",
    "        # if round == 20 || round%1000==0\n",
    "        #     for idx=0:length(monkeys)-1\n",
    "        #         value = monkeys[idx]\n",
    "        #         println(\"After $round rounds, monkey $idx inspected $(value.times_inspected) times.\")\n",
    "        #     end\n",
    "        # end\n",
    "    end\n",
    "\n",
    "    best_monkeys = first(sort(collect(values(monkeys)), by = m -> -m.times_inspected), 2)\n",
    "    best_monkeys[1].times_inspected * best_monkeys[2].times_inspected\n",
    "end"
   ]
  },
  {
   "cell_type": "code",
   "execution_count": 8,
   "metadata": {},
   "outputs": [
    {
     "data": {
      "text/plain": [
       "solve_part_1 (generic function with 1 method)"
      ]
     },
     "metadata": {},
     "output_type": "display_data"
    }
   ],
   "source": [
    "function solve_part_1(input)\n",
    "    solve(input, 20, worry -> worry ÷ 3)\n",
    "end"
   ]
  },
  {
   "cell_type": "code",
   "execution_count": 9,
   "metadata": {},
   "outputs": [
    {
     "data": {
      "text/plain": [
       "solve_part_2 (generic function with 1 method)"
      ]
     },
     "metadata": {},
     "output_type": "display_data"
    }
   ],
   "source": [
    "function solve_part_2(input)\n",
    "    solve(input, 10000, worry -> worry)\n",
    "end"
   ]
  },
  {
   "cell_type": "code",
   "execution_count": 10,
   "metadata": {},
   "outputs": [
    {
     "name": "stdout",
     "output_type": "stream",
     "text": [
      "96577"
     ]
    },
    {
     "data": {
      "text/plain": [
       "\u001b[32m\u001b[1mTest Passed\u001b[22m\u001b[39m"
      ]
     },
     "metadata": {},
     "output_type": "display_data"
    }
   ],
   "source": [
    "@test solve_part_1(String.(split(\"Monkey 0:\n",
    "Starting items: 79, 98\n",
    "Operation: new = old * 19\n",
    "Test: divisible by 23\n",
    "  If true: throw to monkey 2\n",
    "  If false: throw to monkey 3\n",
    "\n",
    "Monkey 1:\n",
    "Starting items: 54, 65, 75, 74\n",
    "Operation: new = old + 6\n",
    "Test: divisible by 19\n",
    "  If true: throw to monkey 2\n",
    "  If false: throw to monkey 0\n",
    "\n",
    "Monkey 2:\n",
    "Starting items: 79, 60, 97\n",
    "Operation: new = old * old\n",
    "Test: divisible by 13\n",
    "  If true: throw to monkey 1\n",
    "  If false: throw to monkey 3\n",
    "\n",
    "Monkey 3:\n",
    "Starting items: 74\n",
    "Operation: new = old + 3\n",
    "Test: divisible by 17\n",
    "  If true: throw to monkey 0\n",
    "  If false: throw to monkey 1\", \"\\n\"))) == 10605\n"
   ]
  },
  {
   "cell_type": "code",
   "execution_count": 11,
   "metadata": {},
   "outputs": [
    {
     "name": "stdout",
     "output_type": "stream",
     "text": [
      "96996909699690"
     ]
    },
    {
     "data": {
      "text/plain": [
       "(64032, 12729522272)"
      ]
     },
     "metadata": {},
     "output_type": "display_data"
    }
   ],
   "source": [
    "(solve_part_1(f), solve_part_2(f))"
   ]
  },
  {
   "cell_type": "code",
   "execution_count": 12,
   "metadata": {},
   "outputs": [
    {
     "name": "stdout",
     "output_type": "stream",
     "text": [
      "96577"
     ]
    },
    {
     "data": {
      "text/plain": [
       "\u001b[32m\u001b[1mTest Passed\u001b[22m\u001b[39m"
      ]
     },
     "metadata": {},
     "output_type": "display_data"
    }
   ],
   "source": [
    "@test solve_part_2(String.(split(\"Monkey 0:\n",
    "Starting items: 79, 98\n",
    "Operation: new = old * 19\n",
    "Test: divisible by 23\n",
    "  If true: throw to monkey 2\n",
    "  If false: throw to monkey 3\n",
    "\n",
    "Monkey 1:\n",
    "Starting items: 54, 65, 75, 74\n",
    "Operation: new = old + 6\n",
    "Test: divisible by 19\n",
    "  If true: throw to monkey 2\n",
    "  If false: throw to monkey 0\n",
    "\n",
    "Monkey 2:\n",
    "Starting items: 79, 60, 97\n",
    "Operation: new = old * old\n",
    "Test: divisible by 13\n",
    "  If true: throw to monkey 1\n",
    "  If false: throw to monkey 3\n",
    "\n",
    "Monkey 3:\n",
    "Starting items: 74\n",
    "Operation: new = old + 3\n",
    "Test: divisible by 17\n",
    "  If true: throw to monkey 0\n",
    "  If false: throw to monkey 1\", \"\\n\"))) == 2713310158"
   ]
  }
 ],
 "metadata": {
  "kernelspec": {
   "display_name": "Julia 1.8.3",
   "language": "julia",
   "name": "julia-1.8"
  },
  "language_info": {
   "file_extension": ".jl",
   "mimetype": "application/julia",
   "name": "julia",
   "version": "1.8.3"
  },
  "orig_nbformat": 4,
  "vscode": {
   "interpreter": {
    "hash": "a927d3b3a8556dee8e056d2355b59c9c86f8ba8aa64c851cc533da699ac13d07"
   }
  }
 },
 "nbformat": 4,
 "nbformat_minor": 2
}
