{
 "cells": [
  {
   "cell_type": "code",
   "execution_count": 43,
   "metadata": {},
   "outputs": [
    {
     "data": {
      "text/plain": [
       "2500-element Vector{String}:\n",
       " \"C X\"\n",
       " \"B Y\"\n",
       " \"C Z\"\n",
       " \"C Z\"\n",
       " \"B X\"\n",
       " \"C Z\"\n",
       " \"C Z\"\n",
       " \"C Z\"\n",
       " \"B X\"\n",
       " \"B Y\"\n",
       " ⋮\n",
       " \"A Y\"\n",
       " \"C Z\"\n",
       " \"C Z\"\n",
       " \"B Z\"\n",
       " \"B Z\"\n",
       " \"A X\"\n",
       " \"A X\"\n",
       " \"C Y\"\n",
       " \"B X\""
      ]
     },
     "metadata": {},
     "output_type": "display_data"
    }
   ],
   "source": [
    "f = readlines(\"day2.input\")"
   ]
  },
  {
   "cell_type": "code",
   "execution_count": 44,
   "metadata": {},
   "outputs": [
    {
     "data": {
      "text/plain": [
       "13131"
      ]
     },
     "metadata": {},
     "output_type": "display_data"
    }
   ],
   "source": [
    "score_sum = 0\n",
    "for line in f\n",
    "    if(length(line) == 3)\n",
    "        elf_choice = parse_elf(line[1])\n",
    "        my_choice = parse_me(line[3])\n",
    "        score_sum += get_score(elf_choice, my_choice)\n",
    "    end\n",
    "end\n",
    "\n",
    "score_sum"
   ]
  },
  {
   "cell_type": "code",
   "execution_count": 6,
   "metadata": {},
   "outputs": [
    {
     "data": {
      "text/plain": [
       "parse_elf (generic function with 1 method)"
      ]
     },
     "metadata": {},
     "output_type": "display_data"
    }
   ],
   "source": [
    "function parse_elf(chr)\n",
    "    if chr == 'A'\n",
    "        return 1\n",
    "    end\n",
    "    if chr == 'B'\n",
    "        return 2\n",
    "    end\n",
    "    if chr == 'C'\n",
    "        return 3\n",
    "    end\n",
    "\n",
    "    throw\n",
    "end"
   ]
  },
  {
   "cell_type": "code",
   "execution_count": 7,
   "metadata": {},
   "outputs": [
    {
     "data": {
      "text/plain": [
       "parse_me (generic function with 1 method)"
      ]
     },
     "metadata": {},
     "output_type": "display_data"
    }
   ],
   "source": [
    "function parse_me(chr)\n",
    "    if chr == 'X'\n",
    "        return 1\n",
    "    end\n",
    "    if chr == 'Y'\n",
    "        return 2\n",
    "    end\n",
    "    if chr == 'Z'\n",
    "        return 3\n",
    "    end\n",
    "\n",
    "    throw\n",
    "end"
   ]
  },
  {
   "cell_type": "code",
   "execution_count": 28,
   "metadata": {},
   "outputs": [
    {
     "data": {
      "text/plain": [
       "get_score (generic function with 1 method)"
      ]
     },
     "metadata": {},
     "output_type": "display_data"
    }
   ],
   "source": [
    "function get_score(elf, me) #part 1\n",
    "    win = 6\n",
    "    draw = 3\n",
    "    loss = 0\n",
    "    if elf == me\n",
    "        return draw + me\n",
    "    end\n",
    "    if elf == 1\n",
    "        if me == 2\n",
    "            return win + me\n",
    "        end\n",
    "        return loss + me\n",
    "    end\n",
    "    if elf == 2\n",
    "        if me == 1\n",
    "            return loss + me\n",
    "        end\n",
    "        return win + me\n",
    "    end\n",
    "    if elf == 3\n",
    "        if me == 1\n",
    "            return win + me\n",
    "        end\n",
    "        return loss + me\n",
    "    end\n",
    "\n",
    "    throw\n",
    "end"
   ]
  },
  {
   "cell_type": "code",
   "execution_count": 40,
   "metadata": {},
   "outputs": [
    {
     "data": {
      "text/plain": [
       "get_score (generic function with 1 method)"
      ]
     },
     "metadata": {},
     "output_type": "display_data"
    }
   ],
   "source": [
    "function get_score(elf, outcome) #part 2\n",
    "    win = 6\n",
    "    draw = 3\n",
    "    loss = 0\n",
    "    if outcome == 1\n",
    "        return loss + loses(elf)\n",
    "    end\n",
    "    if outcome == 2\n",
    "        return draw + elf\n",
    "    end\n",
    "    if outcome == 3\n",
    "        return win + beats(elf)\n",
    "    end\n",
    "\n",
    "    throw\n",
    "end"
   ]
  },
  {
   "cell_type": "code",
   "execution_count": 38,
   "metadata": {},
   "outputs": [
    {
     "data": {
      "text/plain": [
       "beats (generic function with 1 method)"
      ]
     },
     "metadata": {},
     "output_type": "display_data"
    }
   ],
   "source": [
    "function beats(choice) #part 2\n",
    "    if choice == 1\n",
    "        return 2\n",
    "    end\n",
    "    if choice == 2\n",
    "        return 3\n",
    "    end\n",
    "    if choice == 3\n",
    "        return 1\n",
    "    end\n",
    "\n",
    "    throw\n",
    "end"
   ]
  },
  {
   "cell_type": "code",
   "execution_count": 39,
   "metadata": {},
   "outputs": [
    {
     "data": {
      "text/plain": [
       "loses (generic function with 1 method)"
      ]
     },
     "metadata": {},
     "output_type": "display_data"
    }
   ],
   "source": [
    "function loses(choice)\n",
    "    if choice == 1\n",
    "        return 3\n",
    "    end\n",
    "    if choice == 2\n",
    "        return 1\n",
    "    end\n",
    "    if choice == 3\n",
    "        return 2\n",
    "    end\n",
    "\n",
    "    throw\n",
    "end"
   ]
  }
 ],
 "metadata": {
  "kernelspec": {
   "display_name": "Julia 1.8.3",
   "language": "julia",
   "name": "julia-1.8"
  },
  "language_info": {
   "file_extension": ".jl",
   "mimetype": "application/julia",
   "name": "julia",
   "version": "1.8.3"
  },
  "orig_nbformat": 4,
  "vscode": {
   "interpreter": {
    "hash": "a927d3b3a8556dee8e056d2355b59c9c86f8ba8aa64c851cc533da699ac13d07"
   }
  }
 },
 "nbformat": 4,
 "nbformat_minor": 2
}
