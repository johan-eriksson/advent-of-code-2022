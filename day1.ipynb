{
 "cells": [
  {
   "cell_type": "code",
   "execution_count": 2,
   "metadata": {},
   "outputs": [
    {
     "data": {
      "text/plain": [
       "2266-element Vector{String}:\n",
       " \"6669\"\n",
       " \"6434\"\n",
       " \"6564\"\n",
       " \"1032\"\n",
       " \"1098\"\n",
       " \"1829\"\n",
       " \"2608\"\n",
       " \"7322\"\n",
       " \"2690\"\n",
       " \"7061\"\n",
       " ⋮\n",
       " \"4638\"\n",
       " \"3773\"\n",
       " \"5037\"\n",
       " \"3731\"\n",
       " \"2676\"\n",
       " \"3567\"\n",
       " \"1159\"\n",
       " \"1136\"\n",
       " \"2883\""
      ]
     },
     "metadata": {},
     "output_type": "display_data"
    }
   ],
   "source": [
    "f = readlines(\"day1.input\")"
   ]
  },
  {
   "cell_type": "code",
   "execution_count": 5,
   "metadata": {},
   "outputs": [
    {
     "data": {
      "text/plain": [
       "(69912, 208180)"
      ]
     },
     "metadata": {},
     "output_type": "display_data"
    }
   ],
   "source": [
    "elf_sum = 0\n",
    "elves = Vector{Int64}()\n",
    "for line in f\n",
    "    num = tryparse(Int64, line)\n",
    "    if isnothing(num)\n",
    "        push!(elves, elf_sum)\n",
    "        elf_sum = 0\n",
    "    else\n",
    "        elf_sum += num        \n",
    "    end\n",
    "end\n",
    "\n",
    "part1 = maximum(elves)\n",
    "part2 = sum(last(sort(elves), 3))\n",
    "\n",
    "(part1, part2)"
   ]
  }
 ],
 "metadata": {
  "kernelspec": {
   "display_name": "Julia 1.8.3",
   "language": "julia",
   "name": "julia-1.8"
  },
  "language_info": {
   "file_extension": ".jl",
   "mimetype": "application/julia",
   "name": "julia",
   "version": "1.8.3"
  },
  "orig_nbformat": 4
 },
 "nbformat": 4,
 "nbformat_minor": 2
}
