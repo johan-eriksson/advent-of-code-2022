{
 "cells": [
  {
   "cell_type": "code",
   "execution_count": 15,
   "metadata": {},
   "outputs": [],
   "source": [
    "using Test"
   ]
  },
  {
   "cell_type": "code",
   "execution_count": 16,
   "metadata": {},
   "outputs": [],
   "source": [
    "f = readlines(\"day14.input\");"
   ]
  },
  {
   "cell_type": "code",
   "execution_count": 17,
   "metadata": {},
   "outputs": [
    {
     "data": {
      "text/plain": [
       "parse_int64 (generic function with 1 method)"
      ]
     },
     "metadata": {},
     "output_type": "display_data"
    }
   ],
   "source": [
    "function parse_int64(num)\n",
    "    parse(Int64, num)\n",
    "end"
   ]
  },
  {
   "cell_type": "code",
   "execution_count": 18,
   "metadata": {},
   "outputs": [
    {
     "data": {
      "text/plain": [
       "\u001b[32m\u001b[1mTest Passed\u001b[22m\u001b[39m"
      ]
     },
     "metadata": {},
     "output_type": "display_data"
    }
   ],
   "source": [
    "function parse_input(input)\n",
    "    min_x, max_x = 10000, 0\n",
    "    min_y, max_y = 10000, 0\n",
    "\n",
    "    rocks = Vector{Vector{Tuple{Int64, Int64}}}()\n",
    "    for line in input\n",
    "        rock = Vector{Tuple{Int64, Int64}}()\n",
    "        for coord in split(line, \"->\")\n",
    "            x, y = map(parse_int64, split(coord, \",\"))\n",
    "            push!(rock, (x, y))\n",
    "            max_x = max(x, max_x)\n",
    "            max_y = max(y, max_y)\n",
    "            min_y = min(y, min_y)\n",
    "            min_x = min(x, min_x)\n",
    "\n",
    "        end\n",
    "        push!(rocks, rock)\n",
    "    end\n",
    "\n",
    "    rocks, (min_x, max_x), (min_y, max_y)\n",
    "end\n",
    "\n",
    "@test parse_input(String.(split(\"498,4 -> 498,6 -> 496,6\n",
    "503,4 -> 502,4 -> 502,9 -> 494,9\", \"\\n\"))) == ([[(498, 4), (498, 6), (496, 6)], [(503, 4), (502, 4), (502, 9), (494, 9)]], (494, 503), (4, 9))\n"
   ]
  },
  {
   "cell_type": "code",
   "execution_count": 19,
   "metadata": {},
   "outputs": [
    {
     "data": {
      "text/plain": [
       "travel (generic function with 1 method)"
      ]
     },
     "metadata": {},
     "output_type": "display_data"
    }
   ],
   "source": [
    "function travel(p₀, p₁)\n",
    "    diff = p₁ .- p₀\n",
    "    step = sum(diff) > 0 ? 1 : -1\n",
    "    if diff[1] != 0\n",
    "        return [(x, p₀[2]) for x=p₀[1]:step:p₁[1]]\n",
    "    end\n",
    "    return [(p₀[1], y) for y=p₀[2]:step:p₁[2]]\n",
    "end"
   ]
  },
  {
   "cell_type": "code",
   "execution_count": 20,
   "metadata": {},
   "outputs": [
    {
     "data": {
      "text/plain": [
       "build_world (generic function with 1 method)"
      ]
     },
     "metadata": {},
     "output_type": "display_data"
    }
   ],
   "source": [
    "function build_world(rocks)\n",
    "    world = Dict{Tuple{Int64, Int64}, Int64}()\n",
    "\n",
    "    for rock in rocks\n",
    "        for i=1:length(rock)-1\n",
    "            from, to = rock[i], rock[i+1]\n",
    "            for p in travel(from, to)\n",
    "                world[p] = 1\n",
    "            end\n",
    "        end\n",
    "    end\n",
    "\n",
    "    world\n",
    "end"
   ]
  },
  {
   "cell_type": "code",
   "execution_count": 21,
   "metadata": {},
   "outputs": [
    {
     "data": {
      "text/plain": [
       "Dict{Tuple{Int64, Int64}, Int64} with 20 entries:\n",
       "  (496, 9) => 1\n",
       "  (498, 9) => 1\n",
       "  (502, 7) => 1\n",
       "  (499, 9) => 1\n",
       "  (498, 5) => 1\n",
       "  (502, 8) => 1\n",
       "  (496, 6) => 1\n",
       "  (501, 9) => 1\n",
       "  (498, 6) => 1\n",
       "  (497, 9) => 1\n",
       "  (503, 4) => 1\n",
       "  (502, 4) => 1\n",
       "  (497, 6) => 1\n",
       "  (494, 9) => 1\n",
       "  (502, 9) => 1\n",
       "  (500, 9) => 1\n",
       "  (495, 9) => 1\n",
       "  (502, 5) => 1\n",
       "  (498, 4) => 1\n",
       "  (502, 6) => 1"
      ]
     },
     "metadata": {},
     "output_type": "display_data"
    }
   ],
   "source": [
    "world = build_world(parse_input(String.(split(\"498,4 -> 498,6 -> 496,6\n",
    "503,4 -> 502,4 -> 502,9 -> 494,9\", \"\\n\")))[1])"
   ]
  },
  {
   "cell_type": "code",
   "execution_count": 22,
   "metadata": {},
   "outputs": [
    {
     "data": {
      "text/plain": [
       "\u001b[32m\u001b[1mTest Passed\u001b[22m\u001b[39m"
      ]
     },
     "metadata": {},
     "output_type": "display_data"
    }
   ],
   "source": [
    "function drop_sand(world, sand, floor)\n",
    "    x, y = sand\n",
    "    while y <= floor\n",
    "        if !((x, y+1) in keys(world))\n",
    "            y += 1\n",
    "            continue\n",
    "        else\n",
    "            if !((x-1, y+1) in keys(world))\n",
    "                y += 1\n",
    "                x -= 1\n",
    "                continue\n",
    "            end\n",
    "            if !((x+1, y+1) in keys(world))\n",
    "                y += 1\n",
    "                x += 1\n",
    "                continue\n",
    "            end\n",
    "        end\n",
    "\n",
    "        world[(x, y)] = 2\n",
    "        return true\n",
    "    end\n",
    "\n",
    "    return false\n",
    "end\n",
    "\n",
    "@test drop_sand(Dict(), (500, 0), 10) == false"
   ]
  },
  {
   "cell_type": "code",
   "execution_count": 29,
   "metadata": {},
   "outputs": [
    {
     "data": {
      "text/plain": [
       "drop_sand_part_2 (generic function with 1 method)"
      ]
     },
     "metadata": {},
     "output_type": "display_data"
    }
   ],
   "source": [
    "function drop_sand_part_2(world, sand, floor)\n",
    "    x, y = sand\n",
    "    while !(sand in keys(world))\n",
    "        if !((x, y+1) in keys(world) && y+1 < floor)\n",
    "            y += 1\n",
    "            continue\n",
    "        else\n",
    "            if !((x-1, y+1) in keys(world))\n",
    "                y += 1\n",
    "                x -= 1\n",
    "                continue\n",
    "            end\n",
    "            if !((x+1, y+1) in keys(world))\n",
    "                y += 1\n",
    "                x += 1\n",
    "                continue\n",
    "            end\n",
    "        end\n",
    "\n",
    "        world[(x, y)] = 2\n",
    "        return true\n",
    "    end\n",
    "\n",
    "    return false\n",
    "end"
   ]
  },
  {
   "cell_type": "code",
   "execution_count": 24,
   "metadata": {},
   "outputs": [
    {
     "data": {
      "text/plain": [
       "solve_part_1 (generic function with 1 method)"
      ]
     },
     "metadata": {},
     "output_type": "display_data"
    }
   ],
   "source": [
    "function solve_part_1(input)\n",
    "    rocks, x_range, y_range = parse_input(input)\n",
    "    floor = y_range[2]\n",
    "    world = build_world(rocks)\n",
    "    dropped = 0\n",
    "    while true\n",
    "        if !drop_sand(world, (500, 0), floor)\n",
    "            return dropped\n",
    "        end\n",
    "        dropped += 1\n",
    "    end\n",
    "end"
   ]
  },
  {
   "cell_type": "code",
   "execution_count": 25,
   "metadata": {},
   "outputs": [
    {
     "data": {
      "text/plain": [
       "solve_part_2 (generic function with 1 method)"
      ]
     },
     "metadata": {},
     "output_type": "display_data"
    }
   ],
   "source": [
    "function solve_part_2(input)\n",
    "    rocks, x_range, y_range = parse_input(input)\n",
    "    floor = y_range[2]+2\n",
    "    world = build_world(rocks)\n",
    "    for i=500-floor:500+floor\n",
    "        world[i, floor] = 1\n",
    "    end\n",
    "    dropped = 0\n",
    "    while true\n",
    "        if !drop_sand(world, (500, 0), floor+1)\n",
    "            return dropped\n",
    "        end\n",
    "        dropped += 1\n",
    "    end\n",
    "end"
   ]
  },
  {
   "cell_type": "code",
   "execution_count": 26,
   "metadata": {},
   "outputs": [
    {
     "data": {
      "text/plain": [
       "\u001b[32m\u001b[1mTest Passed\u001b[22m\u001b[39m"
      ]
     },
     "metadata": {},
     "output_type": "display_data"
    }
   ],
   "source": [
    "@test solve_part_1(String.(split(\"498,4 -> 498,6 -> 496,6\n",
    "503,4 -> 502,4 -> 502,9 -> 494,9\", \"\\n\"))) == 24\n"
   ]
  },
  {
   "cell_type": "code",
   "execution_count": 27,
   "metadata": {},
   "outputs": [
    {
     "ename": "MethodError",
     "evalue": "MethodError: no method matching !(::Tuple{Int64, Int64})\nClosest candidates are:\n  !(!Matched::Function) at operators.jl:1077\n  !(!Matched::Bool) at bool.jl:35\n  !(!Matched::Missing) at missing.jl:101",
     "output_type": "error",
     "traceback": [
      "MethodError: no method matching !(::Tuple{Int64, Int64})\n",
      "Closest candidates are:\n",
      "  !(!Matched::Function) at operators.jl:1077\n",
      "  !(!Matched::Bool) at bool.jl:35\n",
      "  !(!Matched::Missing) at missing.jl:101\n",
      "\n",
      "Stacktrace:\n",
      " [1] drop_sand_part_2(world::Dict{Tuple{Int64, Int64}, Int64}, sand::Tuple{Int64, Int64}, floor::Int64)\n",
      "   @ Main c:\\code\\advent-of-code-2022\\day14.ipynb:3\n",
      " [2] solve_part_2(input::Vector{String})\n",
      "   @ Main c:\\code\\advent-of-code-2022\\day14.ipynb:7\n",
      " [3] top-level scope\n",
      "   @ c:\\code\\advent-of-code-2022\\day14.ipynb:1"
     ]
    }
   ],
   "source": [
    "(solve_part_1(f), solve_part_2(f))"
   ]
  },
  {
   "cell_type": "code",
   "execution_count": 30,
   "metadata": {},
   "outputs": [],
   "source": [
    "@test solve_part_2(String.(split(\"498,4 -> 498,6 -> 496,6\n",
    "503,4 -> 502,4 -> 502,9 -> 494,9\", \"\\n\"))) == 93"
   ]
  }
 ],
 "metadata": {
  "kernelspec": {
   "display_name": "Julia 1.8.3",
   "language": "julia",
   "name": "julia-1.8"
  },
  "language_info": {
   "file_extension": ".jl",
   "mimetype": "application/julia",
   "name": "julia",
   "version": "1.8.3"
  },
  "orig_nbformat": 4,
  "vscode": {
   "interpreter": {
    "hash": "a927d3b3a8556dee8e056d2355b59c9c86f8ba8aa64c851cc533da699ac13d07"
   }
  }
 },
 "nbformat": 4,
 "nbformat_minor": 2
}
