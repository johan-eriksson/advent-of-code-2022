{
 "cells": [
  {
   "cell_type": "code",
   "execution_count": 1,
   "metadata": {},
   "outputs": [],
   "source": [
    "using Test"
   ]
  },
  {
   "cell_type": "code",
   "execution_count": 2,
   "metadata": {},
   "outputs": [],
   "source": [
    "f = readlines(\"day14.input\");"
   ]
  },
  {
   "cell_type": "code",
   "execution_count": 3,
   "metadata": {},
   "outputs": [
    {
     "data": {
      "text/plain": [
       "parse_int64 (generic function with 1 method)"
      ]
     },
     "metadata": {},
     "output_type": "display_data"
    }
   ],
   "source": [
    "function parse_int64(num)\n",
    "    parse(Int64, num)\n",
    "end"
   ]
  },
  {
   "cell_type": "code",
   "execution_count": 4,
   "metadata": {},
   "outputs": [
    {
     "data": {
      "text/plain": [
       "\u001b[32m\u001b[1mTest Passed\u001b[22m\u001b[39m"
      ]
     },
     "metadata": {},
     "output_type": "display_data"
    }
   ],
   "source": [
    "function parse_input(input)\n",
    "    min_x, max_x = 10000, 0\n",
    "    min_y, max_y = 10000, 0\n",
    "\n",
    "    rocks = Vector{Vector{Tuple{Int64, Int64}}}()\n",
    "    for line in input\n",
    "        rock = Vector{Tuple{Int64, Int64}}()\n",
    "        for coord in split(line, \"->\")\n",
    "            x, y = map(parse_int64, split(coord, \",\"))\n",
    "            push!(rock, (x, y))\n",
    "            max_x = max(x, max_x)\n",
    "            max_y = max(y, max_y)\n",
    "            min_y = min(y, min_y)\n",
    "            min_x = min(x, min_x)\n",
    "\n",
    "        end\n",
    "        push!(rocks, rock)\n",
    "    end\n",
    "\n",
    "    rocks, (min_x, max_x), (min_y, max_y)\n",
    "end\n",
    "\n",
    "@test parse_input(String.(split(\"498,4 -> 498,6 -> 496,6\n",
    "503,4 -> 502,4 -> 502,9 -> 494,9\", \"\\n\"))) == ([[(498, 4), (498, 6), (496, 6)], [(503, 4), (502, 4), (502, 9), (494, 9)]], (494, 503), (4, 9))\n"
   ]
  },
  {
   "cell_type": "code",
   "execution_count": 5,
   "metadata": {},
   "outputs": [
    {
     "data": {
      "text/plain": [
       "travel (generic function with 1 method)"
      ]
     },
     "metadata": {},
     "output_type": "display_data"
    }
   ],
   "source": [
    "function travel(p₀, p₁)\n",
    "    diff = p₁ .- p₀\n",
    "    step = sum(diff) > 0 ? 1 : -1\n",
    "    if diff[1] != 0\n",
    "        return [(x, p₀[2]) for x=p₀[1]:step:p₁[1]]\n",
    "    end\n",
    "    return [(p₀[1], y) for y=p₀[2]:step:p₁[2]]\n",
    "end"
   ]
  },
  {
   "cell_type": "code",
   "execution_count": 6,
   "metadata": {},
   "outputs": [
    {
     "data": {
      "text/plain": [
       "build_world (generic function with 1 method)"
      ]
     },
     "metadata": {},
     "output_type": "display_data"
    }
   ],
   "source": [
    "function build_world(rocks)\n",
    "    world = Dict{Tuple{Int64, Int64}, Int64}()\n",
    "\n",
    "    for rock in rocks\n",
    "        for i=1:length(rock)-1\n",
    "            from, to = rock[i], rock[i+1]\n",
    "            for p in travel(from, to)\n",
    "                world[p] = 1\n",
    "            end\n",
    "        end\n",
    "    end\n",
    "\n",
    "    world\n",
    "end"
   ]
  },
  {
   "cell_type": "code",
   "execution_count": 7,
   "metadata": {},
   "outputs": [
    {
     "data": {
      "text/plain": [
       "\u001b[32m\u001b[1mTest Passed\u001b[22m\u001b[39m"
      ]
     },
     "metadata": {},
     "output_type": "display_data"
    }
   ],
   "source": [
    "function drop_sand(world, sand, floor)\n",
    "    x, y = sand\n",
    "    while y <= floor\n",
    "        if !((x, y+1) in keys(world))\n",
    "            y += 1\n",
    "            continue\n",
    "        elseif !((x-1, y+1) in keys(world))\n",
    "            y += 1\n",
    "            x -= 1\n",
    "            continue\n",
    "        elseif !((x+1, y+1) in keys(world))\n",
    "            y += 1\n",
    "            x += 1\n",
    "            continue\n",
    "        end\n",
    "\n",
    "        world[(x, y)] = 2\n",
    "        return true\n",
    "    end\n",
    "\n",
    "    return false\n",
    "end\n",
    "\n",
    "@test drop_sand(Dict(), (500, 0), 10) == false"
   ]
  },
  {
   "cell_type": "code",
   "execution_count": 8,
   "metadata": {},
   "outputs": [
    {
     "data": {
      "text/plain": [
       "solve_part_1 (generic function with 1 method)"
      ]
     },
     "metadata": {},
     "output_type": "display_data"
    }
   ],
   "source": [
    "function solve_part_1(input)\n",
    "    rocks, x_range, y_range = parse_input(input)\n",
    "    floor = y_range[2]\n",
    "    world = build_world(rocks)\n",
    "    dropped = 0\n",
    "    while true\n",
    "        if !drop_sand(world, (500, 0), floor)\n",
    "            return dropped\n",
    "        end\n",
    "        dropped += 1\n",
    "    end\n",
    "end"
   ]
  },
  {
   "cell_type": "code",
   "execution_count": 9,
   "metadata": {},
   "outputs": [
    {
     "data": {
      "text/plain": [
       "solve_part_2 (generic function with 1 method)"
      ]
     },
     "metadata": {},
     "output_type": "display_data"
    }
   ],
   "source": [
    "function solve_part_2(input)\n",
    "    rocks, x_range, y_range = parse_input(input)\n",
    "    floor = y_range[2]+2\n",
    "    world = build_world(rocks)\n",
    "    for i=500-floor:500+floor\n",
    "        world[i, floor] = 1\n",
    "    end\n",
    "    dropped = 0\n",
    "    while true\n",
    "        if !drop_sand(world, (500, 0), floor+1)\n",
    "            return dropped\n",
    "        end\n",
    "        dropped += 1\n",
    "        if (500, 0) in keys(world)\n",
    "            return dropped\n",
    "        end\n",
    "    end\n",
    "end"
   ]
  },
  {
   "cell_type": "code",
   "execution_count": 10,
   "metadata": {},
   "outputs": [
    {
     "data": {
      "text/plain": [
       "\u001b[32m\u001b[1mTest Passed\u001b[22m\u001b[39m"
      ]
     },
     "metadata": {},
     "output_type": "display_data"
    }
   ],
   "source": [
    "@test solve_part_1(String.(split(\"498,4 -> 498,6 -> 496,6\n",
    "503,4 -> 502,4 -> 502,9 -> 494,9\", \"\\n\"))) == 24\n"
   ]
  },
  {
   "cell_type": "code",
   "execution_count": 11,
   "metadata": {},
   "outputs": [
    {
     "data": {
      "text/plain": [
       "\u001b[32m\u001b[1mTest Passed\u001b[22m\u001b[39m"
      ]
     },
     "metadata": {},
     "output_type": "display_data"
    }
   ],
   "source": [
    "@test solve_part_2(String.(split(\"498,4 -> 498,6 -> 496,6\n",
    "503,4 -> 502,4 -> 502,9 -> 494,9\", \"\\n\"))) == 93"
   ]
  },
  {
   "cell_type": "code",
   "execution_count": 12,
   "metadata": {},
   "outputs": [
    {
     "data": {
      "text/plain": [
       "(715, 25248)"
      ]
     },
     "metadata": {},
     "output_type": "display_data"
    }
   ],
   "source": [
    "(solve_part_1(f), solve_part_2(f))"
   ]
  }
 ],
 "metadata": {
  "kernelspec": {
   "display_name": "Julia 1.8.3",
   "language": "julia",
   "name": "julia-1.8"
  },
  "language_info": {
   "file_extension": ".jl",
   "mimetype": "application/julia",
   "name": "julia",
   "version": "1.8.3"
  },
  "orig_nbformat": 4,
  "vscode": {
   "interpreter": {
    "hash": "a927d3b3a8556dee8e056d2355b59c9c86f8ba8aa64c851cc533da699ac13d07"
   }
  }
 },
 "nbformat": 4,
 "nbformat_minor": 2
}
