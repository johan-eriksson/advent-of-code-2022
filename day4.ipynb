{
 "cells": [
  {
   "cell_type": "code",
   "execution_count": 1,
   "metadata": {},
   "outputs": [
    {
     "data": {
      "text/plain": [
       "1000-element Vector{String}:\n",
       " \"18-20,19-21\"\n",
       " \"9-86,9-87\"\n",
       " \"7-8,8-18\"\n",
       " \"82-98,98-99\"\n",
       " \"17-17,17-77\"\n",
       " \"13-21,20-79\"\n",
       " \"46-52,45-46\"\n",
       " \"34-54,37-53\"\n",
       " \"4-91,3-5\"\n",
       " \"9-80,5-83\"\n",
       " ⋮\n",
       " \"19-19,20-64\"\n",
       " \"99-99,7-97\"\n",
       " \"69-69,69-70\"\n",
       " \"9-99,8-99\"\n",
       " \"83-91,10-92\"\n",
       " \"22-22,21-21\"\n",
       " \"41-67,40-42\"\n",
       " \"2-8,7-61\"\n",
       " \"47-63,46-68\""
      ]
     },
     "metadata": {},
     "output_type": "display_data"
    }
   ],
   "source": [
    "f = readlines(\"day4.input\")"
   ]
  },
  {
   "cell_type": "code",
   "execution_count": 2,
   "metadata": {},
   "outputs": [
    {
     "data": {
      "text/plain": [
       "Range"
      ]
     },
     "metadata": {},
     "output_type": "display_data"
    }
   ],
   "source": [
    "struct Range\n",
    "    start::Int64\n",
    "    finish::Int64\n",
    "    length::Int64\n",
    "end\n",
    "function Range(start, finish)\n",
    "    Range(start, finish, 1 + finish - start)\n",
    "end"
   ]
  },
  {
   "cell_type": "code",
   "execution_count": 3,
   "metadata": {},
   "outputs": [
    {
     "data": {
      "text/plain": [
       "parse_range (generic function with 1 method)"
      ]
     },
     "metadata": {},
     "output_type": "display_data"
    }
   ],
   "source": [
    "function parse_range(string_range)\n",
    "    start_section, end_section = split(string_range, '-')\n",
    "    Range(parse(Int64, start_section), parse(Int64, end_section))\n",
    "end"
   ]
  },
  {
   "cell_type": "code",
   "execution_count": 4,
   "metadata": {},
   "outputs": [
    {
     "data": {
      "text/plain": [
       "parse_line (generic function with 1 method)"
      ]
     },
     "metadata": {},
     "output_type": "display_data"
    }
   ],
   "source": [
    "function parse_line(line)\n",
    "    parse_range.(split(line, ','))\n",
    "end"
   ]
  },
  {
   "cell_type": "code",
   "execution_count": 5,
   "metadata": {},
   "outputs": [
    {
     "data": {
      "text/plain": [
       "is_one_contained (generic function with 1 method)"
      ]
     },
     "metadata": {},
     "output_type": "display_data"
    }
   ],
   "source": [
    "function is_one_contained(range1, range2)\n",
    "    if range1.length < range2.length\n",
    "        smaller, larger = range1, range2\n",
    "    else\n",
    "        larger, smaller = range1, range2\n",
    "    end\n",
    "    smaller.start >= larger.start && smaller.finish <= larger.finish\n",
    "end"
   ]
  },
  {
   "cell_type": "code",
   "execution_count": 6,
   "metadata": {},
   "outputs": [
    {
     "data": {
      "text/plain": [
       "is_any_overlap (generic function with 1 method)"
      ]
     },
     "metadata": {},
     "output_type": "display_data"
    }
   ],
   "source": [
    "function is_any_overlap(range1, range2)\n",
    "    (range1.start >= range2.start && range1.start <= range2.finish) || (range1.finish >= range2.start && range1.finish <= range2.finish)\n",
    "\n",
    "end"
   ]
  },
  {
   "cell_type": "code",
   "execution_count": 7,
   "metadata": {},
   "outputs": [
    {
     "data": {
      "text/plain": [
       "(477, 830)"
      ]
     },
     "metadata": {},
     "output_type": "display_data"
    }
   ],
   "source": [
    "part1, part2 = 0, 0\n",
    "for puzzle in parse_line.(f)\n",
    "    if is_one_contained(puzzle...)\n",
    "        part1 += 1\n",
    "    end\n",
    "    if is_any_overlap(puzzle[1], puzzle[2]) || is_any_overlap(puzzle[2], puzzle[1])\n",
    "        part2 += 1\n",
    "    end\n",
    "end\n",
    "\n",
    "(part1, part2)"
   ]
  }
 ],
 "metadata": {
  "kernelspec": {
   "display_name": "Julia 1.8.3",
   "language": "julia",
   "name": "julia-1.8"
  },
  "language_info": {
   "file_extension": ".jl",
   "mimetype": "application/julia",
   "name": "julia",
   "version": "1.8.3"
  },
  "orig_nbformat": 4,
  "vscode": {
   "interpreter": {
    "hash": "a927d3b3a8556dee8e056d2355b59c9c86f8ba8aa64c851cc533da699ac13d07"
   }
  }
 },
 "nbformat": 4,
 "nbformat_minor": 2
}
